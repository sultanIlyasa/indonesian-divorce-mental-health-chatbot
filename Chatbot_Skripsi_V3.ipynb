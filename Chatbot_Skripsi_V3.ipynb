{
  "nbformat": 4,
  "nbformat_minor": 0,
  "metadata": {
    "colab": {
      "provenance": [],
      "gpuType": "T4"
    },
    "kernelspec": {
      "name": "python3",
      "display_name": "Python 3"
    },
    "language_info": {
      "name": "python"
    },
    "accelerator": "GPU"
  },
  "cells": [
    {
      "cell_type": "markdown",
      "source": [
        "# Preparing Dataset & Dependencies"
      ],
      "metadata": {
        "id": "cHxiZjEhdq4o"
      }
    },
    {
      "cell_type": "code",
      "source": [
        "import tensorflow as tf\n",
        "assert tf.__version__.startswith('2')\n",
        "tf.random.set_seed(1234)\n",
        "import tensorflow_datasets as tfds\n",
        "import os\n",
        "import re\n",
        "import numpy as np\n",
        "import pandas as pd\n",
        "import math\n",
        "import pydot\n",
        "import matplotlib.pyplot as plt\n",
        "import graphviz"
      ],
      "metadata": {
        "id": "cMqvgEsSdGEh"
      },
      "execution_count": null,
      "outputs": []
    },
    {
      "cell_type": "code",
      "source": [
        "def preprocess_sentence(sentence):\n",
        "  sentence = sentence.replace('_comma_', ',')\n",
        "  sentence = re.sub(r\"([?.!,])\", r\" \\1 \", sentence)\n",
        "  sentence = re.sub(r'[\" \"]+', \" \", sentence)\n",
        "  sentence = re.sub(r\"[^a-zA-Z?.!,]+\", \" \", sentence)\n",
        "  sentence = re.sub(r\"  \",\"\",sentence)\n",
        "  sentence = sentence.strip()\n",
        "  return sentence\n",
        "\n",
        "MAX_SENTENCE_LENGTH = 128"
      ],
      "metadata": {
        "id": "691j-aVveHNL"
      },
      "execution_count": null,
      "outputs": []
    },
    {
      "cell_type": "code",
      "source": [
        "df = pd.read_csv(\"D:\\skripsi-sultin\\data\\datasets_skripsi_sultan_new - Copy.csv\")"
      ],
      "metadata": {
        "id": "ijmXg6KytWx6"
      },
      "execution_count": null,
      "outputs": []
    },
    {
      "cell_type": "code",
      "source": [
        "##load convo from df and concenatate\n",
        "\n",
        "def load_conversations_from_csv():\n",
        "    inputs, outputs = [], []\n",
        "\n",
        "    for index, row in df.iterrows():\n",
        "        ip = preprocess_sentence(row['question'])\n",
        "        op = preprocess_sentence(row['response'].replace('\\n', ' '))\n",
        "\n",
        "        if len(ip.split())>MAX_SENTENCE_LENGTH:\n",
        "            continue\n",
        "\n",
        "        outputs.append(op)\n",
        "        inputs.append(ip)\n",
        "\n",
        "    return inputs, outputs\n",
        "\n",
        "questions, answers = load_conversations_from_csv()"
      ],
      "metadata": {
        "id": "CafRx02AvUp8"
      },
      "execution_count": null,
      "outputs": []
    },
    {
      "cell_type": "code",
      "source": [
        "print(len(questions))\n",
        "print(len(answers))"
      ],
      "metadata": {
        "id": "RfYxkeoUvjg_",
        "colab": {
          "base_uri": "https://localhost:8080/"
        },
        "outputId": "8307ef0a-53e5-4066-e001-bdea53a84a28"
      },
      "execution_count": null,
      "outputs": [
        {
          "output_type": "stream",
          "name": "stdout",
          "text": [
            "500\n",
            "500\n"
          ]
        }
      ]
    },
    {
      "cell_type": "code",
      "source": [
        "print('Question: ' + questions[41])\n",
        "print('Answer: ' + answers[41])"
      ],
      "metadata": {
        "id": "33q1DBp-vsRv",
        "colab": {
          "base_uri": "https://localhost:8080/"
        },
        "outputId": "d3193058-877d-440f-e6dd-a6aaf3fbc1d1"
      },
      "execution_count": null,
      "outputs": [
        {
          "output_type": "stream",
          "name": "stdout",
          "text": [
            "Question: Bagaimana cara membangun kembali hubungan yang baik dengan kedua orang tua setelah mereka berpisah ?\n",
            "Answer: Setelah perceraian , hubungan dengan kedua orang tua mungkin terasa berbeda , tetapi bukan berarti keterikatan yang sehat tidak bisa terjalin . Cobalah untuk membangun kembali hubungan dengan langkah kecil , seperti menghabiskan waktu bersama dalam suasana yang nyaman atau mengungkapkan perasaan Anda secara terbuka . Ingatlah bahwa Anda tidak harus memilih salah satu orang tua kedua hubungan tersebut tetap penting dan bisa berkembang dengan cara yang unik . Dengan pendekatan yang penuh pengertian , Anda dapat menemukan cara untuk menjaga kedekatan tanpa merasa terjebak dalam konflik masa lalu .\n"
          ]
        }
      ]
    },
    {
      "cell_type": "code",
      "source": [
        "len(questions)\n",
        "len(answers)"
      ],
      "metadata": {
        "id": "zx0UUPhCv9cJ",
        "colab": {
          "base_uri": "https://localhost:8080/"
        },
        "outputId": "196ff911-c942-425f-c416-31b1a9010443"
      },
      "execution_count": null,
      "outputs": [
        {
          "output_type": "execute_result",
          "data": {
            "text/plain": [
              "500"
            ]
          },
          "metadata": {},
          "execution_count": 88
        }
      ]
    },
    {
      "cell_type": "code",
      "source": [
        "tokenizer = tfds.deprecated.text.SubwordTextEncoder.build_from_corpus(\n",
        "    questions + answers, target_vocab_size=2**13)\n",
        "\n",
        "START_TOKEN, END_TOKEN = [tokenizer.vocab_size], [tokenizer.vocab_size + 1]\n",
        "\n",
        "VOCAB_SIZE = tokenizer.vocab_size + 2"
      ],
      "metadata": {
        "id": "f8ffCNcKxn0O"
      },
      "execution_count": null,
      "outputs": []
    },
    {
      "cell_type": "code",
      "source": [
        "print('Tokenized sample question: {}'.format(tokenizer.encode(questions[27])))\n"
      ],
      "metadata": {
        "id": "QZZpRvIY0pe9",
        "colab": {
          "base_uri": "https://localhost:8080/"
        },
        "outputId": "b047ef57-d00e-4ca3-e349-b96e2d876d43"
      },
      "execution_count": null,
      "outputs": [
        {
          "output_type": "stream",
          "name": "stdout",
          "text": [
            "Tokenized sample question: [51, 134, 98, 257, 64, 5, 18, 1, 635, 583, 274, 13]\n"
          ]
        }
      ]
    },
    {
      "cell_type": "code",
      "source": [
        "def tokenize_and_filter(inputs, outputs):\n",
        "    tokenized_inputs, tokenized_outputs = [], []\n",
        "\n",
        "    for (sentence1, sentence2) in zip(inputs, outputs):\n",
        "        # Tokenize sentences\n",
        "        sentence1 = START_TOKEN + tokenizer.encode(sentence1) + END_TOKEN\n",
        "        sentence2 = START_TOKEN + tokenizer.encode(sentence2) + END_TOKEN\n",
        "\n",
        "        # Check tokenized sentence max length\n",
        "        if len(sentence1) <= MAX_SENTENCE_LENGTH and len(sentence2) <= MAX_SENTENCE_LENGTH:\n",
        "            tokenized_inputs.append(sentence1)\n",
        "            tokenized_outputs.append(sentence2)\n",
        "\n",
        "    # Pad tokenized sentences\n",
        "    tokenized_inputs = tf.keras.preprocessing.sequence.pad_sequences(\n",
        "        tokenized_inputs, maxlen=MAX_SENTENCE_LENGTH, padding='post'\n",
        "    )\n",
        "    tokenized_outputs = tf.keras.preprocessing.sequence.pad_sequences(\n",
        "        tokenized_outputs, maxlen=MAX_SENTENCE_LENGTH, padding='post'\n",
        "    )\n",
        "\n",
        "    # Convert to numpy arrays\n",
        "    return np.array(tokenized_inputs, dtype=np.int32), np.array(tokenized_outputs, dtype=np.int32)\n",
        "\n",
        "\n",
        "# Ensure questions & answers contain raw text before passing them in\n",
        "questions_raw, answers_raw = questions, answers\n",
        "questions, answers = tokenize_and_filter(questions_raw, answers_raw)\n",
        "\n",
        "print(\"Tokenized questions shape:\", questions.shape)\n",
        "print(\"Tokenized answers shape:\", answers.shape)\n"
      ],
      "metadata": {
        "id": "bLbdAjlw0tV4",
        "colab": {
          "base_uri": "https://localhost:8080/"
        },
        "outputId": "f061a32a-3bca-441c-aad5-869d3b6ffb02"
      },
      "execution_count": null,
      "outputs": [
        {
          "output_type": "stream",
          "name": "stdout",
          "text": [
            "Tokenized questions shape: (500, 128)\n",
            "Tokenized answers shape: (500, 128)\n"
          ]
        }
      ]
    },
    {
      "cell_type": "code",
      "source": [
        "print('Vocab size: {}'.format(VOCAB_SIZE))\n",
        "print('Number of samples: {}'.format(len(questions)))"
      ],
      "metadata": {
        "id": "zbDORvzy0wP2",
        "colab": {
          "base_uri": "https://localhost:8080/"
        },
        "outputId": "4643c3e8-6787-4e93-9403-89fc7bec1d87"
      },
      "execution_count": null,
      "outputs": [
        {
          "output_type": "stream",
          "name": "stdout",
          "text": [
            "Vocab size: 2462\n",
            "Number of samples: 500\n"
          ]
        }
      ]
    },
    {
      "cell_type": "code",
      "source": [
        "# prompt: save tokenizer\n",
        "\n",
        "tokenizer.save_to_file('tokenizer_vocab')\n"
      ],
      "metadata": {
        "id": "F5XbSc09kGDZ"
      },
      "execution_count": null,
      "outputs": []
    },
    {
      "cell_type": "code",
      "source": [
        "BATCH_SIZE = 8\n",
        "BUFFER_SIZE = 20000\n",
        "\n",
        "dataset = tf.data.Dataset.from_tensor_slices((\n",
        "    {\n",
        "        'inputs': tf.convert_to_tensor(questions, dtype=tf.int32),\n",
        "        'dec_inputs': tf.convert_to_tensor(answers[:, :-1], dtype=tf.int32)\n",
        "    },\n",
        "    tf.convert_to_tensor(answers[:, 1:], dtype=tf.int32)  # <-- Not a dict\n",
        "))\n",
        "\n",
        "dataset = dataset.cache()\n",
        "dataset = dataset.shuffle(BUFFER_SIZE)\n",
        "dataset = dataset.batch(BATCH_SIZE)\n",
        "dataset = dataset.prefetch(tf.data.experimental.AUTOTUNE)\n",
        "\n",
        "print(\"Dataset element spec:\", dataset.element_spec)\n"
      ],
      "metadata": {
        "id": "MXFfnAmy0zCO",
        "colab": {
          "base_uri": "https://localhost:8080/"
        },
        "outputId": "2a1ba836-6182-4351-a1d0-5ad41650cc03"
      },
      "execution_count": null,
      "outputs": [
        {
          "output_type": "stream",
          "name": "stdout",
          "text": [
            "Dataset element spec: ({'inputs': TensorSpec(shape=(None, 128), dtype=tf.int32, name=None), 'dec_inputs': TensorSpec(shape=(None, 127), dtype=tf.int32, name=None)}, TensorSpec(shape=(None, 127), dtype=tf.int32, name=None))\n"
          ]
        }
      ]
    },
    {
      "cell_type": "code",
      "source": [
        "print(dataset)"
      ],
      "metadata": {
        "id": "x6Z979JE009Z",
        "colab": {
          "base_uri": "https://localhost:8080/"
        },
        "outputId": "4e1cea4d-3fb6-4334-c376-85f64d49c50f"
      },
      "execution_count": null,
      "outputs": [
        {
          "output_type": "stream",
          "name": "stdout",
          "text": [
            "<_PrefetchDataset element_spec=({'inputs': TensorSpec(shape=(None, 128), dtype=tf.int32, name=None), 'dec_inputs': TensorSpec(shape=(None, 127), dtype=tf.int32, name=None)}, TensorSpec(shape=(None, 127), dtype=tf.int32, name=None))>\n"
          ]
        }
      ]
    },
    {
      "cell_type": "markdown",
      "source": [
        "# Attention"
      ],
      "metadata": {
        "id": "vJrBgesq07cb"
      }
    },
    {
      "cell_type": "code",
      "source": [
        "# Function = To compute the attention output given query, key, and value matrices,\n",
        "# optionally applying a mask to ignore irrelevant tokens (e.g., padding or future tokens in decoding).\n",
        "\n",
        "def scaled_dot_product_attention(query, key, value, mask=None):\n",
        "\n",
        "  # Ensure all input tensors are in the same datatype (float32) for consistency and safe numerical operations.\n",
        "  # Step 1: Ensure tensors are float32\n",
        "  \"\"\"Calculate the attention weights.\"\"\"\n",
        "  query = tf.cast(query, tf.float32)\n",
        "  key = tf.cast(key, tf.float32)\n",
        "  value = tf.cast(value, tf.float32)\n",
        "  print(f\"Query shape: {query.shape}\")\n",
        "  print(f\"Key shape: {key.shape}\")\n",
        "  print(f\"Value shape: {value.shape}\")\n",
        "\n",
        "  # This computes the raw attention scores by taking the dot product between query\n",
        "  # and the transpose of key. The result tells you how much each word should attend to every other word.\n",
        "  # Step 2: Q @ K^T\n",
        "  matmul_qk = tf.matmul(query, key, transpose_b=True)\n",
        "  print(f\"\\nQ × Kᵀ shape: {matmul_qk.shape}\")\n",
        "\n",
        "\n",
        "  # This scales down the attention scores by the square root of the key dimension to avoid extremely large values, which can destabilize training.\n",
        "  # Step 3: Scale by sqrt(depth)\n",
        "  depth = tf.cast(tf.shape(key)[-1], tf.float32)\n",
        "  logits = matmul_qk / tf.math.sqrt(depth)\n",
        "  print(\"Scaled logits shape:\", logits.shape)\n",
        "\n",
        "  # If a mask is provided (e.g., for padding or future tokens),\n",
        "  # it adds a large negative value (-1e9) to the masked positions so that their softmax becomes near-zero, effectively ignoring them.\n",
        "  # Step 4: Add mask (if provided)\n",
        "  if mask is not None:\n",
        "    logits += (mask * -1e9)\n",
        "    print(\"Applied mask.\")\n",
        "\n",
        "  # Converts the scaled scores into normalized attention weights.\n",
        "  # The axis=-1 means softmax is applied across the last dimension (i.e., over all keys for each query).\n",
        "  # Step 5: Softmax to get attention weights\n",
        "  attention_weights = tf.nn.softmax(logits, axis=-1)\n",
        "  print(\"Attention weights shape:\", attention_weights.shape)\n",
        "\n",
        "  #Computes the final attention output by taking the weighted sum of value vectors,\n",
        "  #where the weights come from the attention scores. This produces a new representation that focuses on the most relevant parts of the input.\n",
        "  # Step 6: Attention weights @ V\n",
        "  output = tf.matmul(attention_weights, value)\n",
        "  print(\"Final output shape:\", output.shape)\n",
        "\n",
        "  return output"
      ],
      "metadata": {
        "id": "QMmVs6Tb0936"
      },
      "execution_count": null,
      "outputs": []
    },
    {
      "cell_type": "code",
      "source": [
        "# Simulated input (batch_size=1, seq_len=6, d_model=512)\n",
        "batch_size = 1\n",
        "seq_len = 6\n",
        "d_model = 512\n",
        "\n",
        "q = tf.random.uniform((batch_size, seq_len, d_model))  # shape: (1, 6, 512)\n",
        "k = tf.random.uniform((batch_size, seq_len, d_model))  # shape: (1, 6, 512)\n",
        "v = tf.random.uniform((batch_size, seq_len, d_model))  # shape: (1, 6, 512)\n",
        "\n",
        "# Apply attention\n",
        "output = scaled_dot_product_attention(q, k, v)\n",
        "\n",
        "print(\"\\nFinal attention output (values only shown truncated):\")\n",
        "print(output.numpy()[0][:2])  # Print only first 2 output vectors for brevity"
      ],
      "metadata": {
        "colab": {
          "base_uri": "https://localhost:8080/"
        },
        "id": "oDUsQUHkdi7W",
        "outputId": "da510d4c-364a-4adc-e7dd-7fa27867ea1c"
      },
      "execution_count": null,
      "outputs": [
        {
          "output_type": "stream",
          "name": "stdout",
          "text": [
            "Query shape: (1, 6, 512)\n",
            "Key shape: (1, 6, 512)\n",
            "Value shape: (1, 6, 512)\n",
            "\n",
            "Q × Kᵀ shape: (1, 6, 6)\n",
            "Scaled logits shape: (1, 6, 6)\n",
            "Attention weights shape: (1, 6, 6)\n",
            "Final output shape: (1, 6, 512)\n",
            "\n",
            "Final attention output (values only shown truncated):\n",
            "[[0.45498696 0.4432221  0.39133194 ... 0.38996    0.54827297 0.72887117]\n",
            " [0.44566947 0.4468937  0.37181562 ... 0.38027588 0.520456   0.7100762 ]]\n"
          ]
        }
      ]
    },
    {
      "cell_type": "code",
      "source": [
        "class MultiHeadAttention(tf.keras.layers.Layer):\n",
        "\n",
        "  def __init__(self, d_model, num_heads, name=\"multi_head_attention\"):\n",
        "    super(MultiHeadAttention, self).__init__(name=name)\n",
        "    self.num_heads = num_heads\n",
        "    self.d_model = d_model\n",
        "\n",
        "    assert d_model % self.num_heads == 0\n",
        "\n",
        "    self.depth = d_model // self.num_heads\n",
        "\n",
        "    self.query_dense = tf.keras.layers.Dense(units=d_model)\n",
        "    self.key_dense = tf.keras.layers.Dense(units=d_model)\n",
        "    self.value_dense = tf.keras.layers.Dense(units=d_model)\n",
        "\n",
        "    self.dense = tf.keras.layers.Dense(units=d_model)\n",
        "\n",
        "  def split_heads(self, inputs, batch_size):\n",
        "    inputs = tf.reshape(\n",
        "        inputs, shape=(batch_size, -1, self.num_heads, self.depth))\n",
        "    return tf.transpose(inputs, perm=[0, 2, 1, 3])\n",
        "\n",
        "  def call(self, inputs):\n",
        "    query, key, value, mask = inputs['query'], inputs['key'], inputs['value'], inputs['mask']\n",
        "    batch_size = tf.shape(query)[0]\n",
        "\n",
        "    # linear layers, Transforms the inputs into Q, K, and V vectors.\n",
        "    query = self.query_dense(query)\n",
        "    key = self.key_dense(key)\n",
        "    value = self.value_dense(value)\n",
        "\n",
        "    # split heads\n",
        "    query = self.split_heads(query, batch_size)\n",
        "    key = self.split_heads(key, batch_size)\n",
        "    value = self.split_heads(value, batch_size)\n",
        "\n",
        "    # Apply scaled dot-product attention\n",
        "    scaled_attention = scaled_dot_product_attention(query, key, value, mask)\n",
        "\n",
        "    scaled_attention = tf.transpose(scaled_attention, perm=[0, 2, 1, 3])\n",
        "\n",
        "    # concatenation of heads, Concatenate all heads back\n",
        "    concat_attention = tf.reshape(scaled_attention,\n",
        "                                  (batch_size, -1, self.d_model))\n",
        "\n",
        "    # final linear layer\n",
        "    outputs = self.dense(concat_attention)\n",
        "\n",
        "    return outputs"
      ],
      "metadata": {
        "id": "e-tUk8wJ1A4E"
      },
      "execution_count": null,
      "outputs": []
    },
    {
      "cell_type": "markdown",
      "source": [
        "# Transformer\n",
        "Masking"
      ],
      "metadata": {
        "id": "1X95jy_Z1DTK"
      }
    },
    {
      "cell_type": "code",
      "source": [
        "# This function generates a padding mask used in Transformer models to prevent the model from attending to padding tokens (value 0) during training or inference.\n",
        "# Padding mask: Masks out padding tokens (0) so the model doesn't pay attention to them.\n",
        "def create_padding_mask(x):\n",
        "  #\n",
        "  mask = tf.cast(tf.math.equal(x, 0), tf.float32) #This returns a boolean tensor where each True indicates a padding token (0).\n",
        "  # (batch_size, 1, 1, sequence length)\n",
        "  return mask[:, tf.newaxis, tf.newaxis, :]"
      ],
      "metadata": {
        "id": "krGF7yZW1H2M"
      },
      "execution_count": null,
      "outputs": []
    },
    {
      "cell_type": "code",
      "source": [
        "#This is a batch of 2 sequences (batch size = 2), each of length 5. 0 is used as the padding token.\n",
        "print(create_padding_mask(tf.constant([[1, 2, 0, 3, 0],\n",
        "                                       [0, 0, 0, 4, 5]])))\n",
        "# 2: batch size (2 sequences)\n",
        "# 1: broadcast over all attention heads\n",
        "# 1: broadcast over all query positions\n",
        "# 5: sequence length (so model knows which positions to mask)"
      ],
      "metadata": {
        "id": "94nn4OKt1KK7",
        "colab": {
          "base_uri": "https://localhost:8080/"
        },
        "outputId": "8edce317-1bd5-4ae4-854e-e38df273c0e4"
      },
      "execution_count": null,
      "outputs": [
        {
          "output_type": "stream",
          "name": "stdout",
          "text": [
            "tf.Tensor(\n",
            "[[[[0. 0. 1. 0. 1.]]]\n",
            "\n",
            "\n",
            " [[[1. 1. 1. 0. 0.]]]], shape=(2, 1, 1, 5), dtype=float32)\n"
          ]
        }
      ]
    },
    {
      "cell_type": "code",
      "source": [
        "# Look-ahead mask: Prevents the decoder from \"cheating\" by looking at future tokens during training\n",
        "# Combines look-ahead and padding masking This ensures that:\n",
        "# The decoder doesn't peek into future tokens.\n",
        "# Padding tokens are also masked out.\n",
        "def create_look_ahead_mask(x):\n",
        "  seq_len = tf.shape(x)[1]  #Get Sequence Length\n",
        "  look_ahead_mask = 1 - tf.linalg.band_part(tf.ones((seq_len, seq_len)), -1, 0)\n",
        "#  [[0. 1. 1. 1. 1.]\n",
        "#  [0. 0. 1. 1. 1.]\n",
        "#  [0. 0. 0. 1. 1.]\n",
        "#  [0. 0. 0. 0. 1.]\n",
        "#  [0. 0. 0. 0. 0.]]\n",
        "\n",
        "#  Combine Both Masks\n",
        "  padding_mask = create_padding_mask(x)\n",
        "  return tf.maximum(look_ahead_mask, padding_mask)"
      ],
      "metadata": {
        "id": "G4DaQnr91OvP"
      },
      "execution_count": null,
      "outputs": []
    },
    {
      "cell_type": "code",
      "source": [
        "print(create_look_ahead_mask(tf.constant([[1, 2, 0, 4, 5]])))\n",
        "# 1\tbatch size (only 1 input sequence)\n",
        "# 1\tnumber of attention heads\n",
        "# 5\tquery positions (i.e., where we are attending from)\n",
        "# 5\tkey positions (i.e., where we are attending to)"
      ],
      "metadata": {
        "id": "97i5zrUe1Pao",
        "colab": {
          "base_uri": "https://localhost:8080/"
        },
        "outputId": "e1a4f47c-2c78-46d9-ec10-a23c1242331a"
      },
      "execution_count": null,
      "outputs": [
        {
          "output_type": "stream",
          "name": "stdout",
          "text": [
            "tf.Tensor(\n",
            "[[[[0. 1. 1. 1. 1.]\n",
            "   [0. 0. 1. 1. 1.]\n",
            "   [0. 0. 1. 1. 1.]\n",
            "   [0. 0. 1. 0. 1.]\n",
            "   [0. 0. 1. 0. 0.]]]], shape=(1, 1, 5, 5), dtype=float32)\n"
          ]
        }
      ]
    },
    {
      "cell_type": "markdown",
      "source": [
        "Positional Encoding"
      ],
      "metadata": {
        "id": "SBXxQD5n1Sz1"
      }
    },
    {
      "cell_type": "code",
      "source": [
        "# Transformers don't have recurrence or convolution, so they lack any built-in notion of token order.\n",
        "# To fix this, we inject position information into input embeddings using sinusoidal functions.\n",
        "class PositionalEncoding(tf.keras.layers.Layer):\n",
        "    def __init__(self, position, d_model):\n",
        "        super(PositionalEncoding, self).__init__()\n",
        "        self.pos_encoding = self.positional_encoding(position, d_model)\n",
        "\n",
        "    def get_angles(self, position, i, d_model):\n",
        "        angles = 1 / tf.pow(10000, (2 * (i // 2)) / tf.cast(d_model, tf.float32))\n",
        "        return position * angles\n",
        "\n",
        "    def positional_encoding(self, position, d_model):\n",
        "        angle_rads = self.get_angles(\n",
        "            position=tf.range(position, dtype=tf.float32)[:, tf.newaxis],\n",
        "            i=tf.range(d_model, dtype=tf.float32)[tf.newaxis, :],\n",
        "            d_model=d_model\n",
        "        )\n",
        "\n",
        "        # Apply sin to even indices in the array\n",
        "        sines = tf.math.sin(angle_rads[:, 0::2])\n",
        "\n",
        "        # Apply cos to odd indices in the array\n",
        "        cosines = tf.math.cos(angle_rads[:, 1::2])\n",
        "\n",
        "        pos_encoding = tf.concat([sines, cosines], axis=-1)\n",
        "        pos_encoding = pos_encoding[tf.newaxis, ...]\n",
        "\n",
        "        return tf.cast(pos_encoding, tf.float32)\n",
        "\n",
        "    def call(self, inputs):\n",
        "        # Make sure inputs are dense tensors\n",
        "        if isinstance(inputs, tf.SparseTensor):\n",
        "            inputs = tf.sparse.to_dense(inputs)\n",
        "\n",
        "        # Add positional encoding\n",
        "        return inputs + self.pos_encoding[:, :tf.shape(inputs)[1], :]\n",
        "\n",
        "    def compute_output_shape(self, input_shape):\n",
        "        return input_shape"
      ],
      "metadata": {
        "id": "4GQVrGkq1VeK"
      },
      "execution_count": null,
      "outputs": []
    },
    {
      "cell_type": "code",
      "source": [
        "sample_pos_encoding = PositionalEncoding(50, 512)\n",
        "\n",
        "plt.pcolormesh(sample_pos_encoding.pos_encoding.numpy()[0], cmap='RdBu')\n",
        "plt.xlabel('Depth')\n",
        "plt.xlim((0, 512))\n",
        "plt.ylabel('Position')\n",
        "plt.colorbar()\n",
        "plt.show()"
      ],
      "metadata": {
        "id": "oZUqX9Az1Ygn",
        "colab": {
          "base_uri": "https://localhost:8080/",
          "height": 455
        },
        "outputId": "04fe21fd-eb88-4fb1-c37e-a52503368bb6"
      },
      "execution_count": null,
      "outputs": [
        {
          "output_type": "display_data",
          "data": {
            "text/plain": [
              "<Figure size 640x480 with 2 Axes>"
            ],
            "image/png": "[encoded data removed]"
          },
          "metadata": {}
        }
      ]
    },
    {
      "cell_type": "markdown",
      "source": [
        "# Encoder Layer\n",
        "Each encoder layer consists of sublayers:\n",
        "\n",
        "\n",
        "\n",
        "1.   Multi-head attention (with padding mask)\n",
        "2.   2 dense layers followed by dropout\n",
        "\n",
        "\n"
      ],
      "metadata": {
        "id": "RebwUoHx1cIn"
      }
    },
    {
      "cell_type": "code",
      "source": [
        "def encoder_layer(units, d_model, num_heads, dropout, name=\"encoder_layer\"):\n",
        "    inputs = tf.keras.Input(shape=(None, d_model), name=\"inputs\")\n",
        "    padding_mask = tf.keras.Input(shape=(1, 1, None), name=\"padding_mask\")\n",
        "\n",
        "    # Multi-head attention\n",
        "    attention = tf.keras.layers.MultiHeadAttention(\n",
        "        num_heads=num_heads, key_dim=d_model // num_heads, dropout=dropout\n",
        "    )(\n",
        "        query=inputs, value=inputs, key=inputs, attention_mask=padding_mask\n",
        "    )\n",
        "\n",
        "    # Add & normalize\n",
        "    attention = tf.keras.layers.Dropout(rate=dropout)(attention)\n",
        "    attention = tf.keras.layers.LayerNormalization(epsilon=1e-6)(inputs + attention)\n",
        "\n",
        "    # Feed-forward network\n",
        "    outputs = tf.keras.layers.Dense(units, activation=\"relu\")(attention)\n",
        "    outputs = tf.keras.layers.Dense(d_model)(outputs)\n",
        "\n",
        "    # Add & normalize\n",
        "    outputs = tf.keras.layers.Dropout(rate=dropout)(outputs)\n",
        "    outputs = tf.keras.layers.LayerNormalization(epsilon=1e-6)(attention + outputs)\n",
        "\n",
        "    return tf.keras.Model(inputs=[inputs, padding_mask], outputs=outputs, name=name)"
      ],
      "metadata": {
        "id": "tKaKMuTF1e4v"
      },
      "execution_count": null,
      "outputs": []
    },
    {
      "cell_type": "code",
      "source": [
        "sample_encoder_layer = encoder_layer(\n",
        "    units=512,\n",
        "    d_model=256,\n",
        "    num_heads=8,\n",
        "    dropout=0.1,\n",
        "    name=\"our_encoder_layer\")\n",
        "\n",
        "tf.keras.utils.plot_model(\n",
        "    sample_encoder_layer,\n",
        "    to_file='encoder_layer.png',\n",
        "    show_shapes=True,\n",
        "    show_layer_names=True,\n",
        "    rankdir='TB'  # Top to Bottom layout\n",
        ")\n"
      ],
      "metadata": {
        "collapsed": true,
        "id": "mikW8AbF1qoo"
      },
      "execution_count": null,
      "outputs": []
    },
    {
      "cell_type": "markdown",
      "source": [
        "# Encoder\n",
        "The Encoder consist of\n",
        "\n",
        "\n",
        "1.   Input Embedding\n",
        "2.   Positional Encoding\n",
        "3.   num_layers encoder layers\n",
        "\n",
        "\n"
      ],
      "metadata": {
        "id": "BtCGXqCg10mK"
      }
    },
    {
      "cell_type": "code",
      "source": [
        "def encoder(vocab_size, num_layers, units, d_model, num_heads, dropout, name=\"encoder\"):\n",
        "    inputs = tf.keras.Input(shape=(None,), name=\"inputs\")\n",
        "    padding_mask = tf.keras.Input(shape=(1, 1, None), name=\"padding_mask\")\n",
        "\n",
        "    # Make sure we're using dense embeddings\n",
        "    embeddings = tf.keras.layers.Embedding(vocab_size, d_model)(inputs)\n",
        "    embeddings *= tf.math.sqrt(tf.cast(d_model, tf.float32))\n",
        "\n",
        "    # Add positional encoding\n",
        "    positional_encoding = PositionalEncoding(vocab_size, d_model)\n",
        "    outputs = positional_encoding(embeddings)\n",
        "\n",
        "    outputs = tf.keras.layers.Dropout(rate=dropout)(outputs)\n",
        "\n",
        "    # Stack encoder layers\n",
        "    for i in range(num_layers):\n",
        "        enc_layer = encoder_layer(\n",
        "            units=units,\n",
        "            d_model=d_model,\n",
        "            num_heads=num_heads,\n",
        "            dropout=dropout,\n",
        "            name=f\"encoder_layer_{i}\"\n",
        "        )\n",
        "        outputs = enc_layer([outputs, padding_mask])\n",
        "\n",
        "    return tf.keras.Model(inputs=[inputs, padding_mask], outputs=outputs, name=name)"
      ],
      "metadata": {
        "id": "MMxDuKNT15d0"
      },
      "execution_count": null,
      "outputs": []
    },
    {
      "cell_type": "code",
      "source": [
        "sample_encoder = encoder(\n",
        "    vocab_size=8515,\n",
        "    num_layers=2,\n",
        "    units=512,\n",
        "    d_model=256,\n",
        "    num_heads=8,\n",
        "    dropout=0.1,\n",
        "    name=\"our_encoder\")\n",
        "\n",
        "tf.keras.utils.plot_model(\n",
        "   sample_encoder, to_file='encoder.png', show_shapes=True)"
      ],
      "metadata": {
        "collapsed": true,
        "id": "R41uQ8G22FU7",
        "colab": {
          "base_uri": "https://localhost:8080/"
        },
        "outputId": "85ca8689-613f-4681-b320-a4e632d0f0de"
      },
      "execution_count": null,
      "outputs": [
        {
          "output_type": "stream",
          "name": "stdout",
          "text": [
            "You must install graphviz (see instructions at https://graphviz.gitlab.io/download/) for `plot_model` to work.\n"
          ]
        }
      ]
    },
    {
      "cell_type": "markdown",
      "source": [
        "# Decoder Layer\n",
        "\n",
        "\n",
        "1.  Masked multi-head attention (with look ahead mask and padding mask)\n",
        "\n",
        "2.  Multi-head attention (with padding mask). value and key receive the encoder output as inputs. query receives the output from the masked multi-head attention sublayer.\n",
        "3. 2 dense layers followed by dropout\n",
        "\n"
      ],
      "metadata": {
        "id": "S1-LYJg23l4i"
      }
    },
    {
      "cell_type": "code",
      "source": [
        "def decoder_layer(units, d_model, num_heads, dropout, name=\"decoder_layer\"):\n",
        "  inputs = tf.keras.Input(shape=(None, d_model), name=\"inputs\")\n",
        "  enc_outputs = tf.keras.Input(shape=(None, d_model), name=\"encoder_outputs\")\n",
        "  look_ahead_mask = tf.keras.Input(\n",
        "      shape=(1, None, None), name=\"look_ahead_mask\")\n",
        "  padding_mask = tf.keras.Input(shape=(1, 1, None), name='padding_mask')\n",
        "\n",
        "  attention1 = MultiHeadAttention(\n",
        "      d_model, num_heads, name=\"attention_1\")(inputs={\n",
        "          'query': inputs,\n",
        "          'key': inputs,\n",
        "          'value': inputs,\n",
        "          'mask': look_ahead_mask\n",
        "      })\n",
        "  attention1 = tf.keras.layers.LayerNormalization(\n",
        "      epsilon=1e-6)(attention1 + inputs)\n",
        "\n",
        "  attention2 = MultiHeadAttention(\n",
        "      d_model, num_heads, name=\"attention_2\")(inputs={\n",
        "          'query': attention1,\n",
        "          'key': enc_outputs,\n",
        "          'value': enc_outputs,\n",
        "          'mask': padding_mask\n",
        "      })\n",
        "  attention2 = tf.keras.layers.Dropout(rate=dropout)(attention2)\n",
        "  attention2 = tf.keras.layers.LayerNormalization(\n",
        "      epsilon=1e-6)(attention2 + attention1)\n",
        "\n",
        "  outputs = tf.keras.layers.Dense(units=units, activation='relu')(attention2)\n",
        "  outputs = tf.keras.layers.Dense(units=d_model)(outputs)\n",
        "  outputs = tf.keras.layers.Dropout(rate=dropout)(outputs)\n",
        "  outputs = tf.keras.layers.LayerNormalization(\n",
        "      epsilon=1e-6)(outputs + attention2)\n",
        "\n",
        "  return tf.keras.Model(\n",
        "      inputs=[inputs, enc_outputs, look_ahead_mask, padding_mask],\n",
        "      outputs=outputs,\n",
        "      name=name)"
      ],
      "metadata": {
        "id": "g8PuSdSJ37j6"
      },
      "execution_count": null,
      "outputs": []
    },
    {
      "cell_type": "code",
      "source": [
        "sample_decoder_layer = decoder_layer(\n",
        "    units=512,\n",
        "    d_model=256,\n",
        "    num_heads=8,\n",
        "    dropout=0.1,\n",
        "    name=\"our_decoder_layer\")\n",
        "\n",
        "tf.keras.utils.plot_model(\n",
        "    sample_decoder_layer, to_file='decoder_layer.png', show_shapes=True)"
      ],
      "metadata": {
        "collapsed": true,
        "id": "iIGYarSx4L9O",
        "colab": {
          "base_uri": "https://localhost:8080/"
        },
        "outputId": "34f4f7a1-1b97-44a6-cbcb-fea0e8f2e704"
      },
      "execution_count": null,
      "outputs": [
        {
          "output_type": "stream",
          "name": "stdout",
          "text": [
            "WARNING:tensorflow:From D:\\skripsi-sultin\\source\\final\\venv\\Lib\\site-packages\\keras\\src\\backend\\tensorflow\\core.py:219: The name tf.placeholder is deprecated. Please use tf.compat.v1.placeholder instead.\n",
            "\n",
            "Query shape: (None, 8, None, 32)\n",
            "Key shape: (None, 8, None, 32)\n",
            "Value shape: (None, 8, None, 32)\n",
            "\n",
            "Q × Kᵀ shape: (None, 8, None, None)\n",
            "Scaled logits shape: (None, 8, None, None)\n",
            "Applied mask.\n",
            "Attention weights shape: (None, 8, None, None)\n",
            "Final output shape: (None, 8, None, 32)\n",
            "Query shape: (None, 8, None, 32)\n",
            "Key shape: (None, 8, None, 32)\n",
            "Value shape: (None, 8, None, 32)\n",
            "\n",
            "Q × Kᵀ shape: (None, 8, None, None)\n",
            "Scaled logits shape: (None, 8, None, None)\n",
            "Applied mask.\n",
            "Attention weights shape: (None, 8, None, None)\n",
            "Final output shape: (None, 8, None, 32)\n",
            "Query shape: (None, 8, None, 32)\n",
            "Key shape: (None, 8, None, 32)\n",
            "Value shape: (None, 8, None, 32)\n",
            "\n",
            "Q × Kᵀ shape: (None, 8, None, None)\n",
            "Scaled logits shape: (None, 8, None, None)\n",
            "Applied mask.\n",
            "Attention weights shape: (None, 8, None, None)\n",
            "Final output shape: (None, 8, None, 32)\n",
            "Query shape: (None, 8, None, 32)\n",
            "Key shape: (None, 8, None, 32)\n",
            "Value shape: (None, 8, None, 32)\n",
            "\n",
            "Q × Kᵀ shape: (None, 8, None, None)\n",
            "Scaled logits shape: (None, 8, None, None)\n",
            "Applied mask.\n",
            "Attention weights shape: (None, 8, None, None)\n",
            "Final output shape: (None, 8, None, 32)\n",
            "You must install graphviz (see instructions at https://graphviz.gitlab.io/download/) for `plot_model` to work.\n"
          ]
        }
      ]
    },
    {
      "cell_type": "markdown",
      "source": [
        "# Decoder\n",
        "\n",
        "\n",
        "1.   Output Embedding\n",
        "2.   Positional Encoding\n",
        "3.   N decoder layers\n",
        "\n"
      ],
      "metadata": {
        "id": "btfLCTsZ4Pd2"
      }
    },
    {
      "cell_type": "code",
      "source": [
        "def decoder(vocab_size,\n",
        "            num_layers,\n",
        "            units,\n",
        "            d_model,\n",
        "            num_heads,\n",
        "            dropout,\n",
        "            name='decoder'):\n",
        "  inputs = tf.keras.Input(shape=(None,), name='inputs')\n",
        "  enc_outputs = tf.keras.Input(shape=(None, d_model), name='encoder_outputs')\n",
        "  look_ahead_mask = tf.keras.Input(\n",
        "      shape=(1, None, None), name='look_ahead_mask')\n",
        "  padding_mask = tf.keras.Input(shape=(1, 1, None), name='padding_mask')\n",
        "\n",
        "  embeddings = tf.keras.layers.Embedding(vocab_size, d_model)(inputs)\n",
        "  embeddings *= tf.math.sqrt(tf.cast(d_model, tf.float32))\n",
        "  embeddings = PositionalEncoding(vocab_size, d_model)(embeddings)\n",
        "\n",
        "  outputs = tf.keras.layers.Dropout(rate=dropout)(embeddings)\n",
        "\n",
        "  for i in range(num_layers):\n",
        "    outputs = decoder_layer(\n",
        "        units=units,\n",
        "        d_model=d_model,\n",
        "        num_heads=num_heads,\n",
        "        dropout=dropout,\n",
        "        name='decoder_layer_{}'.format(i),\n",
        "    )(inputs=[outputs, enc_outputs, look_ahead_mask, padding_mask])\n",
        "\n",
        "  return tf.keras.Model(\n",
        "      inputs=[inputs, enc_outputs, look_ahead_mask, padding_mask],\n",
        "      outputs=outputs,\n",
        "      name=name)"
      ],
      "metadata": {
        "id": "fXOyYjpi4Y3V"
      },
      "execution_count": null,
      "outputs": []
    },
    {
      "cell_type": "code",
      "source": [
        "sample_decoder = decoder(\n",
        "    vocab_size=8515,\n",
        "    num_layers=2,\n",
        "    units=512,\n",
        "    d_model=256,\n",
        "    num_heads=8,\n",
        "    dropout=0.1,\n",
        "    name=\"our_decoder\")\n",
        "\n",
        "tf.keras.utils.plot_model(\n",
        "    sample_decoder, to_file='decoder.png', show_shapes=True)"
      ],
      "metadata": {
        "collapsed": true,
        "id": "OrvBJNBK4Zx6"
      },
      "execution_count": null,
      "outputs": []
    },
    {
      "cell_type": "markdown",
      "source": [
        "# Transformers\n",
        "Transformer consists of the encoder, decoder and a final linear layer. The output of the decoder is the input to the linear layer and its output is returned."
      ],
      "metadata": {
        "id": "4tUScI0_4eJ2"
      }
    },
    {
      "cell_type": "code",
      "source": [
        "def transformer(vocab_size,\n",
        "                num_layers,\n",
        "                units,\n",
        "                d_model,\n",
        "                num_heads,\n",
        "                dropout,\n",
        "                name=\"transformer\"):\n",
        "  inputs = tf.keras.Input(shape=(None,), name=\"inputs\")\n",
        "  dec_inputs = tf.keras.Input(shape=(None,), name=\"dec_inputs\")\n",
        "\n",
        "  enc_padding_mask = tf.keras.layers.Lambda(\n",
        "      create_padding_mask, output_shape=(1, 1, None),\n",
        "      name='enc_padding_mask')(inputs)\n",
        "  # mask the future tokens for decoder inputs at the 1st attention block\n",
        "  look_ahead_mask = tf.keras.layers.Lambda(\n",
        "      create_look_ahead_mask,\n",
        "      output_shape=(1, None, None),\n",
        "      name='look_ahead_mask')(dec_inputs)\n",
        "  # mask the encoder outputs for the 2nd attention block\n",
        "  dec_padding_mask = tf.keras.layers.Lambda(\n",
        "      create_padding_mask, output_shape=(1, 1, None),\n",
        "      name='dec_padding_mask')(inputs)\n",
        "\n",
        "  enc_outputs = encoder(\n",
        "      vocab_size=vocab_size,\n",
        "      num_layers=num_layers,\n",
        "      units=units,\n",
        "      d_model=d_model,\n",
        "      num_heads=num_heads,\n",
        "      dropout=dropout,\n",
        "  )(inputs=[inputs, enc_padding_mask])\n",
        "\n",
        "  dec_outputs = decoder(\n",
        "      vocab_size=vocab_size,\n",
        "      num_layers=num_layers,\n",
        "      units=units,\n",
        "      d_model=d_model,\n",
        "      num_heads=num_heads,\n",
        "      dropout=dropout,\n",
        "  )(inputs=[dec_inputs, enc_outputs, look_ahead_mask, dec_padding_mask])\n",
        "\n",
        "  outputs = tf.keras.layers.Dense(units=vocab_size, name=\"outputs\")(dec_outputs)\n",
        "\n",
        "  return tf.keras.Model(inputs={'inputs': inputs, 'dec_inputs': dec_inputs}, outputs=outputs, name=name)"
      ],
      "metadata": {
        "id": "WHsYoT_74kI3"
      },
      "execution_count": null,
      "outputs": []
    },
    {
      "cell_type": "code",
      "source": [
        "sample_transformer = transformer(\n",
        "    vocab_size=8515,\n",
        "    num_layers=2,\n",
        "    units=512,\n",
        "    d_model=256,\n",
        "    num_heads=8,\n",
        "    dropout=0.1,\n",
        "    name=\"our_transformer\")\n",
        "\n",
        "tf.keras.utils.plot_model(\n",
        "    sample_transformer, to_file='transformer.png', show_shapes=True)"
      ],
      "metadata": {
        "collapsed": true,
        "id": "V3ioUDDb4nDn"
      },
      "execution_count": null,
      "outputs": []
    },
    {
      "cell_type": "markdown",
      "source": [
        "# Train Model\n",
        "Initialize model"
      ],
      "metadata": {
        "id": "cORQT0lh4-Wo"
      }
    },
    {
      "cell_type": "markdown",
      "source": [
        "# **Loss function**\n",
        "Since the target sequences are padded, it is important to apply a padding mask when calculating the loss.\n"
      ],
      "metadata": {
        "id": "yyK_cwhK5KhU"
      }
    },
    {
      "cell_type": "code",
      "source": [
        "def loss_function(y_true, y_pred):\n",
        "  # Reshapes y_true (true labels) to match the shape of y_pred.\n",
        "    y_true = tf.reshape(y_true, shape=(-1, MAX_SENTENCE_LENGTH - 1))\n",
        "\n",
        "  # Computes the cross-entropy loss for each token\n",
        "  # reduction='none' means we’ll compute individual losses for each token without averaging.\n",
        "    loss = tf.keras.losses.SparseCategoricalCrossentropy(\n",
        "        from_logits=True, reduction='none')(y_true, y_pred)\n",
        "\n",
        "  # Creates a mask for non-padding tokens.\n",
        "  # Padding tokens (0) are ignored.\n",
        "    mask = tf.cast(tf.not_equal(y_true, 0), tf.float32)\n",
        "    loss = tf.multiply(loss, mask)\n",
        "  # Averages all the non-zero losses into a single scalar value.\n",
        "    return tf.reduce_mean(loss)"
      ],
      "metadata": {
        "id": "zNrePok35OVY"
      },
      "execution_count": null,
      "outputs": []
    },
    {
      "cell_type": "markdown",
      "source": [
        "# Custom learning rate\n",
        "Use the Adam optimizer with a custom learning rate scheduler"
      ],
      "metadata": {
        "id": "PEjx_DWC5dbV"
      }
    },
    {
      "cell_type": "code",
      "source": [
        "class CustomSchedule(tf.keras.optimizers.schedules.LearningRateSchedule):\n",
        "\n",
        "  def __init__(self, d_model, warmup_steps=2000):\n",
        "    super(CustomSchedule, self).__init__()\n",
        "\n",
        "    self.d_model = d_model\n",
        "    self.d_model = tf.cast(self.d_model, tf.float32)\n",
        "\n",
        "    self.warmup_steps = warmup_steps\n",
        "\n",
        "  def __call__(self, step):\n",
        "    # Cast 'step' to tf.float32 before applying tf.math.rsqrt\n",
        "    step = tf.cast(step, tf.float32)\n",
        "    arg1 = tf.math.rsqrt(step)\n",
        "    arg2 = step * (self.warmup_steps**-1.5)\n",
        "\n",
        "    return tf.math.rsqrt(self.d_model) * tf.math.minimum(arg1, arg2)"
      ],
      "metadata": {
        "id": "aC0Zkf3F5jRK"
      },
      "execution_count": null,
      "outputs": []
    },
    {
      "cell_type": "code",
      "source": [
        "sample_learning_rate = CustomSchedule(d_model=256)\n",
        "\n",
        "plt.plot(sample_learning_rate(tf.range(3768, dtype=tf.float32)))\n",
        "plt.ylabel(\"Learning Rate\")\n",
        "plt.xlabel(\"Train Step\")\n"
      ],
      "metadata": {
        "id": "XC8Zy0Aw5lH8",
        "colab": {
          "base_uri": "https://localhost:8080/",
          "height": 466
        },
        "outputId": "62b8f11d-7612-4a10-e8e9-14373035377c"
      },
      "execution_count": null,
      "outputs": [
        {
          "output_type": "execute_result",
          "data": {
            "text/plain": [
              "Text(0.5, 0, 'Train Step')"
            ]
          },
          "metadata": {},
          "execution_count": 26
        },
        {
          "output_type": "display_data",
          "data": {
            "text/plain": [
              "<Figure size 640x480 with 1 Axes>"
            ],
            "image/png": "[encoded data removed]"
          },
          "metadata": {}
        }
      ]
    },
    {
      "cell_type": "markdown",
      "source": [
        "# Compile Model"
      ],
      "metadata": {
        "id": "8SKsgwgG5pSe"
      }
    },
    {
      "cell_type": "code",
      "source": [
        "import tensorflow as tf\n",
        "import math\n",
        "\n",
        "def perplexity(real, pred):\n",
        "  # Reshape to match the shape of predictions.\n",
        "    real = tf.reshape(real, shape=(-1, MAX_SENTENCE_LENGTH - 1))\n",
        "  # Uses the previously defined loss function.\n",
        "    loss = loss_function(real, pred)\n",
        "    loss = tf.cast(loss, dtype=tf.float32)  # Convert to float32 explicitly\n",
        "    return tf.exp(loss)  # No need to cast twice"
      ],
      "metadata": {
        "id": "6H0cPfV35rJX"
      },
      "execution_count": null,
      "outputs": []
    },
    {
      "cell_type": "code",
      "source": [
        "def accuracy(y_true, y_pred):\n",
        "  # ensure labels have shape (batch_size, MAX_SENTENCE_LENGTH - 1)\n",
        "  y_true = tf.reshape(y_true, shape=(-1, MAX_SENTENCE_LENGTH - 1))\n",
        "  # Computes token-wise accuracy: For each token, is the highest-probability prediction equal to the true label?\n",
        "  return tf.keras.metrics.sparse_categorical_accuracy(y_true, y_pred)"
      ],
      "metadata": {
        "id": "Uxxygox45tSb"
      },
      "execution_count": null,
      "outputs": []
    },
    {
      "cell_type": "markdown",
      "source": [
        "# Eksperimen NUM_LAYERS"
      ],
      "metadata": {
        "id": "jlVVBa6oxflE"
      }
    },
    {
      "cell_type": "markdown",
      "source": [
        "NL2"
      ],
      "metadata": {
        "id": "-ajMSNAreofh"
      }
    },
    {
      "cell_type": "code",
      "source": [
        "tf.keras.backend.clear_session()\n",
        "\n",
        "#NUM_Layers Tuning Hypereparameters\n",
        "NUM_LAYERS = 2\n",
        "D_MODEL = 256\n",
        "NUM_HEADS = 8\n",
        "UNITS = 512\n",
        "DROPOUT = 0.1\n",
        "\n",
        "model_NL2 = transformer(\n",
        "    vocab_size=VOCAB_SIZE,\n",
        "    num_layers=NUM_LAYERS,\n",
        "    units=UNITS,\n",
        "    d_model=D_MODEL,\n",
        "    num_heads=NUM_HEADS,\n",
        "    dropout=DROPOUT)"
      ],
      "metadata": {
        "id": "XuLQp_Q4eqPV"
      },
      "execution_count": null,
      "outputs": []
    },
    {
      "cell_type": "code",
      "source": [
        "learning_rate = CustomSchedule(D_MODEL)\n",
        "\n",
        "optimizer = tf.keras.optimizers.Adam(\n",
        "    learning_rate, beta_1=0.9, beta_2=0.98, epsilon=1e-9)\n",
        "\n",
        "\n",
        "model_NL2.compile(\n",
        "    optimizer=optimizer,\n",
        "    loss=loss_function,\n",
        "    metrics=[accuracy, perplexity],\n",
        "    run_eagerly=True  # Set to True for debugging if needed\n",
        ")"
      ],
      "metadata": {
        "id": "e5on8lLFevtn"
      },
      "execution_count": null,
      "outputs": []
    },
    {
      "cell_type": "code",
      "source": [
        "EPOCHS = 30\n",
        "\n",
        "history = model_NL2.fit(dataset, epochs=EPOCHS)"
      ],
      "metadata": {
        "colab": {
          "base_uri": "https://localhost:8080/"
        },
        "id": "klbFihKve0Eg",
        "outputId": "7ecf7468-e7a4-4b7b-b1ad-1487f6b460a2"
      },
      "execution_count": null,
      "outputs": [
        {
          "output_type": "stream",
          "name": "stdout",
          "text": [
            "Epoch 1/30\n",
            "\u001b[1m66/66\u001b[0m \u001b[32m━━━━━━━━━━━━━━━━━━━━\u001b[0m\u001b[37m\u001b[0m \u001b[1m59s\u001b[0m 863ms/step - accuracy: 0.0051 - loss: 3.4969 - perplexity: 35.1302\n",
            "Epoch 2/30\n",
            "\u001b[1m66/66\u001b[0m \u001b[32m━━━━━━━━━━━━━━━━━━━━\u001b[0m\u001b[37m\u001b[0m \u001b[1m51s\u001b[0m 770ms/step - accuracy: 0.0223 - loss: 3.2042 - perplexity: 25.7370\n",
            "Epoch 3/30\n",
            "\u001b[1m66/66\u001b[0m \u001b[32m━━━━━━━━━━━━━━━━━━━━\u001b[0m\u001b[37m\u001b[0m \u001b[1m52s\u001b[0m 795ms/step - accuracy: 0.0279 - loss: 2.7742 - perplexity: 16.7307\n",
            "Epoch 4/30\n",
            "\u001b[1m66/66\u001b[0m \u001b[32m━━━━━━━━━━━━━━━━━━━━\u001b[0m\u001b[37m\u001b[0m \u001b[1m54s\u001b[0m 815ms/step - accuracy: 0.0631 - loss: 2.5895 - perplexity: 13.6308\n",
            "Epoch 5/30\n",
            "\u001b[1m66/66\u001b[0m \u001b[32m━━━━━━━━━━━━━━━━━━━━\u001b[0m\u001b[37m\u001b[0m \u001b[1m52s\u001b[0m 786ms/step - accuracy: 0.0993 - loss: 2.3187 - perplexity: 10.3427\n",
            "Epoch 6/30\n",
            "\u001b[1m66/66\u001b[0m \u001b[32m━━━━━━━━━━━━━━━━━━━━\u001b[0m\u001b[37m\u001b[0m \u001b[1m55s\u001b[0m 827ms/step - accuracy: 0.1229 - loss: 2.0633 - perplexity: 7.9930\n",
            "Epoch 7/30\n",
            "\u001b[1m66/66\u001b[0m \u001b[32m━━━━━━━━━━━━━━━━━━━━\u001b[0m\u001b[37m\u001b[0m \u001b[1m57s\u001b[0m 859ms/step - accuracy: 0.1399 - loss: 1.8242 - perplexity: 6.2789\n",
            "Epoch 8/30\n",
            "\u001b[1m66/66\u001b[0m \u001b[32m━━━━━━━━━━━━━━━━━━━━\u001b[0m\u001b[37m\u001b[0m \u001b[1m55s\u001b[0m 840ms/step - accuracy: 0.1584 - loss: 1.6722 - perplexity: 5.4037\n",
            "Epoch 9/30\n",
            "\u001b[1m66/66\u001b[0m \u001b[32m━━━━━━━━━━━━━━━━━━━━\u001b[0m\u001b[37m\u001b[0m \u001b[1m55s\u001b[0m 832ms/step - accuracy: 0.1655 - loss: 1.5374 - perplexity: 4.6920\n",
            "Epoch 10/30\n",
            "\u001b[1m66/66\u001b[0m \u001b[32m━━━━━━━━━━━━━━━━━━━━\u001b[0m\u001b[37m\u001b[0m \u001b[1m55s\u001b[0m 839ms/step - accuracy: 0.1809 - loss: 1.4236 - perplexity: 4.1927\n",
            "Epoch 11/30\n",
            "\u001b[1m66/66\u001b[0m \u001b[32m━━━━━━━━━━━━━━━━━━━━\u001b[0m\u001b[37m\u001b[0m \u001b[1m54s\u001b[0m 811ms/step - accuracy: 0.1945 - loss: 1.3180 - perplexity: 3.7663\n",
            "Epoch 12/30\n",
            "\u001b[1m66/66\u001b[0m \u001b[32m━━━━━━━━━━━━━━━━━━━━\u001b[0m\u001b[37m\u001b[0m \u001b[1m52s\u001b[0m 794ms/step - accuracy: 0.2094 - loss: 1.1810 - perplexity: 3.2853\n",
            "Epoch 13/30\n",
            "\u001b[1m66/66\u001b[0m \u001b[32m━━━━━━━━━━━━━━━━━━━━\u001b[0m\u001b[37m\u001b[0m \u001b[1m52s\u001b[0m 788ms/step - accuracy: 0.2319 - loss: 1.1173 - perplexity: 3.0823\n",
            "Epoch 14/30\n",
            "\u001b[1m66/66\u001b[0m \u001b[32m━━━━━━━━━━━━━━━━━━━━\u001b[0m\u001b[37m\u001b[0m \u001b[1m53s\u001b[0m 797ms/step - accuracy: 0.2401 - loss: 0.9574 - perplexity: 2.6235\n",
            "Epoch 15/30\n",
            "\u001b[1m66/66\u001b[0m \u001b[32m━━━━━━━━━━━━━━━━━━━━\u001b[0m\u001b[37m\u001b[0m \u001b[1m52s\u001b[0m 792ms/step - accuracy: 0.2617 - loss: 0.8658 - perplexity: 2.3864\n",
            "Epoch 16/30\n",
            "\u001b[1m66/66\u001b[0m \u001b[32m━━━━━━━━━━━━━━━━━━━━\u001b[0m\u001b[37m\u001b[0m \u001b[1m53s\u001b[0m 806ms/step - accuracy: 0.2823 - loss: 0.7766 - perplexity: 2.1806\n",
            "Epoch 17/30\n",
            "\u001b[1m66/66\u001b[0m \u001b[32m━━━━━━━━━━━━━━━━━━━━\u001b[0m\u001b[37m\u001b[0m \u001b[1m54s\u001b[0m 811ms/step - accuracy: 0.3019 - loss: 0.6525 - perplexity: 1.9253\n",
            "Epoch 18/30\n",
            "\u001b[1m66/66\u001b[0m \u001b[32m━━━━━━━━━━━━━━━━━━━━\u001b[0m\u001b[37m\u001b[0m \u001b[1m52s\u001b[0m 792ms/step - accuracy: 0.3296 - loss: 0.5456 - perplexity: 1.7281\n",
            "Epoch 19/30\n",
            "\u001b[1m66/66\u001b[0m \u001b[32m━━━━━━━━━━━━━━━━━━━━\u001b[0m\u001b[37m\u001b[0m \u001b[1m53s\u001b[0m 798ms/step - accuracy: 0.3554 - loss: 0.4570 - perplexity: 1.5814\n",
            "Epoch 20/30\n",
            "\u001b[1m66/66\u001b[0m \u001b[32m━━━━━━━━━━━━━━━━━━━━\u001b[0m\u001b[37m\u001b[0m \u001b[1m53s\u001b[0m 796ms/step - accuracy: 0.3747 - loss: 0.3765 - perplexity: 1.4588\n",
            "Epoch 21/30\n",
            "\u001b[1m66/66\u001b[0m \u001b[32m━━━━━━━━━━━━━━━━━━━━\u001b[0m\u001b[37m\u001b[0m \u001b[1m52s\u001b[0m 791ms/step - accuracy: 0.3858 - loss: 0.3154 - perplexity: 1.3721\n",
            "Epoch 22/30\n",
            "\u001b[1m66/66\u001b[0m \u001b[32m━━━━━━━━━━━━━━━━━━━━\u001b[0m\u001b[37m\u001b[0m \u001b[1m54s\u001b[0m 816ms/step - accuracy: 0.4005 - loss: 0.2650 - perplexity: 1.3042\n",
            "Epoch 23/30\n",
            "\u001b[1m66/66\u001b[0m \u001b[32m━━━━━━━━━━━━━━━━━━━━\u001b[0m\u001b[37m\u001b[0m \u001b[1m52s\u001b[0m 787ms/step - accuracy: 0.4106 - loss: 0.2409 - perplexity: 1.2732\n",
            "Epoch 24/30\n",
            "\u001b[1m66/66\u001b[0m \u001b[32m━━━━━━━━━━━━━━━━━━━━\u001b[0m\u001b[37m\u001b[0m \u001b[1m54s\u001b[0m 823ms/step - accuracy: 0.4110 - loss: 0.2161 - perplexity: 1.2419\n",
            "Epoch 25/30\n",
            "\u001b[1m66/66\u001b[0m \u001b[32m━━━━━━━━━━━━━━━━━━━━\u001b[0m\u001b[37m\u001b[0m \u001b[1m54s\u001b[0m 815ms/step - accuracy: 0.4114 - loss: 0.1972 - perplexity: 1.2186\n",
            "Epoch 26/30\n",
            "\u001b[1m66/66\u001b[0m \u001b[32m━━━━━━━━━━━━━━━━━━━━\u001b[0m\u001b[37m\u001b[0m \u001b[1m60s\u001b[0m 910ms/step - accuracy: 0.4047 - loss: 0.1798 - perplexity: 1.1977\n",
            "Epoch 27/30\n",
            "\u001b[1m66/66\u001b[0m \u001b[32m━━━━━━━━━━━━━━━━━━━━\u001b[0m\u001b[37m\u001b[0m \u001b[1m53s\u001b[0m 808ms/step - accuracy: 0.4081 - loss: 0.1733 - perplexity: 1.1901\n",
            "Epoch 28/30\n",
            "\u001b[1m66/66\u001b[0m \u001b[32m━━━━━━━━━━━━━━━━━━━━\u001b[0m\u001b[37m\u001b[0m \u001b[1m52s\u001b[0m 791ms/step - accuracy: 0.4085 - loss: 0.1764 - perplexity: 1.1936\n",
            "Epoch 29/30\n",
            "\u001b[1m66/66\u001b[0m \u001b[32m━━━━━━━━━━━━━━━━━━━━\u001b[0m\u001b[37m\u001b[0m \u001b[1m52s\u001b[0m 795ms/step - accuracy: 0.4187 - loss: 0.1688 - perplexity: 1.1845\n",
            "Epoch 30/30\n",
            "\u001b[1m66/66\u001b[0m \u001b[32m━━━━━━━━━━━━━━━━━━━━\u001b[0m\u001b[37m\u001b[0m \u001b[1m53s\u001b[0m 807ms/step - accuracy: 0.4228 - loss: 0.1739 - perplexity: 1.1904\n"
          ]
        }
      ]
    },
    {
      "cell_type": "code",
      "source": [
        "model_NL2.save_weights('D:/skripsi-sultin/data/bot_v4_Final_NL2_E50.weights.h5')"
      ],
      "metadata": {
        "id": "a6WtCD3Me3NE"
      },
      "execution_count": null,
      "outputs": []
    },
    {
      "cell_type": "markdown",
      "source": [
        "NL3"
      ],
      "metadata": {
        "id": "S03HjDIY7Gi0"
      }
    },
    {
      "cell_type": "code",
      "source": [
        "tf.keras.backend.clear_session()\n",
        "\n",
        "#NUM_Layers Tuning Hypereparameters\n",
        "NUM_LAYERS = 3\n",
        "D_MODEL = 256\n",
        "NUM_HEADS = 8\n",
        "UNITS = 512\n",
        "DROPOUT = 0.1\n",
        "\n",
        "model_NL3 = transformer(\n",
        "    vocab_size=VOCAB_SIZE,\n",
        "    num_layers=NUM_LAYERS,\n",
        "    units=UNITS,\n",
        "    d_model=D_MODEL,\n",
        "    num_heads=NUM_HEADS,\n",
        "    dropout=DROPOUT)"
      ],
      "metadata": {
        "id": "ZlJPkq3zxlQl",
        "colab": {
          "base_uri": "https://localhost:8080/"
        },
        "outputId": "48ec4cc1-7aee-47e8-9fba-a1bd259bd201"
      },
      "execution_count": null,
      "outputs": [
        {
          "output_type": "stream",
          "name": "stdout",
          "text": [
            "WARNING:tensorflow:From D:\\skripsi-sultin\\source\\final\\venv\\Lib\\site-packages\\keras\\src\\backend\\common\\global_state.py:82: The name tf.reset_default_graph is deprecated. Please use tf.compat.v1.reset_default_graph instead.\n",
            "\n"
          ]
        },
        {
          "output_type": "stream",
          "name": "stderr",
          "text": [
            "WARNING:tensorflow:From D:\\skripsi-sultin\\source\\final\\venv\\Lib\\site-packages\\keras\\src\\backend\\common\\global_state.py:82: The name tf.reset_default_graph is deprecated. Please use tf.compat.v1.reset_default_graph instead.\n",
            "\n"
          ]
        }
      ]
    },
    {
      "cell_type": "code",
      "source": [
        "learning_rate = CustomSchedule(D_MODEL)\n",
        "\n",
        "optimizer = tf.keras.optimizers.Adam(\n",
        "    learning_rate, beta_1=0.9, beta_2=0.98, epsilon=1e-9)\n",
        "\n",
        "\n",
        "model_NL3.compile(\n",
        "    optimizer=optimizer,\n",
        "    loss=loss_function,\n",
        "    metrics=[accuracy, perplexity],\n",
        "    run_eagerly=True  # Set to True for debugging if needed\n",
        ")"
      ],
      "metadata": {
        "id": "huKmaJe-yXgI"
      },
      "execution_count": null,
      "outputs": []
    },
    {
      "cell_type": "code",
      "source": [
        "EPOCHS = 30\n",
        "\n",
        "history = model_NL3.fit(dataset, epochs=EPOCHS)"
      ],
      "metadata": {
        "id": "fLhpalc7ybrg",
        "colab": {
          "base_uri": "https://localhost:8080/"
        },
        "outputId": "21c603f5-c233-48ac-fd65-9b87cfaec8c2"
      },
      "execution_count": null,
      "outputs": [
        {
          "output_type": "stream",
          "name": "stdout",
          "text": [
            "Epoch 1/50\n",
            "\u001b[1m66/66\u001b[0m \u001b[32m━━━━━━━━━━━━━━━━━━━━\u001b[0m\u001b[37m\u001b[0m \u001b[1m77s\u001b[0m 1s/step - accuracy: 0.0063 - loss: 3.5037 - perplexity: 35.3499\n",
            "Epoch 2/50\n",
            "\u001b[1m66/66\u001b[0m \u001b[32m━━━━━━━━━━━━━━━━━━━━\u001b[0m\u001b[37m\u001b[0m \u001b[1m74s\u001b[0m 1s/step - accuracy: 0.0208 - loss: 3.2166 - perplexity: 26.0309\n",
            "Epoch 3/50\n",
            "\u001b[1m66/66\u001b[0m \u001b[32m━━━━━━━━━━━━━━━━━━━━\u001b[0m\u001b[37m\u001b[0m \u001b[1m76s\u001b[0m 1s/step - accuracy: 0.0255 - loss: 2.7855 - perplexity: 16.9325\n",
            "Epoch 4/50\n",
            "\u001b[1m66/66\u001b[0m \u001b[32m━━━━━━━━━━━━━━━━━━━━\u001b[0m\u001b[37m\u001b[0m \u001b[1m72s\u001b[0m 1s/step - accuracy: 0.0619 - loss: 2.5984 - perplexity: 13.7507\n",
            "Epoch 5/50\n",
            "\u001b[1m66/66\u001b[0m \u001b[32m━━━━━━━━━━━━━━━━━━━━\u001b[0m\u001b[37m\u001b[0m \u001b[1m73s\u001b[0m 1s/step - accuracy: 0.0979 - loss: 2.3335 - perplexity: 10.4976\n",
            "Epoch 6/50\n",
            "\u001b[1m66/66\u001b[0m \u001b[32m━━━━━━━━━━━━━━━━━━━━\u001b[0m\u001b[37m\u001b[0m \u001b[1m72s\u001b[0m 1s/step - accuracy: 0.1208 - loss: 2.0821 - perplexity: 8.1469\n",
            "Epoch 7/50\n",
            "\u001b[1m66/66\u001b[0m \u001b[32m━━━━━━━━━━━━━━━━━━━━\u001b[0m\u001b[37m\u001b[0m \u001b[1m72s\u001b[0m 1s/step - accuracy: 0.1379 - loss: 1.8465 - perplexity: 6.4190\n",
            "Epoch 8/50\n",
            "\u001b[1m66/66\u001b[0m \u001b[32m━━━━━━━━━━━━━━━━━━━━\u001b[0m\u001b[37m\u001b[0m \u001b[1m73s\u001b[0m 1s/step - accuracy: 0.1579 - loss: 1.6883 - perplexity: 5.4902\n",
            "Epoch 9/50\n",
            "\u001b[1m66/66\u001b[0m \u001b[32m━━━━━━━━━━━━━━━━━━━━\u001b[0m\u001b[37m\u001b[0m \u001b[1m73s\u001b[0m 1s/step - accuracy: 0.1642 - loss: 1.5592 - perplexity: 4.7968\n",
            "Epoch 10/50\n",
            "\u001b[1m66/66\u001b[0m \u001b[32m━━━━━━━━━━━━━━━━━━━━\u001b[0m\u001b[37m\u001b[0m \u001b[1m73s\u001b[0m 1s/step - accuracy: 0.1792 - loss: 1.4501 - perplexity: 4.3086\n",
            "Epoch 11/50\n",
            "\u001b[1m66/66\u001b[0m \u001b[32m━━━━━━━━━━━━━━━━━━━━\u001b[0m\u001b[37m\u001b[0m \u001b[1m72s\u001b[0m 1s/step - accuracy: 0.1917 - loss: 1.3498 - perplexity: 3.8874\n",
            "Epoch 12/50\n",
            "\u001b[1m66/66\u001b[0m \u001b[32m━━━━━━━━━━━━━━━━━━━━\u001b[0m\u001b[37m\u001b[0m \u001b[1m72s\u001b[0m 1s/step - accuracy: 0.2029 - loss: 1.2209 - perplexity: 3.4222\n",
            "Epoch 13/50\n",
            "\u001b[1m66/66\u001b[0m \u001b[32m━━━━━━━━━━━━━━━━━━━━\u001b[0m\u001b[37m\u001b[0m \u001b[1m72s\u001b[0m 1s/step - accuracy: 0.2264 - loss: 1.1611 - perplexity: 3.2223\n",
            "Epoch 14/50\n",
            "\u001b[1m66/66\u001b[0m \u001b[32m━━━━━━━━━━━━━━━━━━━━\u001b[0m\u001b[37m\u001b[0m \u001b[1m72s\u001b[0m 1s/step - accuracy: 0.2330 - loss: 0.9987 - perplexity: 2.7356\n",
            "Epoch 15/50\n",
            "\u001b[1m66/66\u001b[0m \u001b[32m━━━━━━━━━━━━━━━━━━━━\u001b[0m\u001b[37m\u001b[0m \u001b[1m72s\u001b[0m 1s/step - accuracy: 0.2481 - loss: 0.9234 - perplexity: 2.5290\n",
            "Epoch 16/50\n",
            "\u001b[1m66/66\u001b[0m \u001b[32m━━━━━━━━━━━━━━━━━━━━\u001b[0m\u001b[37m\u001b[0m \u001b[1m72s\u001b[0m 1s/step - accuracy: 0.2692 - loss: 0.8344 - perplexity: 2.3111\n",
            "Epoch 17/50\n",
            "\u001b[1m66/66\u001b[0m \u001b[32m━━━━━━━━━━━━━━━━━━━━\u001b[0m\u001b[37m\u001b[0m \u001b[1m71s\u001b[0m 1s/step - accuracy: 0.2921 - loss: 0.7099 - perplexity: 2.0400\n",
            "Epoch 18/50\n",
            "\u001b[1m66/66\u001b[0m \u001b[32m━━━━━━━━━━━━━━━━━━━━\u001b[0m\u001b[37m\u001b[0m \u001b[1m70s\u001b[0m 1s/step - accuracy: 0.3106 - loss: 0.6148 - perplexity: 1.8527\n",
            "Epoch 19/50\n",
            "\u001b[1m66/66\u001b[0m \u001b[32m━━━━━━━━━━━━━━━━━━━━\u001b[0m\u001b[37m\u001b[0m \u001b[1m70s\u001b[0m 1s/step - accuracy: 0.3350 - loss: 0.5285 - perplexity: 1.6995\n",
            "Epoch 20/50\n",
            "\u001b[1m66/66\u001b[0m \u001b[32m━━━━━━━━━━━━━━━━━━━━\u001b[0m\u001b[37m\u001b[0m \u001b[1m70s\u001b[0m 1s/step - accuracy: 0.3568 - loss: 0.4435 - perplexity: 1.5603\n",
            "Epoch 21/50\n",
            "\u001b[1m66/66\u001b[0m \u001b[32m━━━━━━━━━━━━━━━━━━━━\u001b[0m\u001b[37m\u001b[0m \u001b[1m70s\u001b[0m 1s/step - accuracy: 0.3663 - loss: 0.3797 - perplexity: 1.4632\n",
            "Epoch 22/50\n",
            "\u001b[1m66/66\u001b[0m \u001b[32m━━━━━━━━━━━━━━━━━━━━\u001b[0m\u001b[37m\u001b[0m \u001b[1m69s\u001b[0m 1s/step - accuracy: 0.3847 - loss: 0.3279 - perplexity: 1.3894\n",
            "Epoch 23/50\n",
            "\u001b[1m66/66\u001b[0m \u001b[32m━━━━━━━━━━━━━━━━━━━━\u001b[0m\u001b[37m\u001b[0m \u001b[1m70s\u001b[0m 1s/step - accuracy: 0.3974 - loss: 0.2860 - perplexity: 1.3324\n",
            "Epoch 24/50\n",
            "\u001b[1m66/66\u001b[0m \u001b[32m━━━━━━━━━━━━━━━━━━━━\u001b[0m\u001b[37m\u001b[0m \u001b[1m70s\u001b[0m 1s/step - accuracy: 0.3991 - loss: 0.2573 - perplexity: 1.2944\n",
            "Epoch 25/50\n",
            "\u001b[1m66/66\u001b[0m \u001b[32m━━━━━━━━━━━━━━━━━━━━\u001b[0m\u001b[37m\u001b[0m \u001b[1m70s\u001b[0m 1s/step - accuracy: 0.4029 - loss: 0.2330 - perplexity: 1.2632\n",
            "Epoch 26/50\n",
            "\u001b[1m66/66\u001b[0m \u001b[32m━━━━━━━━━━━━━━━━━━━━\u001b[0m\u001b[37m\u001b[0m \u001b[1m70s\u001b[0m 1s/step - accuracy: 0.3922 - loss: 0.2242 - perplexity: 1.2524\n",
            "Epoch 27/50\n",
            "\u001b[1m66/66\u001b[0m \u001b[32m━━━━━━━━━━━━━━━━━━━━\u001b[0m\u001b[37m\u001b[0m \u001b[1m70s\u001b[0m 1s/step - accuracy: 0.3980 - loss: 0.2099 - perplexity: 1.2345\n",
            "Epoch 28/50\n",
            "\u001b[1m66/66\u001b[0m \u001b[32m━━━━━━━━━━━━━━━━━━━━\u001b[0m\u001b[37m\u001b[0m \u001b[1m70s\u001b[0m 1s/step - accuracy: 0.3947 - loss: 0.2178 - perplexity: 1.2444\n",
            "Epoch 29/50\n",
            "\u001b[1m66/66\u001b[0m \u001b[32m━━━━━━━━━━━━━━━━━━━━\u001b[0m\u001b[37m\u001b[0m \u001b[1m70s\u001b[0m 1s/step - accuracy: 0.4076 - loss: 0.2103 - perplexity: 1.2349\n",
            "Epoch 30/50\n",
            "\u001b[1m66/66\u001b[0m \u001b[32m━━━━━━━━━━━━━━━━━━━━\u001b[0m\u001b[37m\u001b[0m \u001b[1m70s\u001b[0m 1s/step - accuracy: 0.4141 - loss: 0.2035 - perplexity: 1.2262\n",
            "Epoch 31/50\n",
            "\u001b[1m66/66\u001b[0m \u001b[32m━━━━━━━━━━━━━━━━━━━━\u001b[0m\u001b[37m\u001b[0m \u001b[1m70s\u001b[0m 1s/step - accuracy: 0.4061 - loss: 0.1999 - perplexity: 1.2219\n",
            "Epoch 32/50\n",
            "\u001b[1m66/66\u001b[0m \u001b[32m━━━━━━━━━━━━━━━━━━━━\u001b[0m\u001b[37m\u001b[0m \u001b[1m69s\u001b[0m 1s/step - accuracy: 0.4164 - loss: 0.1955 - perplexity: 1.2164\n",
            "Epoch 33/50\n",
            "\u001b[1m66/66\u001b[0m \u001b[32m━━━━━━━━━━━━━━━━━━━━\u001b[0m\u001b[37m\u001b[0m \u001b[1m69s\u001b[0m 1s/step - accuracy: 0.4081 - loss: 0.1697 - perplexity: 1.1856\n",
            "Epoch 34/50\n",
            "\u001b[1m66/66\u001b[0m \u001b[32m━━━━━━━━━━━━━━━━━━━━\u001b[0m\u001b[37m\u001b[0m \u001b[1m70s\u001b[0m 1s/step - accuracy: 0.4182 - loss: 0.1620 - perplexity: 1.1764\n",
            "Epoch 35/50\n",
            "\u001b[1m66/66\u001b[0m \u001b[32m━━━━━━━━━━━━━━━━━━━━\u001b[0m\u001b[37m\u001b[0m \u001b[1m69s\u001b[0m 1s/step - accuracy: 0.4287 - loss: 0.1566 - perplexity: 1.1699\n",
            "Epoch 36/50\n",
            "\u001b[1m66/66\u001b[0m \u001b[32m━━━━━━━━━━━━━━━━━━━━\u001b[0m\u001b[37m\u001b[0m \u001b[1m74s\u001b[0m 1s/step - accuracy: 0.4265 - loss: 0.1441 - perplexity: 1.1555\n",
            "Epoch 37/50\n",
            "\u001b[1m66/66\u001b[0m \u001b[32m━━━━━━━━━━━━━━━━━━━━\u001b[0m\u001b[37m\u001b[0m \u001b[1m73s\u001b[0m 1s/step - accuracy: 0.4230 - loss: 0.1328 - perplexity: 1.1423\n",
            "Epoch 38/50\n",
            "\u001b[1m66/66\u001b[0m \u001b[32m━━━━━━━━━━━━━━━━━━━━\u001b[0m\u001b[37m\u001b[0m \u001b[1m70s\u001b[0m 1s/step - accuracy: 0.4268 - loss: 0.1208 - perplexity: 1.1288\n",
            "Epoch 39/50\n",
            "\u001b[1m66/66\u001b[0m \u001b[32m━━━━━━━━━━━━━━━━━━━━\u001b[0m\u001b[37m\u001b[0m \u001b[1m72s\u001b[0m 1s/step - accuracy: 0.4240 - loss: 0.1253 - perplexity: 1.1337\n",
            "Epoch 40/50\n",
            "\u001b[1m66/66\u001b[0m \u001b[32m━━━━━━━━━━━━━━━━━━━━\u001b[0m\u001b[37m\u001b[0m \u001b[1m72s\u001b[0m 1s/step - accuracy: 0.4347 - loss: 0.1209 - perplexity: 1.1287\n",
            "Epoch 41/50\n",
            "\u001b[1m66/66\u001b[0m \u001b[32m━━━━━━━━━━━━━━━━━━━━\u001b[0m\u001b[37m\u001b[0m \u001b[1m72s\u001b[0m 1s/step - accuracy: 0.4370 - loss: 0.1059 - perplexity: 1.1120\n",
            "Epoch 42/50\n",
            "\u001b[1m66/66\u001b[0m \u001b[32m━━━━━━━━━━━━━━━━━━━━\u001b[0m\u001b[37m\u001b[0m \u001b[1m74s\u001b[0m 1s/step - accuracy: 0.4221 - loss: 0.1097 - perplexity: 1.1163\n",
            "Epoch 43/50\n",
            "\u001b[1m66/66\u001b[0m \u001b[32m━━━━━━━━━━━━━━━━━━━━\u001b[0m\u001b[37m\u001b[0m \u001b[1m75s\u001b[0m 1s/step - accuracy: 0.4386 - loss: 0.1013 - perplexity: 1.1068\n",
            "Epoch 44/50\n",
            "\u001b[1m66/66\u001b[0m \u001b[32m━━━━━━━━━━━━━━━━━━━━\u001b[0m\u001b[37m\u001b[0m \u001b[1m82s\u001b[0m 1s/step - accuracy: 0.4298 - loss: 0.0990 - perplexity: 1.1042\n",
            "Epoch 45/50\n",
            "\u001b[1m66/66\u001b[0m \u001b[32m━━━━━━━━━━━━━━━━━━━━\u001b[0m\u001b[37m\u001b[0m \u001b[1m81s\u001b[0m 1s/step - accuracy: 0.4401 - loss: 0.0970 - perplexity: 1.1020\n",
            "Epoch 46/50\n",
            "\u001b[1m66/66\u001b[0m \u001b[32m━━━━━━━━━━━━━━━━━━━━\u001b[0m\u001b[37m\u001b[0m \u001b[1m77s\u001b[0m 1s/step - accuracy: 0.4392 - loss: 0.0914 - perplexity: 1.0958\n",
            "Epoch 47/50\n",
            "\u001b[1m66/66\u001b[0m \u001b[32m━━━━━━━━━━━━━━━━━━━━\u001b[0m\u001b[37m\u001b[0m \u001b[1m83s\u001b[0m 1s/step - accuracy: 0.4287 - loss: 0.0882 - perplexity: 1.0924\n",
            "Epoch 48/50\n",
            "\u001b[1m66/66\u001b[0m \u001b[32m━━━━━━━━━━━━━━━━━━━━\u001b[0m\u001b[37m\u001b[0m \u001b[1m83s\u001b[0m 1s/step - accuracy: 0.4376 - loss: 0.0838 - perplexity: 1.0876\n",
            "Epoch 49/50\n",
            "\u001b[1m66/66\u001b[0m \u001b[32m━━━━━━━━━━━━━━━━━━━━\u001b[0m\u001b[37m\u001b[0m \u001b[1m77s\u001b[0m 1s/step - accuracy: 0.4325 - loss: 0.0847 - perplexity: 1.0886\n",
            "Epoch 50/50\n",
            "\u001b[1m66/66\u001b[0m \u001b[32m━━━━━━━━━━━━━━━━━━━━\u001b[0m\u001b[37m\u001b[0m \u001b[1m83s\u001b[0m 1s/step - accuracy: 0.4364 - loss: 0.0774 - perplexity: 1.0806\n"
          ]
        }
      ]
    },
    {
      "cell_type": "code",
      "source": [
        "model_NL3.save_weights('D:/skripsi-sultin/data/bot_v4_Final_NL3_E50.weights.h5')"
      ],
      "metadata": {
        "id": "u6dQphZ_6hwW"
      },
      "execution_count": null,
      "outputs": []
    },
    {
      "cell_type": "markdown",
      "source": [
        "NL4"
      ],
      "metadata": {
        "id": "Jb0NFW8f7Isr"
      }
    },
    {
      "cell_type": "code",
      "source": [
        "#NUM_Layers Tuning Hypereparameters\n",
        "NUM_LAYERS = 4\n",
        "D_MODEL = 256\n",
        "NUM_HEADS = 8\n",
        "UNITS = 512\n",
        "DROPOUT = 0.1\n",
        "\n",
        "model_NL4 = transformer(\n",
        "    vocab_size=VOCAB_SIZE,\n",
        "    num_layers=NUM_LAYERS,\n",
        "    units=UNITS,\n",
        "    d_model=D_MODEL,\n",
        "    num_heads=NUM_HEADS,\n",
        "    dropout=DROPOUT)"
      ],
      "metadata": {
        "id": "onq1Hjiq7J9e"
      },
      "execution_count": null,
      "outputs": []
    },
    {
      "cell_type": "code",
      "source": [
        "learning_rate = CustomSchedule(D_MODEL)\n",
        "\n",
        "optimizer = tf.keras.optimizers.Adam(\n",
        "    learning_rate, beta_1=0.9, beta_2=0.98, epsilon=1e-9)\n",
        "\n",
        "\n",
        "model_NL4.compile(\n",
        "    optimizer=optimizer,\n",
        "    loss=loss_function,\n",
        "    metrics=[accuracy, perplexity],\n",
        "    run_eagerly=True  # Set to True for debugging if needed\n",
        ")"
      ],
      "metadata": {
        "id": "iM08l_eP7PZk"
      },
      "execution_count": null,
      "outputs": []
    },
    {
      "cell_type": "code",
      "source": [
        "EPOCHS = 30\n",
        "\n",
        "history = model_NL4.fit(dataset, epochs=EPOCHS)"
      ],
      "metadata": {
        "id": "Rg_fYP3c7Q1Q",
        "colab": {
          "base_uri": "https://localhost:8080/"
        },
        "outputId": "ddf10d8b-92a8-43f3-ad90-3eba23df63e6"
      },
      "execution_count": null,
      "outputs": [
        {
          "output_type": "stream",
          "name": "stdout",
          "text": [
            "Epoch 1/30\n",
            "\u001b[1m66/66\u001b[0m \u001b[32m━━━━━━━━━━━━━━━━━━━━\u001b[0m\u001b[37m\u001b[0m \u001b[1m100s\u001b[0m 1s/step - accuracy: 0.0061 - loss: 3.4766 - perplexity: 34.3750\n",
            "Epoch 2/30\n",
            "\u001b[1m66/66\u001b[0m \u001b[32m━━━━━━━━━━━━━━━━━━━━\u001b[0m\u001b[37m\u001b[0m \u001b[1m98s\u001b[0m 1s/step - accuracy: 0.0214 - loss: 3.1976 - perplexity: 25.5271\n",
            "Epoch 3/30\n",
            "\u001b[1m66/66\u001b[0m \u001b[32m━━━━━━━━━━━━━━━━━━━━\u001b[0m\u001b[37m\u001b[0m \u001b[1m99s\u001b[0m 1s/step - accuracy: 0.0227 - loss: 2.7872 - perplexity: 16.9468\n",
            "Epoch 4/30\n",
            "\u001b[1m66/66\u001b[0m \u001b[32m━━━━━━━━━━━━━━━━━━━━\u001b[0m\u001b[37m\u001b[0m \u001b[1m99s\u001b[0m 1s/step - accuracy: 0.0516 - loss: 2.6404 - perplexity: 14.3496\n",
            "Epoch 5/30\n",
            "\u001b[1m66/66\u001b[0m \u001b[32m━━━━━━━━━━━━━━━━━━━━\u001b[0m\u001b[37m\u001b[0m \u001b[1m99s\u001b[0m 2s/step - accuracy: 0.0908 - loss: 2.3867 - perplexity: 11.0786\n",
            "Epoch 6/30\n",
            "\u001b[1m66/66\u001b[0m \u001b[32m━━━━━━━━━━━━━━━━━━━━\u001b[0m\u001b[37m\u001b[0m \u001b[1m99s\u001b[0m 1s/step - accuracy: 0.1187 - loss: 2.1285 - perplexity: 8.5398\n",
            "Epoch 7/30\n",
            "\u001b[1m66/66\u001b[0m \u001b[32m━━━━━━━━━━━━━━━━━━━━\u001b[0m\u001b[37m\u001b[0m \u001b[1m101s\u001b[0m 2s/step - accuracy: 0.1326 - loss: 1.8999 - perplexity: 6.7816\n",
            "Epoch 8/30\n",
            "\u001b[1m66/66\u001b[0m \u001b[32m━━━━━━━━━━━━━━━━━━━━\u001b[0m\u001b[37m\u001b[0m \u001b[1m98s\u001b[0m 1s/step - accuracy: 0.1488 - loss: 1.7567 - perplexity: 5.8872\n",
            "Epoch 9/30\n",
            "\u001b[1m66/66\u001b[0m \u001b[32m━━━━━━━━━━━━━━━━━━━━\u001b[0m\u001b[37m\u001b[0m \u001b[1m99s\u001b[0m 1s/step - accuracy: 0.1581 - loss: 1.6189 - perplexity: 5.0932\n",
            "Epoch 10/30\n",
            "\u001b[1m66/66\u001b[0m \u001b[32m━━━━━━━━━━━━━━━━━━━━\u001b[0m\u001b[37m\u001b[0m \u001b[1m98s\u001b[0m 1s/step - accuracy: 0.1710 - loss: 1.5186 - perplexity: 4.6201\n",
            "Epoch 11/30\n",
            "\u001b[1m66/66\u001b[0m \u001b[32m━━━━━━━━━━━━━━━━━━━━\u001b[0m\u001b[37m\u001b[0m \u001b[1m99s\u001b[0m 2s/step - accuracy: 0.1837 - loss: 1.4159 - perplexity: 4.1577\n",
            "Epoch 12/30\n",
            "\u001b[1m66/66\u001b[0m \u001b[32m━━━━━━━━━━━━━━━━━━━━\u001b[0m\u001b[37m\u001b[0m \u001b[1m100s\u001b[0m 2s/step - accuracy: 0.1941 - loss: 1.2857 - perplexity: 3.6537\n",
            "Epoch 13/30\n",
            "\u001b[1m66/66\u001b[0m \u001b[32m━━━━━━━━━━━━━━━━━━━━\u001b[0m\u001b[37m\u001b[0m \u001b[1m100s\u001b[0m 2s/step - accuracy: 0.2162 - loss: 1.2374 - perplexity: 3.4814\n",
            "Epoch 14/30\n",
            "\u001b[1m66/66\u001b[0m \u001b[32m━━━━━━━━━━━━━━━━━━━━\u001b[0m\u001b[37m\u001b[0m \u001b[1m99s\u001b[0m 1s/step - accuracy: 0.2184 - loss: 1.0818 - perplexity: 2.9776\n",
            "Epoch 15/30\n",
            "\u001b[1m66/66\u001b[0m \u001b[32m━━━━━━━━━━━━━━━━━━━━\u001b[0m\u001b[37m\u001b[0m \u001b[1m100s\u001b[0m 2s/step - accuracy: 0.2344 - loss: 1.0084 - perplexity: 2.7569\n",
            "Epoch 16/30\n",
            "\u001b[1m66/66\u001b[0m \u001b[32m━━━━━━━━━━━━━━━━━━━━\u001b[0m\u001b[37m\u001b[0m \u001b[1m98s\u001b[0m 1s/step - accuracy: 0.2493 - loss: 0.9410 - perplexity: 2.5725\n",
            "Epoch 17/30\n",
            "\u001b[1m66/66\u001b[0m \u001b[32m━━━━━━━━━━━━━━━━━━━━\u001b[0m\u001b[37m\u001b[0m \u001b[1m99s\u001b[0m 1s/step - accuracy: 0.2670 - loss: 0.8132 - perplexity: 2.2634\n",
            "Epoch 18/30\n",
            "\u001b[1m66/66\u001b[0m \u001b[32m━━━━━━━━━━━━━━━━━━━━\u001b[0m\u001b[37m\u001b[0m \u001b[1m100s\u001b[0m 2s/step - accuracy: 0.2868 - loss: 0.7164 - perplexity: 2.0511\n",
            "Epoch 19/30\n",
            "\u001b[1m66/66\u001b[0m \u001b[32m━━━━━━━━━━━━━━━━━━━━\u001b[0m\u001b[37m\u001b[0m \u001b[1m96s\u001b[0m 1s/step - accuracy: 0.3105 - loss: 0.6353 - perplexity: 1.8916\n",
            "Epoch 20/30\n",
            "\u001b[1m66/66\u001b[0m \u001b[32m━━━━━━━━━━━━━━━━━━━━\u001b[0m\u001b[37m\u001b[0m \u001b[1m97s\u001b[0m 1s/step - accuracy: 0.3329 - loss: 0.5389 - perplexity: 1.7175\n",
            "Epoch 21/30\n",
            "\u001b[1m66/66\u001b[0m \u001b[32m━━━━━━━━━━━━━━━━━━━━\u001b[0m\u001b[37m\u001b[0m \u001b[1m96s\u001b[0m 1s/step - accuracy: 0.3415 - loss: 0.4781 - perplexity: 1.6150\n",
            "Epoch 22/30\n",
            "\u001b[1m66/66\u001b[0m \u001b[32m━━━━━━━━━━━━━━━━━━━━\u001b[0m\u001b[37m\u001b[0m \u001b[1m98s\u001b[0m 1s/step - accuracy: 0.3630 - loss: 0.4114 - perplexity: 1.5106\n",
            "Epoch 23/30\n",
            "\u001b[1m66/66\u001b[0m \u001b[32m━━━━━━━━━━━━━━━━━━━━\u001b[0m\u001b[37m\u001b[0m \u001b[1m98s\u001b[0m 1s/step - accuracy: 0.3783 - loss: 0.3581 - perplexity: 1.4325\n",
            "Epoch 24/30\n",
            "\u001b[1m66/66\u001b[0m \u001b[32m━━━━━━━━━━━━━━━━━━━━\u001b[0m\u001b[37m\u001b[0m \u001b[1m96s\u001b[0m 1s/step - accuracy: 0.3811 - loss: 0.3217 - perplexity: 1.3807\n",
            "Epoch 25/30\n",
            "\u001b[1m66/66\u001b[0m \u001b[32m━━━━━━━━━━━━━━━━━━━━\u001b[0m\u001b[37m\u001b[0m \u001b[1m98s\u001b[0m 1s/step - accuracy: 0.3823 - loss: 0.2993 - perplexity: 1.3500\n",
            "Epoch 26/30\n",
            "\u001b[1m66/66\u001b[0m \u001b[32m━━━━━━━━━━━━━━━━━━━━\u001b[0m\u001b[37m\u001b[0m \u001b[1m97s\u001b[0m 1s/step - accuracy: 0.3802 - loss: 0.2756 - perplexity: 1.3191\n",
            "Epoch 27/30\n",
            "\u001b[1m66/66\u001b[0m \u001b[32m━━━━━━━━━━━━━━━━━━━━\u001b[0m\u001b[37m\u001b[0m \u001b[1m95s\u001b[0m 1s/step - accuracy: 0.3839 - loss: 0.2553 - perplexity: 1.2925\n",
            "Epoch 28/30\n",
            "\u001b[1m66/66\u001b[0m \u001b[32m━━━━━━━━━━━━━━━━━━━━\u001b[0m\u001b[37m\u001b[0m \u001b[1m109s\u001b[0m 2s/step - accuracy: 0.3903 - loss: 0.2402 - perplexity: 1.2726\n",
            "Epoch 29/30\n",
            "\u001b[1m66/66\u001b[0m \u001b[32m━━━━━━━━━━━━━━━━━━━━\u001b[0m\u001b[37m\u001b[0m \u001b[1m101s\u001b[0m 2s/step - accuracy: 0.3966 - loss: 0.2431 - perplexity: 1.2766\n",
            "Epoch 30/30\n",
            "\u001b[1m66/66\u001b[0m \u001b[32m━━━━━━━━━━━━━━━━━━━━\u001b[0m\u001b[37m\u001b[0m \u001b[1m106s\u001b[0m 2s/step - accuracy: 0.4043 - loss: 0.2345 - perplexity: 1.2654\n"
          ]
        }
      ]
    },
    {
      "cell_type": "code",
      "source": [
        "model_NL4.save_weights('D:/skripsi-sultin/data/bot_v4_Final_NL4_E50.weights.h5')"
      ],
      "metadata": {
        "collapsed": true,
        "id": "YOUuqJbGy322"
      },
      "execution_count": null,
      "outputs": []
    },
    {
      "cell_type": "markdown",
      "source": [
        "NL5"
      ],
      "metadata": {
        "id": "gjbjwOJD8jE3"
      }
    },
    {
      "cell_type": "code",
      "source": [
        "#NUM_Layers Tuning Hypereparameters\n",
        "NUM_LAYERS = 5\n",
        "D_MODEL = 256\n",
        "NUM_HEADS = 8\n",
        "UNITS = 512\n",
        "DROPOUT = 0.1\n",
        "\n",
        "model_NL5 = transformer(\n",
        "    vocab_size=VOCAB_SIZE,\n",
        "    num_layers=NUM_LAYERS,\n",
        "    units=UNITS,\n",
        "    d_model=D_MODEL,\n",
        "    num_heads=NUM_HEADS,\n",
        "    dropout=DROPOUT)"
      ],
      "metadata": {
        "id": "h8ky_YZa8ls8"
      },
      "execution_count": null,
      "outputs": []
    },
    {
      "cell_type": "code",
      "source": [
        "learning_rate = CustomSchedule(D_MODEL)\n",
        "\n",
        "optimizer = tf.keras.optimizers.Adam(\n",
        "    learning_rate, beta_1=0.9, beta_2=0.98, epsilon=1e-9)\n",
        "\n",
        "\n",
        "model_NL5.compile(\n",
        "    optimizer=optimizer,\n",
        "    loss=loss_function,\n",
        "    metrics=[accuracy, perplexity],\n",
        "    run_eagerly=True  # Set to True for debugging if needed\n",
        ")"
      ],
      "metadata": {
        "id": "51Wo2F5-8q-a"
      },
      "execution_count": null,
      "outputs": []
    },
    {
      "cell_type": "code",
      "source": [
        "EPOCHS = 30\n",
        "\n",
        "history = model_NL5.fit(dataset, epochs=EPOCHS)"
      ],
      "metadata": {
        "id": "f3ZS68F38sSh",
        "colab": {
          "base_uri": "https://localhost:8080/"
        },
        "outputId": "dc7a9b1c-6dc8-4628-d074-23f848870978"
      },
      "execution_count": null,
      "outputs": [
        {
          "output_type": "stream",
          "name": "stdout",
          "text": [
            "Epoch 1/30\n",
            "\u001b[1m66/66\u001b[0m \u001b[32m━━━━━━━━━━━━━━━━━━━━\u001b[0m\u001b[37m\u001b[0m \u001b[1m130s\u001b[0m 2s/step - accuracy: 0.0075 - loss: 3.5815 - perplexity: 37.8291\n",
            "Epoch 2/30\n",
            "\u001b[1m66/66\u001b[0m \u001b[32m━━━━━━━━━━━━━━━━━━━━\u001b[0m\u001b[37m\u001b[0m \u001b[1m134s\u001b[0m 2s/step - accuracy: 0.0221 - loss: 3.2343 - perplexity: 26.7047\n",
            "Epoch 3/30\n",
            "\u001b[1m66/66\u001b[0m \u001b[32m━━━━━━━━━━━━━━━━━━━━\u001b[0m\u001b[37m\u001b[0m \u001b[1m124s\u001b[0m 2s/step - accuracy: 0.0219 - loss: 2.7927 - perplexity: 16.8355\n",
            "Epoch 4/30\n",
            "\u001b[1m66/66\u001b[0m \u001b[32m━━━━━━━━━━━━━━━━━━━━\u001b[0m\u001b[37m\u001b[0m \u001b[1m131s\u001b[0m 2s/step - accuracy: 0.0296 - loss: 2.6748 - perplexity: 14.8979\n",
            "Epoch 5/30\n",
            "\u001b[1m66/66\u001b[0m \u001b[32m━━━━━━━━━━━━━━━━━━━━\u001b[0m\u001b[37m\u001b[0m \u001b[1m122s\u001b[0m 2s/step - accuracy: 0.0743 - loss: 2.5170 - perplexity: 12.7841\n",
            "Epoch 6/30\n",
            "\u001b[1m66/66\u001b[0m \u001b[32m━━━━━━━━━━━━━━━━━━━━\u001b[0m\u001b[37m\u001b[0m \u001b[1m132s\u001b[0m 2s/step - accuracy: 0.1093 - loss: 2.2143 - perplexity: 9.3541\n",
            "Epoch 7/30\n",
            "\u001b[1m66/66\u001b[0m \u001b[32m━━━━━━━━━━━━━━━━━━━━\u001b[0m\u001b[37m\u001b[0m \u001b[1m119s\u001b[0m 2s/step - accuracy: 0.1253 - loss: 1.9793 - perplexity: 7.3684\n",
            "Epoch 8/30\n",
            "\u001b[1m66/66\u001b[0m \u001b[32m━━━━━━━━━━━━━━━━━━━━\u001b[0m\u001b[37m\u001b[0m \u001b[1m115s\u001b[0m 2s/step - accuracy: 0.1423 - loss: 1.8107 - perplexity: 6.1951\n",
            "Epoch 9/30\n",
            "\u001b[1m66/66\u001b[0m \u001b[32m━━━━━━━━━━━━━━━━━━━━\u001b[0m\u001b[37m\u001b[0m \u001b[1m120s\u001b[0m 2s/step - accuracy: 0.1546 - loss: 1.6812 - perplexity: 5.4696\n",
            "Epoch 10/30\n",
            "\u001b[1m66/66\u001b[0m \u001b[32m━━━━━━━━━━━━━━━━━━━━\u001b[0m\u001b[37m\u001b[0m \u001b[1m119s\u001b[0m 2s/step - accuracy: 0.1663 - loss: 1.6151 - perplexity: 5.0825\n",
            "Epoch 11/30\n",
            "\u001b[1m66/66\u001b[0m \u001b[32m━━━━━━━━━━━━━━━━━━━━\u001b[0m\u001b[37m\u001b[0m \u001b[1m118s\u001b[0m 2s/step - accuracy: 0.1782 - loss: 1.4985 - perplexity: 4.5237\n",
            "Epoch 12/30\n",
            "\u001b[1m66/66\u001b[0m \u001b[32m━━━━━━━━━━━━━━━━━━━━\u001b[0m\u001b[37m\u001b[0m \u001b[1m118s\u001b[0m 2s/step - accuracy: 0.1806 - loss: 1.3674 - perplexity: 3.9811\n",
            "Epoch 13/30\n",
            "\u001b[1m66/66\u001b[0m \u001b[32m━━━━━━━━━━━━━━━━━━━━\u001b[0m\u001b[37m\u001b[0m \u001b[1m117s\u001b[0m 2s/step - accuracy: 0.1984 - loss: 1.3098 - perplexity: 3.7373\n",
            "Epoch 14/30\n",
            "\u001b[1m66/66\u001b[0m \u001b[32m━━━━━━━━━━━━━━━━━━━━\u001b[0m\u001b[37m\u001b[0m \u001b[1m117s\u001b[0m 2s/step - accuracy: 0.2071 - loss: 1.1852 - perplexity: 3.2978\n",
            "Epoch 15/30\n",
            "\u001b[1m66/66\u001b[0m \u001b[32m━━━━━━━━━━━━━━━━━━━━\u001b[0m\u001b[37m\u001b[0m \u001b[1m118s\u001b[0m 2s/step - accuracy: 0.2188 - loss: 1.1311 - perplexity: 3.1192\n",
            "Epoch 16/30\n",
            "\u001b[1m66/66\u001b[0m \u001b[32m━━━━━━━━━━━━━━━━━━━━\u001b[0m\u001b[37m\u001b[0m \u001b[1m118s\u001b[0m 2s/step - accuracy: 0.2319 - loss: 1.0360 - perplexity: 2.8335\n",
            "Epoch 17/30\n",
            "\u001b[1m66/66\u001b[0m \u001b[32m━━━━━━━━━━━━━━━━━━━━\u001b[0m\u001b[37m\u001b[0m \u001b[1m117s\u001b[0m 2s/step - accuracy: 0.2421 - loss: 0.9119 - perplexity: 2.5017\n",
            "Epoch 18/30\n",
            "\u001b[1m66/66\u001b[0m \u001b[32m━━━━━━━━━━━━━━━━━━━━\u001b[0m\u001b[37m\u001b[0m \u001b[1m117s\u001b[0m 2s/step - accuracy: 0.2619 - loss: 0.8334 - perplexity: 2.3141\n",
            "Epoch 19/30\n",
            "\u001b[1m66/66\u001b[0m \u001b[32m━━━━━━━━━━━━━━━━━━━━\u001b[0m\u001b[37m\u001b[0m \u001b[1m118s\u001b[0m 2s/step - accuracy: 0.2735 - loss: 0.7461 - perplexity: 2.1154\n",
            "Epoch 20/30\n",
            "\u001b[1m66/66\u001b[0m \u001b[32m━━━━━━━━━━━━━━━━━━━━\u001b[0m\u001b[37m\u001b[0m \u001b[1m117s\u001b[0m 2s/step - accuracy: 0.2888 - loss: 0.6804 - perplexity: 1.9822\n",
            "Epoch 21/30\n",
            "\u001b[1m66/66\u001b[0m \u001b[32m━━━━━━━━━━━━━━━━━━━━\u001b[0m\u001b[37m\u001b[0m \u001b[1m118s\u001b[0m 2s/step - accuracy: 0.3071 - loss: 0.6138 - perplexity: 1.8518\n",
            "Epoch 22/30\n",
            "\u001b[1m66/66\u001b[0m \u001b[32m━━━━━━━━━━━━━━━━━━━━\u001b[0m\u001b[37m\u001b[0m \u001b[1m118s\u001b[0m 2s/step - accuracy: 0.3274 - loss: 0.5462 - perplexity: 1.7306\n",
            "Epoch 23/30\n",
            "\u001b[1m66/66\u001b[0m \u001b[32m━━━━━━━━━━━━━━━━━━━━\u001b[0m\u001b[37m\u001b[0m \u001b[1m117s\u001b[0m 2s/step - accuracy: 0.3401 - loss: 0.4694 - perplexity: 1.6028\n",
            "Epoch 24/30\n",
            "\u001b[1m66/66\u001b[0m \u001b[32m━━━━━━━━━━━━━━━━━━━━\u001b[0m\u001b[37m\u001b[0m \u001b[1m118s\u001b[0m 2s/step - accuracy: 0.3434 - loss: 0.4383 - perplexity: 1.5524\n",
            "Epoch 25/30\n",
            "\u001b[1m66/66\u001b[0m \u001b[32m━━━━━━━━━━━━━━━━━━━━\u001b[0m\u001b[37m\u001b[0m \u001b[1m117s\u001b[0m 2s/step - accuracy: 0.3574 - loss: 0.3961 - perplexity: 1.4884\n",
            "Epoch 26/30\n",
            "\u001b[1m66/66\u001b[0m \u001b[32m━━━━━━━━━━━━━━━━━━━━\u001b[0m\u001b[37m\u001b[0m \u001b[1m117s\u001b[0m 2s/step - accuracy: 0.3678 - loss: 0.3653 - perplexity: 1.4432\n",
            "Epoch 27/30\n",
            "\u001b[1m66/66\u001b[0m \u001b[32m━━━━━━━━━━━━━━━━━━━━\u001b[0m\u001b[37m\u001b[0m \u001b[1m118s\u001b[0m 2s/step - accuracy: 0.3668 - loss: 0.3505 - perplexity: 1.4222\n",
            "Epoch 28/30\n",
            "\u001b[1m66/66\u001b[0m \u001b[32m━━━━━━━━━━━━━━━━━━━━\u001b[0m\u001b[37m\u001b[0m \u001b[1m117s\u001b[0m 2s/step - accuracy: 0.3748 - loss: 0.3341 - perplexity: 1.3985\n",
            "Epoch 29/30\n",
            "\u001b[1m66/66\u001b[0m \u001b[32m━━━━━━━━━━━━━━━━━━━━\u001b[0m\u001b[37m\u001b[0m \u001b[1m117s\u001b[0m 2s/step - accuracy: 0.3717 - loss: 0.3088 - perplexity: 1.3648\n",
            "Epoch 30/30\n",
            "\u001b[1m66/66\u001b[0m \u001b[32m━━━━━━━━━━━━━━━━━━━━\u001b[0m\u001b[37m\u001b[0m \u001b[1m117s\u001b[0m 2s/step - accuracy: 0.3725 - loss: 0.3003 - perplexity: 1.3521\n"
          ]
        }
      ]
    },
    {
      "cell_type": "code",
      "source": [
        "model_NL5.save_weights('D:/skripsi-sultin/data/bot_v4_Final_NL5_E50.weights.h5')"
      ],
      "metadata": {
        "id": "c5ouBQTqhI7b"
      },
      "execution_count": null,
      "outputs": []
    },
    {
      "cell_type": "markdown",
      "source": [
        "# Eksperimen D_MODEL\n"
      ],
      "metadata": {
        "id": "cCdVtcVAxyIF"
      }
    },
    {
      "cell_type": "markdown",
      "source": [
        "D_MODEL128"
      ],
      "metadata": {
        "id": "oIn1iiZj88_R"
      }
    },
    {
      "cell_type": "code",
      "source": [
        "tf.keras.backend.clear_session()\n",
        "\n",
        "#D_MODEL Tuning Hypereparameters\n",
        "NUM_LAYERS = 2\n",
        "D_MODEL = 128\n",
        "NUM_HEADS = 8\n",
        "UNITS = 512\n",
        "DROPOUT = 0.1\n",
        "\n",
        "model_DM128 = transformer(\n",
        "    vocab_size=VOCAB_SIZE,\n",
        "    num_layers=NUM_LAYERS,\n",
        "    units=UNITS,\n",
        "    d_model=D_MODEL,\n",
        "    num_heads=NUM_HEADS,\n",
        "    dropout=DROPOUT)"
      ],
      "metadata": {
        "id": "KhOsOmJzxZMK"
      },
      "execution_count": null,
      "outputs": []
    },
    {
      "cell_type": "code",
      "source": [
        "learning_rate = CustomSchedule(D_MODEL)\n",
        "\n",
        "optimizer = tf.keras.optimizers.Adam(\n",
        "    learning_rate, beta_1=0.9, beta_2=0.98, epsilon=1e-9)\n",
        "\n",
        "\n",
        "model_DM128.compile(\n",
        "    optimizer=optimizer,\n",
        "    loss=loss_function,\n",
        "    metrics=[accuracy, perplexity],\n",
        "    run_eagerly=True  # Set to True for debugging if needed\n",
        ")"
      ],
      "metadata": {
        "id": "hkNIXUHa9BIF"
      },
      "execution_count": null,
      "outputs": []
    },
    {
      "cell_type": "code",
      "source": [
        "EPOCHS = 30\n",
        "\n",
        "history = model_DM128.fit(dataset, epochs=EPOCHS)"
      ],
      "metadata": {
        "id": "OPj8Jm3G9FjO",
        "colab": {
          "base_uri": "https://localhost:8080/"
        },
        "outputId": "754ebc1e-b846-47df-bb75-fe5da5f46ec6"
      },
      "execution_count": null,
      "outputs": [
        {
          "output_type": "stream",
          "name": "stdout",
          "text": [
            "Epoch 1/30\n",
            "\u001b[1m66/66\u001b[0m \u001b[32m━━━━━━━━━━━━━━━━━━━━\u001b[0m\u001b[37m\u001b[0m \u001b[1m44s\u001b[0m 658ms/step - accuracy: 0.0017 - loss: 3.6107 - perplexity: 39.7680\n",
            "Epoch 2/30\n",
            "\u001b[1m66/66\u001b[0m \u001b[32m━━━━━━━━━━━━━━━━━━━━\u001b[0m\u001b[37m\u001b[0m \u001b[1m43s\u001b[0m 649ms/step - accuracy: 0.0232 - loss: 3.3376 - perplexity: 29.4851\n",
            "Epoch 3/30\n",
            "\u001b[1m66/66\u001b[0m \u001b[32m━━━━━━━━━━━━━━━━━━━━\u001b[0m\u001b[37m\u001b[0m \u001b[1m43s\u001b[0m 651ms/step - accuracy: 0.0242 - loss: 3.0484 - perplexity: 22.5553\n",
            "Epoch 4/30\n",
            "\u001b[1m66/66\u001b[0m \u001b[32m━━━━━━━━━━━━━━━━━━━━\u001b[0m\u001b[37m\u001b[0m \u001b[1m43s\u001b[0m 652ms/step - accuracy: 0.0438 - loss: 2.7129 - perplexity: 15.3966\n",
            "Epoch 5/30\n",
            "\u001b[1m66/66\u001b[0m \u001b[32m━━━━━━━━━━━━━━━━━━━━\u001b[0m\u001b[37m\u001b[0m \u001b[1m43s\u001b[0m 653ms/step - accuracy: 0.0756 - loss: 2.4938 - perplexity: 12.3342\n",
            "Epoch 6/30\n",
            "\u001b[1m66/66\u001b[0m \u001b[32m━━━━━━━━━━━━━━━━━━━━\u001b[0m\u001b[37m\u001b[0m \u001b[1m43s\u001b[0m 655ms/step - accuracy: 0.1029 - loss: 2.2401 - perplexity: 9.7911\n",
            "Epoch 7/30\n",
            "\u001b[1m66/66\u001b[0m \u001b[32m━━━━━━━━━━━━━━━━━━━━\u001b[0m\u001b[37m\u001b[0m \u001b[1m43s\u001b[0m 653ms/step - accuracy: 0.1255 - loss: 2.0077 - perplexity: 7.5498\n",
            "Epoch 8/30\n",
            "\u001b[1m66/66\u001b[0m \u001b[32m━━━━━━━━━━━━━━━━━━━━\u001b[0m\u001b[37m\u001b[0m \u001b[1m43s\u001b[0m 651ms/step - accuracy: 0.1435 - loss: 1.8874 - perplexity: 6.6927\n",
            "Epoch 9/30\n",
            "\u001b[1m66/66\u001b[0m \u001b[32m━━━━━━━━━━━━━━━━━━━━\u001b[0m\u001b[37m\u001b[0m \u001b[1m43s\u001b[0m 653ms/step - accuracy: 0.1578 - loss: 1.6925 - perplexity: 5.5062\n",
            "Epoch 10/30\n",
            "\u001b[1m66/66\u001b[0m \u001b[32m━━━━━━━━━━━━━━━━━━━━\u001b[0m\u001b[37m\u001b[0m \u001b[1m43s\u001b[0m 655ms/step - accuracy: 0.1682 - loss: 1.6200 - perplexity: 5.1011\n",
            "Epoch 11/30\n",
            "\u001b[1m66/66\u001b[0m \u001b[32m━━━━━━━━━━━━━━━━━━━━\u001b[0m\u001b[37m\u001b[0m \u001b[1m44s\u001b[0m 665ms/step - accuracy: 0.1747 - loss: 1.4684 - perplexity: 4.3988\n",
            "Epoch 12/30\n",
            "\u001b[1m66/66\u001b[0m \u001b[32m━━━━━━━━━━━━━━━━━━━━\u001b[0m\u001b[37m\u001b[0m \u001b[1m43s\u001b[0m 659ms/step - accuracy: 0.1863 - loss: 1.4079 - perplexity: 4.1216\n",
            "Epoch 13/30\n",
            "\u001b[1m66/66\u001b[0m \u001b[32m━━━━━━━━━━━━━━━━━━━━\u001b[0m\u001b[37m\u001b[0m \u001b[1m44s\u001b[0m 663ms/step - accuracy: 0.1931 - loss: 1.3071 - perplexity: 3.7323\n",
            "Epoch 14/30\n",
            "\u001b[1m66/66\u001b[0m \u001b[32m━━━━━━━━━━━━━━━━━━━━\u001b[0m\u001b[37m\u001b[0m \u001b[1m47s\u001b[0m 708ms/step - accuracy: 0.2037 - loss: 1.2342 - perplexity: 3.4624\n",
            "Epoch 15/30\n",
            "\u001b[1m66/66\u001b[0m \u001b[32m━━━━━━━━━━━━━━━━━━━━\u001b[0m\u001b[37m\u001b[0m \u001b[1m43s\u001b[0m 655ms/step - accuracy: 0.2156 - loss: 1.1488 - perplexity: 3.1760\n",
            "Epoch 16/30\n",
            "\u001b[1m66/66\u001b[0m \u001b[32m━━━━━━━━━━━━━━━━━━━━\u001b[0m\u001b[37m\u001b[0m \u001b[1m43s\u001b[0m 654ms/step - accuracy: 0.2196 - loss: 1.0516 - perplexity: 2.8741\n",
            "Epoch 17/30\n",
            "\u001b[1m66/66\u001b[0m \u001b[32m━━━━━━━━━━━━━━━━━━━━\u001b[0m\u001b[37m\u001b[0m \u001b[1m43s\u001b[0m 650ms/step - accuracy: 0.2390 - loss: 0.9589 - perplexity: 2.6258\n",
            "Epoch 18/30\n",
            "\u001b[1m66/66\u001b[0m \u001b[32m━━━━━━━━━━━━━━━━━━━━\u001b[0m\u001b[37m\u001b[0m \u001b[1m43s\u001b[0m 656ms/step - accuracy: 0.2517 - loss: 0.8785 - perplexity: 2.4196\n",
            "Epoch 19/30\n",
            "\u001b[1m66/66\u001b[0m \u001b[32m━━━━━━━━━━━━━━━━━━━━\u001b[0m\u001b[37m\u001b[0m \u001b[1m43s\u001b[0m 655ms/step - accuracy: 0.2697 - loss: 0.8095 - perplexity: 2.2535\n",
            "Epoch 20/30\n",
            "\u001b[1m66/66\u001b[0m \u001b[32m━━━━━━━━━━━━━━━━━━━━\u001b[0m\u001b[37m\u001b[0m \u001b[1m43s\u001b[0m 656ms/step - accuracy: 0.2890 - loss: 0.7276 - perplexity: 2.0759\n",
            "Epoch 21/30\n",
            "\u001b[1m66/66\u001b[0m \u001b[32m━━━━━━━━━━━━━━━━━━━━\u001b[0m\u001b[37m\u001b[0m \u001b[1m43s\u001b[0m 658ms/step - accuracy: 0.3003 - loss: 0.6435 - perplexity: 1.9085\n",
            "Epoch 22/30\n",
            "\u001b[1m66/66\u001b[0m \u001b[32m━━━━━━━━━━━━━━━━━━━━\u001b[0m\u001b[37m\u001b[0m \u001b[1m44s\u001b[0m 662ms/step - accuracy: 0.3119 - loss: 0.5436 - perplexity: 1.7295\n",
            "Epoch 23/30\n",
            "\u001b[1m66/66\u001b[0m \u001b[32m━━━━━━━━━━━━━━━━━━━━\u001b[0m\u001b[37m\u001b[0m \u001b[1m43s\u001b[0m 656ms/step - accuracy: 0.3361 - loss: 0.5004 - perplexity: 1.6533\n",
            "Epoch 24/30\n",
            "\u001b[1m66/66\u001b[0m \u001b[32m━━━━━━━━━━━━━━━━━━━━\u001b[0m\u001b[37m\u001b[0m \u001b[1m43s\u001b[0m 654ms/step - accuracy: 0.3372 - loss: 0.4444 - perplexity: 1.5624\n",
            "Epoch 25/30\n",
            "\u001b[1m66/66\u001b[0m \u001b[32m━━━━━━━━━━━━━━━━━━━━\u001b[0m\u001b[37m\u001b[0m \u001b[1m43s\u001b[0m 653ms/step - accuracy: 0.3564 - loss: 0.3913 - perplexity: 1.4809\n",
            "Epoch 26/30\n",
            "\u001b[1m66/66\u001b[0m \u001b[32m━━━━━━━━━━━━━━━━━━━━\u001b[0m\u001b[37m\u001b[0m \u001b[1m43s\u001b[0m 654ms/step - accuracy: 0.3668 - loss: 0.3579 - perplexity: 1.4332\n",
            "Epoch 27/30\n",
            "\u001b[1m66/66\u001b[0m \u001b[32m━━━━━━━━━━━━━━━━━━━━\u001b[0m\u001b[37m\u001b[0m \u001b[1m44s\u001b[0m 661ms/step - accuracy: 0.3751 - loss: 0.3273 - perplexity: 1.3890\n",
            "Epoch 28/30\n",
            "\u001b[1m66/66\u001b[0m \u001b[32m━━━━━━━━━━━━━━━━━━━━\u001b[0m\u001b[37m\u001b[0m \u001b[1m45s\u001b[0m 683ms/step - accuracy: 0.3736 - loss: 0.3006 - perplexity: 1.3524\n",
            "Epoch 29/30\n",
            "\u001b[1m66/66\u001b[0m \u001b[32m━━━━━━━━━━━━━━━━━━━━\u001b[0m\u001b[37m\u001b[0m \u001b[1m45s\u001b[0m 683ms/step - accuracy: 0.3911 - loss: 0.2868 - perplexity: 1.3334\n",
            "Epoch 30/30\n",
            "\u001b[1m66/66\u001b[0m \u001b[32m━━━━━━━━━━━━━━━━━━━━\u001b[0m\u001b[37m\u001b[0m \u001b[1m45s\u001b[0m 686ms/step - accuracy: 0.3911 - loss: 0.2659 - perplexity: 1.3056\n"
          ]
        }
      ]
    },
    {
      "cell_type": "code",
      "source": [
        "model_DM128.save_weights('D:/skripsi-sultin/data/bot_v4_Final_DM128_E50.weights.h5')"
      ],
      "metadata": {
        "id": "R5ewZcp6weaN"
      },
      "execution_count": null,
      "outputs": []
    },
    {
      "cell_type": "markdown",
      "source": [
        "D_MODEL 384"
      ],
      "metadata": {
        "id": "Ge32L6BZ9Je5"
      }
    },
    {
      "cell_type": "code",
      "source": [
        "tf.keras.backend.clear_session()\n",
        "\n",
        "\n",
        "NUM_LAYERS = 2\n",
        "D_MODEL = 384\n",
        "NUM_HEADS = 8\n",
        "UNITS = 512\n",
        "DROPOUT = 0.1\n",
        "\n",
        "model_DM328 = transformer(\n",
        "    vocab_size=VOCAB_SIZE,\n",
        "    num_layers=NUM_LAYERS,\n",
        "    units=UNITS,\n",
        "    d_model=D_MODEL,\n",
        "    num_heads=NUM_HEADS,\n",
        "    dropout=DROPOUT)"
      ],
      "metadata": {
        "id": "Mc_Au9w29mJe"
      },
      "execution_count": null,
      "outputs": []
    },
    {
      "cell_type": "code",
      "source": [
        "learning_rate = CustomSchedule(D_MODEL)\n",
        "\n",
        "optimizer = tf.keras.optimizers.Adam(\n",
        "    learning_rate, beta_1=0.9, beta_2=0.98, epsilon=1e-9)\n",
        "\n",
        "\n",
        "model_DM328.compile(\n",
        "    optimizer=optimizer,\n",
        "    loss=loss_function,\n",
        "    metrics=[accuracy, perplexity],\n",
        "    run_eagerly=True  # Set to True for debugging if needed\n",
        ")"
      ],
      "metadata": {
        "id": "FtY1ihvi9nRr"
      },
      "execution_count": null,
      "outputs": []
    },
    {
      "cell_type": "code",
      "source": [
        "EPOCHS = 30\n",
        "\n",
        "history = model_DM328.fit(dataset, epochs=EPOCHS)"
      ],
      "metadata": {
        "id": "f98mmpr99Ypz",
        "colab": {
          "base_uri": "https://localhost:8080/"
        },
        "outputId": "b8ebe809-8dce-47c3-8b65-edf92872908c"
      },
      "execution_count": null,
      "outputs": [
        {
          "output_type": "stream",
          "name": "stdout",
          "text": [
            "Epoch 1/30\n",
            "\u001b[1m66/66\u001b[0m \u001b[32m━━━━━━━━━━━━━━━━━━━━\u001b[0m\u001b[37m\u001b[0m \u001b[1m55s\u001b[0m 824ms/step - accuracy: 0.0106 - loss: 3.6192 - perplexity: 40.2197\n",
            "Epoch 2/30\n",
            "\u001b[1m66/66\u001b[0m \u001b[32m━━━━━━━━━━━━━━━━━━━━\u001b[0m\u001b[37m\u001b[0m \u001b[1m55s\u001b[0m 831ms/step - accuracy: 0.0202 - loss: 3.0781 - perplexity: 22.4896\n",
            "Epoch 3/30\n",
            "\u001b[1m66/66\u001b[0m \u001b[32m━━━━━━━━━━━━━━━━━━━━\u001b[0m\u001b[37m\u001b[0m \u001b[1m56s\u001b[0m 842ms/step - accuracy: 0.0320 - loss: 2.7057 - perplexity: 15.4223\n",
            "Epoch 4/30\n",
            "\u001b[1m66/66\u001b[0m \u001b[32m━━━━━━━━━━━━━━━━━━━━\u001b[0m\u001b[37m\u001b[0m \u001b[1m55s\u001b[0m 831ms/step - accuracy: 0.0772 - loss: 2.4826 - perplexity: 12.2602\n",
            "Epoch 5/30\n",
            "\u001b[1m66/66\u001b[0m \u001b[32m━━━━━━━━━━━━━━━━━━━━\u001b[0m\u001b[37m\u001b[0m \u001b[1m55s\u001b[0m 839ms/step - accuracy: 0.1130 - loss: 2.1128 - perplexity: 8.4401\n",
            "Epoch 6/30\n",
            "\u001b[1m66/66\u001b[0m \u001b[32m━━━━━━━━━━━━━━━━━━━━\u001b[0m\u001b[37m\u001b[0m \u001b[1m55s\u001b[0m 838ms/step - accuracy: 0.1368 - loss: 1.9111 - perplexity: 6.8458\n",
            "Epoch 7/30\n",
            "\u001b[1m66/66\u001b[0m \u001b[32m━━━━━━━━━━━━━━━━━━━━\u001b[0m\u001b[37m\u001b[0m \u001b[1m55s\u001b[0m 831ms/step - accuracy: 0.1554 - loss: 1.7537 - perplexity: 5.8453\n",
            "Epoch 8/30\n",
            "\u001b[1m66/66\u001b[0m \u001b[32m━━━━━━━━━━━━━━━━━━━━\u001b[0m\u001b[37m\u001b[0m \u001b[1m55s\u001b[0m 833ms/step - accuracy: 0.1723 - loss: 1.5794 - perplexity: 4.9304\n",
            "Epoch 9/30\n",
            "\u001b[1m66/66\u001b[0m \u001b[32m━━━━━━━━━━━━━━━━━━━━\u001b[0m\u001b[37m\u001b[0m \u001b[1m55s\u001b[0m 831ms/step - accuracy: 0.1836 - loss: 1.4303 - perplexity: 4.2154\n",
            "Epoch 10/30\n",
            "\u001b[1m66/66\u001b[0m \u001b[32m━━━━━━━━━━━━━━━━━━━━\u001b[0m\u001b[37m\u001b[0m \u001b[1m55s\u001b[0m 836ms/step - accuracy: 0.1973 - loss: 1.2959 - perplexity: 3.6792\n",
            "Epoch 11/30\n",
            "\u001b[1m66/66\u001b[0m \u001b[32m━━━━━━━━━━━━━━━━━━━━\u001b[0m\u001b[37m\u001b[0m \u001b[1m56s\u001b[0m 854ms/step - accuracy: 0.2182 - loss: 1.1639 - perplexity: 3.2228\n",
            "Epoch 12/30\n",
            "\u001b[1m66/66\u001b[0m \u001b[32m━━━━━━━━━━━━━━━━━━━━\u001b[0m\u001b[37m\u001b[0m \u001b[1m55s\u001b[0m 839ms/step - accuracy: 0.2373 - loss: 1.0579 - perplexity: 2.8925\n",
            "Epoch 13/30\n",
            "\u001b[1m66/66\u001b[0m \u001b[32m━━━━━━━━━━━━━━━━━━━━\u001b[0m\u001b[37m\u001b[0m \u001b[1m55s\u001b[0m 827ms/step - accuracy: 0.2565 - loss: 0.9140 - perplexity: 2.5068\n",
            "Epoch 14/30\n",
            "\u001b[1m66/66\u001b[0m \u001b[32m━━━━━━━━━━━━━━━━━━━━\u001b[0m\u001b[37m\u001b[0m \u001b[1m56s\u001b[0m 852ms/step - accuracy: 0.2757 - loss: 0.7749 - perplexity: 2.1805\n",
            "Epoch 15/30\n",
            "\u001b[1m66/66\u001b[0m \u001b[32m━━━━━━━━━━━━━━━━━━━━\u001b[0m\u001b[37m\u001b[0m \u001b[1m55s\u001b[0m 838ms/step - accuracy: 0.3025 - loss: 0.6646 - perplexity: 1.9499\n",
            "Epoch 16/30\n",
            "\u001b[1m66/66\u001b[0m \u001b[32m━━━━━━━━━━━━━━━━━━━━\u001b[0m\u001b[37m\u001b[0m \u001b[1m55s\u001b[0m 839ms/step - accuracy: 0.3335 - loss: 0.5638 - perplexity: 1.7625\n",
            "Epoch 17/30\n",
            "\u001b[1m66/66\u001b[0m \u001b[32m━━━━━━━━━━━━━━━━━━━━\u001b[0m\u001b[37m\u001b[0m \u001b[1m55s\u001b[0m 830ms/step - accuracy: 0.3522 - loss: 0.4443 - perplexity: 1.5621\n",
            "Epoch 18/30\n",
            "\u001b[1m66/66\u001b[0m \u001b[32m━━━━━━━━━━━━━━━━━━━━\u001b[0m\u001b[37m\u001b[0m \u001b[1m55s\u001b[0m 831ms/step - accuracy: 0.3781 - loss: 0.3474 - perplexity: 1.4175\n",
            "Epoch 19/30\n",
            "\u001b[1m66/66\u001b[0m \u001b[32m━━━━━━━━━━━━━━━━━━━━\u001b[0m\u001b[37m\u001b[0m \u001b[1m56s\u001b[0m 842ms/step - accuracy: 0.4022 - loss: 0.2967 - perplexity: 1.3465\n",
            "Epoch 20/30\n",
            "\u001b[1m66/66\u001b[0m \u001b[32m━━━━━━━━━━━━━━━━━━━━\u001b[0m\u001b[37m\u001b[0m \u001b[1m55s\u001b[0m 826ms/step - accuracy: 0.4103 - loss: 0.2372 - perplexity: 1.2685\n",
            "Epoch 21/30\n",
            "\u001b[1m66/66\u001b[0m \u001b[32m━━━━━━━━━━━━━━━━━━━━\u001b[0m\u001b[37m\u001b[0m \u001b[1m55s\u001b[0m 827ms/step - accuracy: 0.4126 - loss: 0.2065 - perplexity: 1.2303\n",
            "Epoch 22/30\n",
            "\u001b[1m66/66\u001b[0m \u001b[32m━━━━━━━━━━━━━━━━━━━━\u001b[0m\u001b[37m\u001b[0m \u001b[1m55s\u001b[0m 831ms/step - accuracy: 0.4109 - loss: 0.1812 - perplexity: 1.1994\n",
            "Epoch 23/30\n",
            "\u001b[1m66/66\u001b[0m \u001b[32m━━━━━━━━━━━━━━━━━━━━\u001b[0m\u001b[37m\u001b[0m \u001b[1m55s\u001b[0m 834ms/step - accuracy: 0.4228 - loss: 0.1641 - perplexity: 1.1790\n",
            "Epoch 24/30\n",
            "\u001b[1m66/66\u001b[0m \u001b[32m━━━━━━━━━━━━━━━━━━━━\u001b[0m\u001b[37m\u001b[0m \u001b[1m55s\u001b[0m 828ms/step - accuracy: 0.4239 - loss: 0.1712 - perplexity: 1.1872\n",
            "Epoch 25/30\n",
            "\u001b[1m66/66\u001b[0m \u001b[32m━━━━━━━━━━━━━━━━━━━━\u001b[0m\u001b[37m\u001b[0m \u001b[1m55s\u001b[0m 836ms/step - accuracy: 0.4143 - loss: 0.1616 - perplexity: 1.1760\n",
            "Epoch 26/30\n",
            "\u001b[1m66/66\u001b[0m \u001b[32m━━━━━━━━━━━━━━━━━━━━\u001b[0m\u001b[37m\u001b[0m \u001b[1m58s\u001b[0m 876ms/step - accuracy: 0.4182 - loss: 0.1584 - perplexity: 1.1723\n",
            "Epoch 27/30\n",
            "\u001b[1m66/66\u001b[0m \u001b[32m━━━━━━━━━━━━━━━━━━━━\u001b[0m\u001b[37m\u001b[0m \u001b[1m60s\u001b[0m 907ms/step - accuracy: 0.4178 - loss: 0.1602 - perplexity: 1.1745\n",
            "Epoch 28/30\n",
            "\u001b[1m66/66\u001b[0m \u001b[32m━━━━━━━━━━━━━━━━━━━━\u001b[0m\u001b[37m\u001b[0m \u001b[1m59s\u001b[0m 900ms/step - accuracy: 0.4278 - loss: 0.1570 - perplexity: 1.1705\n",
            "Epoch 29/30\n",
            "\u001b[1m66/66\u001b[0m \u001b[32m━━━━━━━━━━━━━━━━━━━━\u001b[0m\u001b[37m\u001b[0m \u001b[1m62s\u001b[0m 937ms/step - accuracy: 0.4268 - loss: 0.1563 - perplexity: 1.1696\n",
            "Epoch 30/30\n",
            "\u001b[1m66/66\u001b[0m \u001b[32m━━━━━━━━━━━━━━━━━━━━\u001b[0m\u001b[37m\u001b[0m \u001b[1m60s\u001b[0m 909ms/step - accuracy: 0.4266 - loss: 0.1558 - perplexity: 1.1691\n"
          ]
        }
      ]
    },
    {
      "cell_type": "code",
      "source": [
        "model_DM328.save_weights('D:/skripsi-sultin/data/bot_v4_Final_DM328_E50.weights.h5')"
      ],
      "metadata": {
        "id": "GfWOxiMcjPmu"
      },
      "execution_count": null,
      "outputs": []
    },
    {
      "cell_type": "markdown",
      "source": [
        "D_MODEL 512"
      ],
      "metadata": {
        "id": "7lIUrQBe9sSH"
      }
    },
    {
      "cell_type": "code",
      "source": [
        "#D_MODEL Tuning Hypereparameters\n",
        "NUM_LAYERS = 2\n",
        "D_MODEL = 512\n",
        "NUM_HEADS = 8\n",
        "UNITS = 512\n",
        "DROPOUT = 0.1\n",
        "\n",
        "model_DM512 = transformer(\n",
        "    vocab_size=VOCAB_SIZE,\n",
        "    num_layers=NUM_LAYERS,\n",
        "    units=UNITS,\n",
        "    d_model=D_MODEL,\n",
        "    num_heads=NUM_HEADS,\n",
        "    dropout=DROPOUT)"
      ],
      "metadata": {
        "id": "jzK-y-wW9wKl"
      },
      "execution_count": null,
      "outputs": []
    },
    {
      "cell_type": "code",
      "source": [
        "learning_rate = CustomSchedule(D_MODEL)\n",
        "\n",
        "optimizer = tf.keras.optimizers.Adam(\n",
        "    learning_rate, beta_1=0.9, beta_2=0.98, epsilon=1e-9)\n",
        "\n",
        "\n",
        "model_DM512.compile(\n",
        "    optimizer=optimizer,\n",
        "    loss=loss_function,\n",
        "    metrics=[accuracy, perplexity],\n",
        "    run_eagerly=True  # Set to True for debugging if needed\n",
        ")"
      ],
      "metadata": {
        "id": "w0gyme9t94MM"
      },
      "execution_count": null,
      "outputs": []
    },
    {
      "cell_type": "code",
      "source": [
        "EPOCHS = 30\n",
        "\n",
        "history = model_DM512.fit(dataset, epochs=EPOCHS)"
      ],
      "metadata": {
        "id": "mAuY3WE596b1",
        "colab": {
          "base_uri": "https://localhost:8080/"
        },
        "outputId": "33313282-c1f8-4912-cc86-4e6c05e747ec"
      },
      "execution_count": null,
      "outputs": [
        {
          "output_type": "stream",
          "name": "stdout",
          "text": [
            "Epoch 1/30\n",
            "\u001b[1m66/66\u001b[0m \u001b[32m━━━━━━━━━━━━━━━━━━━━\u001b[0m\u001b[37m\u001b[0m \u001b[1m70s\u001b[0m 1s/step - accuracy: 0.0067 - loss: 3.6647 - perplexity: 42.1764\n",
            "Epoch 2/30\n",
            "\u001b[1m66/66\u001b[0m \u001b[32m━━━━━━━━━━━━━━━━━━━━\u001b[0m\u001b[37m\u001b[0m \u001b[1m70s\u001b[0m 1s/step - accuracy: 0.0248 - loss: 3.0077 - perplexity: 21.1875\n",
            "Epoch 3/30\n",
            "\u001b[1m66/66\u001b[0m \u001b[32m━━━━━━━━━━━━━━━━━━━━\u001b[0m\u001b[37m\u001b[0m \u001b[1m70s\u001b[0m 1s/step - accuracy: 0.0485 - loss: 2.6536 - perplexity: 14.6803\n",
            "Epoch 4/30\n",
            "\u001b[1m66/66\u001b[0m \u001b[32m━━━━━━━━━━━━━━━━━━━━\u001b[0m\u001b[37m\u001b[0m \u001b[1m70s\u001b[0m 1s/step - accuracy: 0.0854 - loss: 2.3454 - perplexity: 10.6869\n",
            "Epoch 5/30\n",
            "\u001b[1m66/66\u001b[0m \u001b[32m━━━━━━━━━━━━━━━━━━━━\u001b[0m\u001b[37m\u001b[0m \u001b[1m70s\u001b[0m 1s/step - accuracy: 0.1245 - loss: 2.0549 - perplexity: 7.9821\n",
            "Epoch 6/30\n",
            "\u001b[1m66/66\u001b[0m \u001b[32m━━━━━━━━━━━━━━━━━━━━\u001b[0m\u001b[37m\u001b[0m \u001b[1m72s\u001b[0m 1s/step - accuracy: 0.1464 - loss: 1.8462 - perplexity: 6.4186\n",
            "Epoch 7/30\n",
            "\u001b[1m66/66\u001b[0m \u001b[32m━━━━━━━━━━━━━━━━━━━━\u001b[0m\u001b[37m\u001b[0m \u001b[1m69s\u001b[0m 1s/step - accuracy: 0.1605 - loss: 1.6177 - perplexity: 5.1162\n",
            "Epoch 8/30\n",
            "\u001b[1m66/66\u001b[0m \u001b[32m━━━━━━━━━━━━━━━━━━━━\u001b[0m\u001b[37m\u001b[0m \u001b[1m70s\u001b[0m 1s/step - accuracy: 0.1774 - loss: 1.4645 - perplexity: 4.3692\n",
            "Epoch 9/30\n",
            "\u001b[1m66/66\u001b[0m \u001b[32m━━━━━━━━━━━━━━━━━━━━\u001b[0m\u001b[37m\u001b[0m \u001b[1m71s\u001b[0m 1s/step - accuracy: 0.1970 - loss: 1.3101 - perplexity: 3.7372\n",
            "Epoch 10/30\n",
            "\u001b[1m66/66\u001b[0m \u001b[32m━━━━━━━━━━━━━━━━━━━━\u001b[0m\u001b[37m\u001b[0m \u001b[1m70s\u001b[0m 1s/step - accuracy: 0.2179 - loss: 1.2006 - perplexity: 3.3407\n",
            "Epoch 11/30\n",
            "\u001b[1m66/66\u001b[0m \u001b[32m━━━━━━━━━━━━━━━━━━━━\u001b[0m\u001b[37m\u001b[0m \u001b[1m69s\u001b[0m 1s/step - accuracy: 0.2302 - loss: 1.0420 - perplexity: 2.8481\n",
            "Epoch 12/30\n",
            "\u001b[1m66/66\u001b[0m \u001b[32m━━━━━━━━━━━━━━━━━━━━\u001b[0m\u001b[37m\u001b[0m \u001b[1m70s\u001b[0m 1s/step - accuracy: 0.2598 - loss: 0.9082 - perplexity: 2.4901\n",
            "Epoch 13/30\n",
            "\u001b[1m66/66\u001b[0m \u001b[32m━━━━━━━━━━━━━━━━━━━━\u001b[0m\u001b[37m\u001b[0m \u001b[1m70s\u001b[0m 1s/step - accuracy: 0.2829 - loss: 0.7675 - perplexity: 2.1628\n",
            "Epoch 14/30\n",
            "\u001b[1m66/66\u001b[0m \u001b[32m━━━━━━━━━━━━━━━━━━━━\u001b[0m\u001b[37m\u001b[0m \u001b[1m70s\u001b[0m 1s/step - accuracy: 0.3089 - loss: 0.6382 - perplexity: 1.9005\n",
            "Epoch 15/30\n",
            "\u001b[1m66/66\u001b[0m \u001b[32m━━━━━━━━━━━━━━━━━━━━\u001b[0m\u001b[37m\u001b[0m \u001b[1m70s\u001b[0m 1s/step - accuracy: 0.3386 - loss: 0.5201 - perplexity: 1.6862\n",
            "Epoch 16/30\n",
            "\u001b[1m66/66\u001b[0m \u001b[32m━━━━━━━━━━━━━━━━━━━━\u001b[0m\u001b[37m\u001b[0m \u001b[1m70s\u001b[0m 1s/step - accuracy: 0.3742 - loss: 0.4316 - perplexity: 1.5417\n",
            "Epoch 17/30\n",
            "\u001b[1m66/66\u001b[0m \u001b[32m━━━━━━━━━━━━━━━━━━━━\u001b[0m\u001b[37m\u001b[0m \u001b[1m69s\u001b[0m 1s/step - accuracy: 0.3886 - loss: 0.3274 - perplexity: 1.3889\n",
            "Epoch 18/30\n",
            "\u001b[1m66/66\u001b[0m \u001b[32m━━━━━━━━━━━━━━━━━━━━\u001b[0m\u001b[37m\u001b[0m \u001b[1m69s\u001b[0m 1s/step - accuracy: 0.4087 - loss: 0.2619 - perplexity: 1.3002\n",
            "Epoch 19/30\n",
            "\u001b[1m66/66\u001b[0m \u001b[32m━━━━━━━━━━━━━━━━━━━━\u001b[0m\u001b[37m\u001b[0m \u001b[1m70s\u001b[0m 1s/step - accuracy: 0.4175 - loss: 0.2134 - perplexity: 1.2384\n",
            "Epoch 20/30\n",
            "\u001b[1m66/66\u001b[0m \u001b[32m━━━━━━━━━━━━━━━━━━━━\u001b[0m\u001b[37m\u001b[0m \u001b[1m70s\u001b[0m 1s/step - accuracy: 0.4242 - loss: 0.1927 - perplexity: 1.2132\n",
            "Epoch 21/30\n",
            "\u001b[1m66/66\u001b[0m \u001b[32m━━━━━━━━━━━━━━━━━━━━\u001b[0m\u001b[37m\u001b[0m \u001b[1m71s\u001b[0m 1s/step - accuracy: 0.4158 - loss: 0.1766 - perplexity: 1.1937\n",
            "Epoch 22/30\n",
            "\u001b[1m66/66\u001b[0m \u001b[32m━━━━━━━━━━━━━━━━━━━━\u001b[0m\u001b[37m\u001b[0m \u001b[1m69s\u001b[0m 1s/step - accuracy: 0.4217 - loss: 0.1601 - perplexity: 1.1743\n",
            "Epoch 23/30\n",
            "\u001b[1m66/66\u001b[0m \u001b[32m━━━━━━━━━━━━━━━━━━━━\u001b[0m\u001b[37m\u001b[0m \u001b[1m71s\u001b[0m 1s/step - accuracy: 0.4207 - loss: 0.1584 - perplexity: 1.1722\n",
            "Epoch 24/30\n",
            "\u001b[1m66/66\u001b[0m \u001b[32m━━━━━━━━━━━━━━━━━━━━\u001b[0m\u001b[37m\u001b[0m \u001b[1m71s\u001b[0m 1s/step - accuracy: 0.4225 - loss: 0.1614 - perplexity: 1.1757\n",
            "Epoch 25/30\n",
            "\u001b[1m66/66\u001b[0m \u001b[32m━━━━━━━━━━━━━━━━━━━━\u001b[0m\u001b[37m\u001b[0m \u001b[1m70s\u001b[0m 1s/step - accuracy: 0.4225 - loss: 0.1619 - perplexity: 1.1763\n",
            "Epoch 26/30\n",
            "\u001b[1m66/66\u001b[0m \u001b[32m━━━━━━━━━━━━━━━━━━━━\u001b[0m\u001b[37m\u001b[0m \u001b[1m72s\u001b[0m 1s/step - accuracy: 0.4169 - loss: 0.1558 - perplexity: 1.1693\n",
            "Epoch 27/30\n",
            "\u001b[1m66/66\u001b[0m \u001b[32m━━━━━━━━━━━━━━━━━━━━\u001b[0m\u001b[37m\u001b[0m \u001b[1m70s\u001b[0m 1s/step - accuracy: 0.4332 - loss: 0.1602 - perplexity: 1.1743\n",
            "Epoch 28/30\n",
            "\u001b[1m66/66\u001b[0m \u001b[32m━━━━━━━━━━━━━━━━━━━━\u001b[0m\u001b[37m\u001b[0m \u001b[1m71s\u001b[0m 1s/step - accuracy: 0.4229 - loss: 0.1566 - perplexity: 1.1703\n",
            "Epoch 29/30\n",
            "\u001b[1m66/66\u001b[0m \u001b[32m━━━━━━━━━━━━━━━━━━━━\u001b[0m\u001b[37m\u001b[0m \u001b[1m70s\u001b[0m 1s/step - accuracy: 0.4188 - loss: 0.1610 - perplexity: 1.1754\n",
            "Epoch 30/30\n",
            "\u001b[1m66/66\u001b[0m \u001b[32m━━━━━━━━━━━━━━━━━━━━\u001b[0m\u001b[37m\u001b[0m \u001b[1m70s\u001b[0m 1s/step - accuracy: 0.4264 - loss: 0.1563 - perplexity: 1.1698\n"
          ]
        }
      ]
    },
    {
      "cell_type": "code",
      "source": [
        "model_DM512.save_weights('D:/skripsi-sultin/data/bot_v4_Final_DM512_E50.weights.h5')"
      ],
      "metadata": {
        "id": "3YKU8Z_ojVdi"
      },
      "execution_count": null,
      "outputs": []
    },
    {
      "cell_type": "markdown",
      "source": [
        "# Eksperimen NUM_HEADS\n"
      ],
      "metadata": {
        "id": "EUfsyrXMB056"
      }
    },
    {
      "cell_type": "markdown",
      "source": [
        "NUM_HEADS 4"
      ],
      "metadata": {
        "id": "RIFcXsd0B8qW"
      }
    },
    {
      "cell_type": "code",
      "source": [
        "#NUM HEADS Hypereparameters\n",
        "NUM_LAYERS = 2\n",
        "D_MODEL = 256\n",
        "NUM_HEADS = 4\n",
        "UNITS = 512\n",
        "DROPOUT = 0.1\n",
        "\n",
        "model_NH4 = transformer(\n",
        "    vocab_size=VOCAB_SIZE,\n",
        "    num_layers=NUM_LAYERS,\n",
        "    units=UNITS,\n",
        "    d_model=D_MODEL,\n",
        "    num_heads=NUM_HEADS,\n",
        "    dropout=DROPOUT)"
      ],
      "metadata": {
        "id": "3zT0TFLwB--Y"
      },
      "execution_count": null,
      "outputs": []
    },
    {
      "cell_type": "code",
      "source": [
        "learning_rate = CustomSchedule(D_MODEL)\n",
        "\n",
        "optimizer = tf.keras.optimizers.Adam(\n",
        "    learning_rate, beta_1=0.9, beta_2=0.98, epsilon=1e-9)\n",
        "\n",
        "\n",
        "model_NH4.compile(\n",
        "    optimizer=optimizer,\n",
        "    loss=loss_function,\n",
        "    metrics=[accuracy, perplexity],\n",
        "    run_eagerly=True  # Set to True for debugging if needed\n",
        ")"
      ],
      "metadata": {
        "id": "IpssjIBVCRYZ"
      },
      "execution_count": null,
      "outputs": []
    },
    {
      "cell_type": "code",
      "source": [
        "EPOCHS = 30\n",
        "\n",
        "history = model_NH4.fit(dataset, epochs=EPOCHS)"
      ],
      "metadata": {
        "id": "Pcn5ULg7CUxP",
        "colab": {
          "base_uri": "https://localhost:8080/"
        },
        "outputId": "c77bd67a-d3b0-4744-9fc9-3b54b3df7874"
      },
      "execution_count": null,
      "outputs": [
        {
          "output_type": "stream",
          "name": "stdout",
          "text": [
            "Epoch 1/30\n",
            "\u001b[1m66/66\u001b[0m \u001b[32m━━━━━━━━━━━━━━━━━━━━\u001b[0m\u001b[37m\u001b[0m \u001b[1m53s\u001b[0m 793ms/step - accuracy: 0.0062 - loss: 3.5629 - perplexity: 37.2190\n",
            "Epoch 2/30\n",
            "\u001b[1m66/66\u001b[0m \u001b[32m━━━━━━━━━━━━━━━━━━━━\u001b[0m\u001b[37m\u001b[0m \u001b[1m53s\u001b[0m 798ms/step - accuracy: 0.0214 - loss: 3.2009 - perplexity: 25.8424\n",
            "Epoch 3/30\n",
            "\u001b[1m66/66\u001b[0m \u001b[32m━━━━━━━━━━━━━━━━━━━━\u001b[0m\u001b[37m\u001b[0m \u001b[1m56s\u001b[0m 850ms/step - accuracy: 0.0269 - loss: 2.8136 - perplexity: 17.2187\n",
            "Epoch 4/30\n",
            "\u001b[1m66/66\u001b[0m \u001b[32m━━━━━━━━━━━━━━━━━━━━\u001b[0m\u001b[37m\u001b[0m \u001b[1m61s\u001b[0m 919ms/step - accuracy: 0.0614 - loss: 2.5291 - perplexity: 12.8737\n",
            "Epoch 5/30\n",
            "\u001b[1m66/66\u001b[0m \u001b[32m━━━━━━━━━━━━━━━━━━━━\u001b[0m\u001b[37m\u001b[0m \u001b[1m58s\u001b[0m 871ms/step - accuracy: 0.0989 - loss: 2.2906 - perplexity: 10.2536\n",
            "Epoch 6/30\n",
            "\u001b[1m66/66\u001b[0m \u001b[32m━━━━━━━━━━━━━━━━━━━━\u001b[0m\u001b[37m\u001b[0m \u001b[1m50s\u001b[0m 764ms/step - accuracy: 0.1270 - loss: 2.0722 - perplexity: 8.0664\n",
            "Epoch 7/30\n",
            "\u001b[1m66/66\u001b[0m \u001b[32m━━━━━━━━━━━━━━━━━━━━\u001b[0m\u001b[37m\u001b[0m \u001b[1m53s\u001b[0m 802ms/step - accuracy: 0.1442 - loss: 1.8474 - perplexity: 6.4091\n",
            "Epoch 8/30\n",
            "\u001b[1m66/66\u001b[0m \u001b[32m━━━━━━━━━━━━━━━━━━━━\u001b[0m\u001b[37m\u001b[0m \u001b[1m59s\u001b[0m 892ms/step - accuracy: 0.1546 - loss: 1.6766 - perplexity: 5.4095\n",
            "Epoch 9/30\n",
            "\u001b[1m66/66\u001b[0m \u001b[32m━━━━━━━━━━━━━━━━━━━━\u001b[0m\u001b[37m\u001b[0m \u001b[1m60s\u001b[0m 915ms/step - accuracy: 0.1675 - loss: 1.5575 - perplexity: 4.7956\n",
            "Epoch 10/30\n",
            "\u001b[1m66/66\u001b[0m \u001b[32m━━━━━━━━━━━━━━━━━━━━\u001b[0m\u001b[37m\u001b[0m \u001b[1m51s\u001b[0m 779ms/step - accuracy: 0.1872 - loss: 1.4549 - perplexity: 4.3163\n",
            "Epoch 11/30\n",
            "\u001b[1m66/66\u001b[0m \u001b[32m━━━━━━━━━━━━━━━━━━━━\u001b[0m\u001b[37m\u001b[0m \u001b[1m53s\u001b[0m 797ms/step - accuracy: 0.1936 - loss: 1.3039 - perplexity: 3.7141\n",
            "Epoch 12/30\n",
            "\u001b[1m66/66\u001b[0m \u001b[32m━━━━━━━━━━━━━━━━━━━━\u001b[0m\u001b[37m\u001b[0m \u001b[1m59s\u001b[0m 896ms/step - accuracy: 0.2102 - loss: 1.2117 - perplexity: 3.3833\n",
            "Epoch 13/30\n",
            "\u001b[1m66/66\u001b[0m \u001b[32m━━━━━━━━━━━━━━━━━━━━\u001b[0m\u001b[37m\u001b[0m \u001b[1m59s\u001b[0m 894ms/step - accuracy: 0.2222 - loss: 1.0707 - perplexity: 2.9349\n",
            "Epoch 14/30\n",
            "\u001b[1m66/66\u001b[0m \u001b[32m━━━━━━━━━━━━━━━━━━━━\u001b[0m\u001b[37m\u001b[0m \u001b[1m52s\u001b[0m 779ms/step - accuracy: 0.2440 - loss: 1.0164 - perplexity: 2.7856\n",
            "Epoch 15/30\n",
            "\u001b[1m66/66\u001b[0m \u001b[32m━━━━━━━━━━━━━━━━━━━━\u001b[0m\u001b[37m\u001b[0m \u001b[1m51s\u001b[0m 779ms/step - accuracy: 0.2573 - loss: 0.8786 - perplexity: 2.4208\n",
            "Epoch 16/30\n",
            "\u001b[1m66/66\u001b[0m \u001b[32m━━━━━━━━━━━━━━━━━━━━\u001b[0m\u001b[37m\u001b[0m \u001b[1m57s\u001b[0m 859ms/step - accuracy: 0.2802 - loss: 0.7714 - perplexity: 2.1676\n",
            "Epoch 17/30\n",
            "\u001b[1m66/66\u001b[0m \u001b[32m━━━━━━━━━━━━━━━━━━━━\u001b[0m\u001b[37m\u001b[0m \u001b[1m62s\u001b[0m 934ms/step - accuracy: 0.2966 - loss: 0.6745 - perplexity: 1.9685\n",
            "Epoch 18/30\n",
            "\u001b[1m66/66\u001b[0m \u001b[32m━━━━━━━━━━━━━━━━━━━━\u001b[0m\u001b[37m\u001b[0m \u001b[1m55s\u001b[0m 839ms/step - accuracy: 0.3274 - loss: 0.5768 - perplexity: 1.7829\n",
            "Epoch 19/30\n",
            "\u001b[1m66/66\u001b[0m \u001b[32m━━━━━━━━━━━━━━━━━━━━\u001b[0m\u001b[37m\u001b[0m \u001b[1m53s\u001b[0m 800ms/step - accuracy: 0.3412 - loss: 0.4784 - perplexity: 1.6166\n",
            "Epoch 20/30\n",
            "\u001b[1m66/66\u001b[0m \u001b[32m━━━━━━━━━━━━━━━━━━━━\u001b[0m\u001b[37m\u001b[0m \u001b[1m55s\u001b[0m 836ms/step - accuracy: 0.3675 - loss: 0.4091 - perplexity: 1.5081\n",
            "Epoch 21/30\n",
            "\u001b[1m66/66\u001b[0m \u001b[32m━━━━━━━━━━━━━━━━━━━━\u001b[0m\u001b[37m\u001b[0m \u001b[1m62s\u001b[0m 931ms/step - accuracy: 0.3782 - loss: 0.3377 - perplexity: 1.4028\n",
            "Epoch 22/30\n",
            "\u001b[1m66/66\u001b[0m \u001b[32m━━━━━━━━━━━━━━━━━━━━\u001b[0m\u001b[37m\u001b[0m \u001b[1m59s\u001b[0m 900ms/step - accuracy: 0.3885 - loss: 0.2898 - perplexity: 1.3375\n",
            "Epoch 23/30\n",
            "\u001b[1m66/66\u001b[0m \u001b[32m━━━━━━━━━━━━━━━━━━━━\u001b[0m\u001b[37m\u001b[0m \u001b[1m52s\u001b[0m 792ms/step - accuracy: 0.3866 - loss: 0.2530 - perplexity: 1.2894\n",
            "Epoch 24/30\n",
            "\u001b[1m66/66\u001b[0m \u001b[32m━━━━━━━━━━━━━━━━━━━━\u001b[0m\u001b[37m\u001b[0m \u001b[1m53s\u001b[0m 808ms/step - accuracy: 0.4060 - loss: 0.2280 - perplexity: 1.2569\n",
            "Epoch 25/30\n",
            "\u001b[1m66/66\u001b[0m \u001b[32m━━━━━━━━━━━━━━━━━━━━\u001b[0m\u001b[37m\u001b[0m \u001b[1m62s\u001b[0m 932ms/step - accuracy: 0.4072 - loss: 0.2104 - perplexity: 1.2351\n",
            "Epoch 26/30\n",
            "\u001b[1m66/66\u001b[0m \u001b[32m━━━━━━━━━━━━━━━━━━━━\u001b[0m\u001b[37m\u001b[0m \u001b[1m60s\u001b[0m 909ms/step - accuracy: 0.4137 - loss: 0.2001 - perplexity: 1.2222\n",
            "Epoch 27/30\n",
            "\u001b[1m66/66\u001b[0m \u001b[32m━━━━━━━━━━━━━━━━━━━━\u001b[0m\u001b[37m\u001b[0m \u001b[1m51s\u001b[0m 772ms/step - accuracy: 0.4150 - loss: 0.1842 - perplexity: 1.2029\n",
            "Epoch 28/30\n",
            "\u001b[1m66/66\u001b[0m \u001b[32m━━━━━━━━━━━━━━━━━━━━\u001b[0m\u001b[37m\u001b[0m \u001b[1m53s\u001b[0m 799ms/step - accuracy: 0.4091 - loss: 0.1861 - perplexity: 1.2053\n",
            "Epoch 29/30\n",
            "\u001b[1m66/66\u001b[0m \u001b[32m━━━━━━━━━━━━━━━━━━━━\u001b[0m\u001b[37m\u001b[0m \u001b[1m59s\u001b[0m 902ms/step - accuracy: 0.4155 - loss: 0.1731 - perplexity: 1.1896\n",
            "Epoch 30/30\n",
            "\u001b[1m66/66\u001b[0m \u001b[32m━━━━━━━━━━━━━━━━━━━━\u001b[0m\u001b[37m\u001b[0m \u001b[1m59s\u001b[0m 897ms/step - accuracy: 0.4164 - loss: 0.1781 - perplexity: 1.1957\n"
          ]
        }
      ]
    },
    {
      "cell_type": "code",
      "source": [
        "model_NH4.save_weights('D:/skripsi-sultin/data/bot_v4_Final_NH4_E50.weights.h5')"
      ],
      "metadata": {
        "id": "oaFd-Ru4jfbt"
      },
      "execution_count": null,
      "outputs": []
    },
    {
      "cell_type": "markdown",
      "source": [
        "NUM_HEADS 16"
      ],
      "metadata": {
        "id": "yvQV13H8CX3b"
      }
    },
    {
      "cell_type": "code",
      "source": [
        "#NUM HEADS Hypereparameters\n",
        "NUM_LAYERS = 2\n",
        "D_MODEL = 256\n",
        "NUM_HEADS = 16\n",
        "UNITS = 512\n",
        "DROPOUT = 0.1\n",
        "\n",
        "model_NH16 = transformer(\n",
        "    vocab_size=VOCAB_SIZE,\n",
        "    num_layers=NUM_LAYERS,\n",
        "    units=UNITS,\n",
        "    d_model=D_MODEL,\n",
        "    num_heads=NUM_HEADS,\n",
        "    dropout=DROPOUT)"
      ],
      "metadata": {
        "id": "EVXo5zPFCauL"
      },
      "execution_count": null,
      "outputs": []
    },
    {
      "cell_type": "code",
      "source": [
        "learning_rate = CustomSchedule(D_MODEL)\n",
        "\n",
        "optimizer = tf.keras.optimizers.Adam(\n",
        "    learning_rate, beta_1=0.9, beta_2=0.98, epsilon=1e-9)\n",
        "\n",
        "\n",
        "model_NH16.compile(\n",
        "    optimizer=optimizer,\n",
        "    loss=loss_function,\n",
        "    metrics=[accuracy, perplexity],\n",
        "    run_eagerly=True  # Set to True for debugging if needed\n",
        ")"
      ],
      "metadata": {
        "id": "-b-VGMirCf8_"
      },
      "execution_count": null,
      "outputs": []
    },
    {
      "cell_type": "code",
      "source": [
        "EPOCHS = 30\n",
        "\n",
        "history = model_NH16.fit(dataset, epochs=EPOCHS)"
      ],
      "metadata": {
        "id": "w52OsBH_Cin0",
        "colab": {
          "base_uri": "https://localhost:8080/"
        },
        "outputId": "a3a33009-8962-4b1f-ef78-863178b5bd69"
      },
      "execution_count": null,
      "outputs": [
        {
          "output_type": "stream",
          "name": "stdout",
          "text": [
            "Epoch 1/30\n",
            "\u001b[1m66/66\u001b[0m \u001b[32m━━━━━━━━━━━━━━━━━━━━\u001b[0m\u001b[37m\u001b[0m \u001b[1m59s\u001b[0m 888ms/step - accuracy: 0.0046 - loss: 3.6242 - perplexity: 39.0572\n",
            "Epoch 2/30\n",
            "\u001b[1m66/66\u001b[0m \u001b[32m━━━━━━━━━━━━━━━━━━━━\u001b[0m\u001b[37m\u001b[0m \u001b[1m57s\u001b[0m 867ms/step - accuracy: 0.0218 - loss: 3.1933 - perplexity: 25.4463\n",
            "Epoch 3/30\n",
            "\u001b[1m66/66\u001b[0m \u001b[32m━━━━━━━━━━━━━━━━━━━━\u001b[0m\u001b[37m\u001b[0m \u001b[1m62s\u001b[0m 947ms/step - accuracy: 0.0274 - loss: 2.7876 - perplexity: 16.8811\n",
            "Epoch 4/30\n",
            "\u001b[1m66/66\u001b[0m \u001b[32m━━━━━━━━━━━━━━━━━━━━\u001b[0m\u001b[37m\u001b[0m \u001b[1m63s\u001b[0m 951ms/step - accuracy: 0.0589 - loss: 2.5648 - perplexity: 13.3704\n",
            "Epoch 5/30\n",
            "\u001b[1m66/66\u001b[0m \u001b[32m━━━━━━━━━━━━━━━━━━━━\u001b[0m\u001b[37m\u001b[0m \u001b[1m57s\u001b[0m 864ms/step - accuracy: 0.0968 - loss: 2.2606 - perplexity: 9.7503\n",
            "Epoch 6/30\n",
            "\u001b[1m66/66\u001b[0m \u001b[32m━━━━━━━━━━━━━━━━━━━━\u001b[0m\u001b[37m\u001b[0m \u001b[1m57s\u001b[0m 861ms/step - accuracy: 0.1257 - loss: 2.0413 - perplexity: 7.8737\n",
            "Epoch 7/30\n",
            "\u001b[1m66/66\u001b[0m \u001b[32m━━━━━━━━━━━━━━━━━━━━\u001b[0m\u001b[37m\u001b[0m \u001b[1m63s\u001b[0m 956ms/step - accuracy: 0.1461 - loss: 1.8582 - perplexity: 6.4933\n",
            "Epoch 8/30\n",
            "\u001b[1m66/66\u001b[0m \u001b[32m━━━━━━━━━━━━━━━━━━━━\u001b[0m\u001b[37m\u001b[0m \u001b[1m62s\u001b[0m 943ms/step - accuracy: 0.1583 - loss: 1.6683 - perplexity: 5.3628\n",
            "Epoch 9/30\n",
            "\u001b[1m66/66\u001b[0m \u001b[32m━━━━━━━━━━━━━━━━━━━━\u001b[0m\u001b[37m\u001b[0m \u001b[1m58s\u001b[0m 877ms/step - accuracy: 0.1723 - loss: 1.5513 - perplexity: 4.7584\n",
            "Epoch 10/30\n",
            "\u001b[1m66/66\u001b[0m \u001b[32m━━━━━━━━━━━━━━━━━━━━\u001b[0m\u001b[37m\u001b[0m \u001b[1m56s\u001b[0m 852ms/step - accuracy: 0.1837 - loss: 1.4336 - perplexity: 4.2551\n",
            "Epoch 11/30\n",
            "\u001b[1m66/66\u001b[0m \u001b[32m━━━━━━━━━━━━━━━━━━━━\u001b[0m\u001b[37m\u001b[0m \u001b[1m62s\u001b[0m 935ms/step - accuracy: 0.1919 - loss: 1.3097 - perplexity: 3.7385\n",
            "Epoch 12/30\n",
            "\u001b[1m66/66\u001b[0m \u001b[32m━━━━━━━━━━━━━━━━━━━━\u001b[0m\u001b[37m\u001b[0m \u001b[1m65s\u001b[0m 978ms/step - accuracy: 0.2064 - loss: 1.2072 - perplexity: 3.3641\n",
            "Epoch 13/30\n",
            "\u001b[1m66/66\u001b[0m \u001b[32m━━━━━━━━━━━━━━━━━━━━\u001b[0m\u001b[37m\u001b[0m \u001b[1m57s\u001b[0m 862ms/step - accuracy: 0.2280 - loss: 1.0844 - perplexity: 2.9778\n",
            "Epoch 14/30\n",
            "\u001b[1m66/66\u001b[0m \u001b[32m━━━━━━━━━━━━━━━━━━━━\u001b[0m\u001b[37m\u001b[0m \u001b[1m56s\u001b[0m 856ms/step - accuracy: 0.2424 - loss: 0.9765 - perplexity: 2.6680\n",
            "Epoch 15/30\n",
            "\u001b[1m66/66\u001b[0m \u001b[32m━━━━━━━━━━━━━━━━━━━━\u001b[0m\u001b[37m\u001b[0m \u001b[1m61s\u001b[0m 928ms/step - accuracy: 0.2660 - loss: 0.8738 - perplexity: 2.4075\n",
            "Epoch 16/30\n",
            "\u001b[1m66/66\u001b[0m \u001b[32m━━━━━━━━━━━━━━━━━━━━\u001b[0m\u001b[37m\u001b[0m \u001b[1m62s\u001b[0m 943ms/step - accuracy: 0.2826 - loss: 0.7505 - perplexity: 2.1251\n",
            "Epoch 17/30\n",
            "\u001b[1m66/66\u001b[0m \u001b[32m━━━━━━━━━━━━━━━━━━━━\u001b[0m\u001b[37m\u001b[0m \u001b[1m58s\u001b[0m 886ms/step - accuracy: 0.3005 - loss: 0.6363 - perplexity: 1.8946\n",
            "Epoch 18/30\n",
            "\u001b[1m66/66\u001b[0m \u001b[32m━━━━━━━━━━━━━━━━━━━━\u001b[0m\u001b[37m\u001b[0m \u001b[1m57s\u001b[0m 862ms/step - accuracy: 0.3322 - loss: 0.5434 - perplexity: 1.7254\n",
            "Epoch 19/30\n",
            "\u001b[1m66/66\u001b[0m \u001b[32m━━━━━━━━━━━━━━━━━━━━\u001b[0m\u001b[37m\u001b[0m \u001b[1m63s\u001b[0m 959ms/step - accuracy: 0.3586 - loss: 0.4593 - perplexity: 1.5851\n",
            "Epoch 20/30\n",
            "\u001b[1m66/66\u001b[0m \u001b[32m━━━━━━━━━━━━━━━━━━━━\u001b[0m\u001b[37m\u001b[0m \u001b[1m65s\u001b[0m 986ms/step - accuracy: 0.3742 - loss: 0.3710 - perplexity: 1.4508\n",
            "Epoch 21/30\n",
            "\u001b[1m66/66\u001b[0m \u001b[32m━━━━━━━━━━━━━━━━━━━━\u001b[0m\u001b[37m\u001b[0m \u001b[1m58s\u001b[0m 874ms/step - accuracy: 0.3878 - loss: 0.3081 - perplexity: 1.3624\n",
            "Epoch 22/30\n",
            "\u001b[1m66/66\u001b[0m \u001b[32m━━━━━━━━━━━━━━━━━━━━\u001b[0m\u001b[37m\u001b[0m \u001b[1m57s\u001b[0m 869ms/step - accuracy: 0.4066 - loss: 0.2610 - perplexity: 1.2989\n",
            "Epoch 23/30\n",
            "\u001b[1m66/66\u001b[0m \u001b[32m━━━━━━━━━━━━━━━━━━━━\u001b[0m\u001b[37m\u001b[0m \u001b[1m61s\u001b[0m 932ms/step - accuracy: 0.4075 - loss: 0.2251 - perplexity: 1.2532\n",
            "Epoch 24/30\n",
            "\u001b[1m66/66\u001b[0m \u001b[32m━━━━━━━━━━━━━━━━━━━━\u001b[0m\u001b[37m\u001b[0m \u001b[1m62s\u001b[0m 939ms/step - accuracy: 0.4139 - loss: 0.2110 - perplexity: 1.2357\n",
            "Epoch 25/30\n",
            "\u001b[1m66/66\u001b[0m \u001b[32m━━━━━━━━━━━━━━━━━━━━\u001b[0m\u001b[37m\u001b[0m \u001b[1m57s\u001b[0m 866ms/step - accuracy: 0.4121 - loss: 0.1874 - perplexity: 1.2070\n",
            "Epoch 26/30\n",
            "\u001b[1m66/66\u001b[0m \u001b[32m━━━━━━━━━━━━━━━━━━━━\u001b[0m\u001b[37m\u001b[0m \u001b[1m57s\u001b[0m 859ms/step - accuracy: 0.4129 - loss: 0.1868 - perplexity: 1.2060\n",
            "Epoch 27/30\n",
            "\u001b[1m66/66\u001b[0m \u001b[32m━━━━━━━━━━━━━━━━━━━━\u001b[0m\u001b[37m\u001b[0m \u001b[1m62s\u001b[0m 949ms/step - accuracy: 0.4139 - loss: 0.1805 - perplexity: 1.1983\n",
            "Epoch 28/30\n",
            "\u001b[1m66/66\u001b[0m \u001b[32m━━━━━━━━━━━━━━━━━━━━\u001b[0m\u001b[37m\u001b[0m \u001b[1m63s\u001b[0m 960ms/step - accuracy: 0.4147 - loss: 0.1700 - perplexity: 1.1859\n",
            "Epoch 29/30\n",
            "\u001b[1m66/66\u001b[0m \u001b[32m━━━━━━━━━━━━━━━━━━━━\u001b[0m\u001b[37m\u001b[0m \u001b[1m63s\u001b[0m 957ms/step - accuracy: 0.4171 - loss: 0.1781 - perplexity: 1.1956\n",
            "Epoch 30/30\n",
            "\u001b[1m66/66\u001b[0m \u001b[32m━━━━━━━━━━━━━━━━━━━━\u001b[0m\u001b[37m\u001b[0m \u001b[1m60s\u001b[0m 910ms/step - accuracy: 0.4158 - loss: 0.1724 - perplexity: 1.1887\n"
          ]
        }
      ]
    },
    {
      "cell_type": "code",
      "source": [
        "model_NH16.save_weights('D:/skripsi-sultin/data/bot_v4_Final_NH16_E50.weights.h5')"
      ],
      "metadata": {
        "id": "W2xjAAYxjmf9"
      },
      "execution_count": null,
      "outputs": []
    },
    {
      "cell_type": "markdown",
      "source": [
        "NUM_HEADS32"
      ],
      "metadata": {
        "id": "LH8GblCoCk1E"
      }
    },
    {
      "cell_type": "code",
      "source": [
        "#NUM HEADS Hypereparameters\n",
        "NUM_LAYERS = 2\n",
        "D_MODEL = 256\n",
        "NUM_HEADS = 32\n",
        "UNITS = 512\n",
        "DROPOUT = 0.1\n",
        "\n",
        "model_NH32 = transformer(\n",
        "    vocab_size=VOCAB_SIZE,\n",
        "    num_layers=NUM_LAYERS,\n",
        "    units=UNITS,\n",
        "    d_model=D_MODEL,\n",
        "    num_heads=NUM_HEADS,\n",
        "    dropout=DROPOUT)"
      ],
      "metadata": {
        "id": "pBw_RzBwConr"
      },
      "execution_count": null,
      "outputs": []
    },
    {
      "cell_type": "code",
      "source": [
        "learning_rate = CustomSchedule(D_MODEL)\n",
        "\n",
        "optimizer = tf.keras.optimizers.Adam(\n",
        "    learning_rate, beta_1=0.9, beta_2=0.98, epsilon=1e-9)\n",
        "\n",
        "\n",
        "model_NH32.compile(\n",
        "    optimizer=optimizer,\n",
        "    loss=loss_function,\n",
        "    metrics=[accuracy, perplexity],\n",
        "    run_eagerly=True  # Set to True for debugging if needed\n",
        ")"
      ],
      "metadata": {
        "id": "kgoBkrUfCr2J"
      },
      "execution_count": null,
      "outputs": []
    },
    {
      "cell_type": "code",
      "source": [
        "EPOCHS = 30\n",
        "\n",
        "history = model_NH32.fit(dataset, epochs=EPOCHS)"
      ],
      "metadata": {
        "id": "rvjEDsUYCvCr",
        "colab": {
          "base_uri": "https://localhost:8080/"
        },
        "outputId": "3760dd0c-a8f0-4660-e93a-dc622acbbee0"
      },
      "execution_count": null,
      "outputs": [
        {
          "output_type": "stream",
          "name": "stdout",
          "text": [
            "Epoch 1/30\n",
            "\u001b[1m66/66\u001b[0m \u001b[32m━━━━━━━━━━━━━━━━━━━━\u001b[0m\u001b[37m\u001b[0m \u001b[1m71s\u001b[0m 1s/step - accuracy: 0.0038 - loss: 3.5819 - perplexity: 37.6487\n",
            "Epoch 2/30\n",
            "\u001b[1m66/66\u001b[0m \u001b[32m━━━━━━━━━━━━━━━━━━━━\u001b[0m\u001b[37m\u001b[0m \u001b[1m69s\u001b[0m 1s/step - accuracy: 0.0220 - loss: 3.1900 - perplexity: 25.5370\n",
            "Epoch 3/30\n",
            "\u001b[1m66/66\u001b[0m \u001b[32m━━━━━━━━━━━━━━━━━━━━\u001b[0m\u001b[37m\u001b[0m \u001b[1m65s\u001b[0m 981ms/step - accuracy: 0.0294 - loss: 2.8439 - perplexity: 18.0116\n",
            "Epoch 4/30\n",
            "\u001b[1m66/66\u001b[0m \u001b[32m━━━━━━━━━━━━━━━━━━━━\u001b[0m\u001b[37m\u001b[0m \u001b[1m70s\u001b[0m 1s/step - accuracy: 0.0607 - loss: 2.5819 - perplexity: 13.5991\n",
            "Epoch 5/30\n",
            "\u001b[1m66/66\u001b[0m \u001b[32m━━━━━━━━━━━━━━━━━━━━\u001b[0m\u001b[37m\u001b[0m \u001b[1m71s\u001b[0m 1s/step - accuracy: 0.0955 - loss: 2.2644 - perplexity: 9.8397\n",
            "Epoch 6/30\n",
            "\u001b[1m66/66\u001b[0m \u001b[32m━━━━━━━━━━━━━━━━━━━━\u001b[0m\u001b[37m\u001b[0m \u001b[1m66s\u001b[0m 998ms/step - accuracy: 0.1264 - loss: 2.0595 - perplexity: 8.0235\n",
            "Epoch 7/30\n",
            "\u001b[1m66/66\u001b[0m \u001b[32m━━━━━━━━━━━━━━━━━━━━\u001b[0m\u001b[37m\u001b[0m \u001b[1m66s\u001b[0m 1s/step - accuracy: 0.1463 - loss: 1.8382 - perplexity: 6.3721\n",
            "Epoch 8/30\n",
            "\u001b[1m66/66\u001b[0m \u001b[32m━━━━━━━━━━━━━━━━━━━━\u001b[0m\u001b[37m\u001b[0m \u001b[1m70s\u001b[0m 1s/step - accuracy: 0.1614 - loss: 1.6922 - perplexity: 5.4923\n",
            "Epoch 9/30\n",
            "\u001b[1m66/66\u001b[0m \u001b[32m━━━━━━━━━━━━━━━━━━━━\u001b[0m\u001b[37m\u001b[0m \u001b[1m70s\u001b[0m 1s/step - accuracy: 0.1737 - loss: 1.5722 - perplexity: 4.8755\n",
            "Epoch 10/30\n",
            "\u001b[1m66/66\u001b[0m \u001b[32m━━━━━━━━━━━━━━━━━━━━\u001b[0m\u001b[37m\u001b[0m \u001b[1m64s\u001b[0m 963ms/step - accuracy: 0.1786 - loss: 1.4192 - perplexity: 4.1700\n",
            "Epoch 11/30\n",
            "\u001b[1m66/66\u001b[0m \u001b[32m━━━━━━━━━━━━━━━━━━━━\u001b[0m\u001b[37m\u001b[0m \u001b[1m69s\u001b[0m 1s/step - accuracy: 0.1984 - loss: 1.3469 - perplexity: 3.8686\n",
            "Epoch 12/30\n",
            "\u001b[1m66/66\u001b[0m \u001b[32m━━━━━━━━━━━━━━━━━━━━\u001b[0m\u001b[37m\u001b[0m \u001b[1m70s\u001b[0m 1s/step - accuracy: 0.2113 - loss: 1.2012 - perplexity: 3.3534\n",
            "Epoch 13/30\n",
            "\u001b[1m66/66\u001b[0m \u001b[32m━━━━━━━━━━━━━━━━━━━━\u001b[0m\u001b[37m\u001b[0m \u001b[1m66s\u001b[0m 1s/step - accuracy: 0.2261 - loss: 1.0929 - perplexity: 3.0079\n",
            "Epoch 14/30\n",
            "\u001b[1m66/66\u001b[0m \u001b[32m━━━━━━━━━━━━━━━━━━━━\u001b[0m\u001b[37m\u001b[0m \u001b[1m66s\u001b[0m 997ms/step - accuracy: 0.2425 - loss: 0.9864 - perplexity: 2.6955\n",
            "Epoch 15/30\n",
            "\u001b[1m66/66\u001b[0m \u001b[32m━━━━━━━━━━━━━━━━━━━━\u001b[0m\u001b[37m\u001b[0m \u001b[1m70s\u001b[0m 1s/step - accuracy: 0.2658 - loss: 0.8665 - perplexity: 2.3870\n",
            "Epoch 16/30\n",
            "\u001b[1m66/66\u001b[0m \u001b[32m━━━━━━━━━━━━━━━━━━━━\u001b[0m\u001b[37m\u001b[0m \u001b[1m69s\u001b[0m 1s/step - accuracy: 0.2905 - loss: 0.7645 - perplexity: 2.1553\n",
            "Epoch 17/30\n",
            "\u001b[1m66/66\u001b[0m \u001b[32m━━━━━━━━━━━━━━━━━━━━\u001b[0m\u001b[37m\u001b[0m \u001b[1m65s\u001b[0m 989ms/step - accuracy: 0.3094 - loss: 0.6362 - perplexity: 1.8959\n",
            "Epoch 18/30\n",
            "\u001b[1m66/66\u001b[0m \u001b[32m━━━━━━━━━━━━━━━━━━━━\u001b[0m\u001b[37m\u001b[0m \u001b[1m68s\u001b[0m 1s/step - accuracy: 0.3325 - loss: 0.5418 - perplexity: 1.7226\n",
            "Epoch 19/30\n",
            "\u001b[1m66/66\u001b[0m \u001b[32m━━━━━━━━━━━━━━━━━━━━\u001b[0m\u001b[37m\u001b[0m \u001b[1m71s\u001b[0m 1s/step - accuracy: 0.3546 - loss: 0.4572 - perplexity: 1.5827\n",
            "Epoch 20/30\n",
            "\u001b[1m66/66\u001b[0m \u001b[32m━━━━━━━━━━━━━━━━━━━━\u001b[0m\u001b[37m\u001b[0m \u001b[1m67s\u001b[0m 1s/step - accuracy: 0.3808 - loss: 0.3675 - perplexity: 1.4465\n",
            "Epoch 21/30\n",
            "\u001b[1m66/66\u001b[0m \u001b[32m━━━━━━━━━━━━━━━━━━━━\u001b[0m\u001b[37m\u001b[0m \u001b[1m66s\u001b[0m 1s/step - accuracy: 0.3822 - loss: 0.2981 - perplexity: 1.3489\n",
            "Epoch 22/30\n",
            "\u001b[1m66/66\u001b[0m \u001b[32m━━━━━━━━━━━━━━━━━━━━\u001b[0m\u001b[37m\u001b[0m \u001b[1m69s\u001b[0m 1s/step - accuracy: 0.3931 - loss: 0.2514 - perplexity: 1.2873\n",
            "Epoch 23/30\n",
            "\u001b[1m66/66\u001b[0m \u001b[32m━━━━━━━━━━━━━━━━━━━━\u001b[0m\u001b[37m\u001b[0m \u001b[1m69s\u001b[0m 1s/step - accuracy: 0.4042 - loss: 0.2196 - perplexity: 1.2463\n",
            "Epoch 24/30\n",
            "\u001b[1m66/66\u001b[0m \u001b[32m━━━━━━━━━━━━━━━━━━━━\u001b[0m\u001b[37m\u001b[0m \u001b[1m65s\u001b[0m 982ms/step - accuracy: 0.4147 - loss: 0.2047 - perplexity: 1.2278\n",
            "Epoch 25/30\n",
            "\u001b[1m66/66\u001b[0m \u001b[32m━━━━━━━━━━━━━━━━━━━━\u001b[0m\u001b[37m\u001b[0m \u001b[1m67s\u001b[0m 1s/step - accuracy: 0.4115 - loss: 0.1984 - perplexity: 1.2202\n",
            "Epoch 26/30\n",
            "\u001b[1m66/66\u001b[0m \u001b[32m━━━━━━━━━━━━━━━━━━━━\u001b[0m\u001b[37m\u001b[0m \u001b[1m70s\u001b[0m 1s/step - accuracy: 0.4128 - loss: 0.1709 - perplexity: 1.1873\n",
            "Epoch 27/30\n",
            "\u001b[1m66/66\u001b[0m \u001b[32m━━━━━━━━━━━━━━━━━━━━\u001b[0m\u001b[37m\u001b[0m \u001b[1m67s\u001b[0m 1s/step - accuracy: 0.4155 - loss: 0.1728 - perplexity: 1.1893\n",
            "Epoch 28/30\n",
            "\u001b[1m66/66\u001b[0m \u001b[32m━━━━━━━━━━━━━━━━━━━━\u001b[0m\u001b[37m\u001b[0m \u001b[1m64s\u001b[0m 976ms/step - accuracy: 0.4212 - loss: 0.1683 - perplexity: 1.1840\n",
            "Epoch 29/30\n",
            "\u001b[1m66/66\u001b[0m \u001b[32m━━━━━━━━━━━━━━━━━━━━\u001b[0m\u001b[37m\u001b[0m \u001b[1m69s\u001b[0m 1s/step - accuracy: 0.4108 - loss: 0.1829 - perplexity: 1.2013\n",
            "Epoch 30/30\n",
            "\u001b[1m66/66\u001b[0m \u001b[32m━━━━━━━━━━━━━━━━━━━━\u001b[0m\u001b[37m\u001b[0m \u001b[1m70s\u001b[0m 1s/step - accuracy: 0.4048 - loss: 0.1732 - perplexity: 1.1897\n"
          ]
        }
      ]
    },
    {
      "cell_type": "code",
      "source": [
        "model_NH32.save_weights('D:/skripsi-sultin/data/bot_v4_Final_NH32_E50.weights.h5')"
      ],
      "metadata": {
        "id": "ZCVJclNTjumQ"
      },
      "execution_count": null,
      "outputs": []
    },
    {
      "cell_type": "markdown",
      "source": [
        "# Eksperimen UNITS"
      ],
      "metadata": {
        "id": "uXEVi_EoCxs3"
      }
    },
    {
      "cell_type": "markdown",
      "source": [
        "UNITS 256"
      ],
      "metadata": {
        "id": "sa8wEvN0C0u-"
      }
    },
    {
      "cell_type": "code",
      "source": [
        "#Base Model Hypereparameters\n",
        "NUM_LAYERS = 2\n",
        "D_MODEL = 256\n",
        "NUM_HEADS = 8\n",
        "UNITS = 256\n",
        "DROPOUT = 0.1\n",
        "\n",
        "model_U256 = transformer(\n",
        "    vocab_size=VOCAB_SIZE,\n",
        "    num_layers=NUM_LAYERS,\n",
        "    units=UNITS,\n",
        "    d_model=D_MODEL,\n",
        "    num_heads=NUM_HEADS,\n",
        "    dropout=DROPOUT)"
      ],
      "metadata": {
        "id": "I-rMCZaVC4Ot"
      },
      "execution_count": null,
      "outputs": []
    },
    {
      "cell_type": "code",
      "source": [
        "learning_rate = CustomSchedule(D_MODEL)\n",
        "\n",
        "optimizer = tf.keras.optimizers.Adam(\n",
        "    learning_rate, beta_1=0.9, beta_2=0.98, epsilon=1e-9)\n",
        "\n",
        "\n",
        "model_U256.compile(\n",
        "    optimizer=optimizer,\n",
        "    loss=loss_function,\n",
        "    metrics=[accuracy, perplexity],\n",
        "    run_eagerly=True  # Set to True for debugging if needed\n",
        ")"
      ],
      "metadata": {
        "id": "pJrJetltDdHz"
      },
      "execution_count": null,
      "outputs": []
    },
    {
      "cell_type": "code",
      "source": [
        "EPOCHS = 30\n",
        "\n",
        "history = model_U256.fit(dataset, epochs=EPOCHS)"
      ],
      "metadata": {
        "id": "cgXoaEuuDhXZ",
        "colab": {
          "base_uri": "https://localhost:8080/"
        },
        "outputId": "4a69f9f5-7730-4d46-e05b-93cc036c8341"
      },
      "execution_count": null,
      "outputs": [
        {
          "output_type": "stream",
          "name": "stdout",
          "text": [
            "Epoch 1/30\n",
            "\u001b[1m66/66\u001b[0m \u001b[32m━━━━━━━━━━━━━━━━━━━━\u001b[0m\u001b[37m\u001b[0m \u001b[1m53s\u001b[0m 800ms/step - accuracy: 0.0057 - loss: 3.6510 - perplexity: 40.6058\n",
            "Epoch 2/30\n",
            "\u001b[1m66/66\u001b[0m \u001b[32m━━━━━━━━━━━━━━━━━━━━\u001b[0m\u001b[37m\u001b[0m \u001b[1m54s\u001b[0m 819ms/step - accuracy: 0.0233 - loss: 3.2334 - perplexity: 26.3788\n",
            "Epoch 3/30\n",
            "\u001b[1m66/66\u001b[0m \u001b[32m━━━━━━━━━━━━━━━━━━━━\u001b[0m\u001b[37m\u001b[0m \u001b[1m57s\u001b[0m 868ms/step - accuracy: 0.0256 - loss: 2.8445 - perplexity: 17.7703\n",
            "Epoch 4/30\n",
            "\u001b[1m66/66\u001b[0m \u001b[32m━━━━━━━━━━━━━━━━━━━━\u001b[0m\u001b[37m\u001b[0m \u001b[1m60s\u001b[0m 904ms/step - accuracy: 0.0517 - loss: 2.5442 - perplexity: 13.1148\n",
            "Epoch 5/30\n",
            "\u001b[1m66/66\u001b[0m \u001b[32m━━━━━━━━━━━━━━━━━━━━\u001b[0m\u001b[37m\u001b[0m \u001b[1m56s\u001b[0m 844ms/step - accuracy: 0.0875 - loss: 2.2913 - perplexity: 10.0991\n",
            "Epoch 6/30\n",
            "\u001b[1m66/66\u001b[0m \u001b[32m━━━━━━━━━━━━━━━━━━━━\u001b[0m\u001b[37m\u001b[0m \u001b[1m51s\u001b[0m 780ms/step - accuracy: 0.1198 - loss: 2.1063 - perplexity: 8.3292\n",
            "Epoch 7/30\n",
            "\u001b[1m66/66\u001b[0m \u001b[32m━━━━━━━━━━━━━━━━━━━━\u001b[0m\u001b[37m\u001b[0m \u001b[1m56s\u001b[0m 853ms/step - accuracy: 0.1360 - loss: 1.8513 - perplexity: 6.4555\n",
            "Epoch 8/30\n",
            "\u001b[1m66/66\u001b[0m \u001b[32m━━━━━━━━━━━━━━━━━━━━\u001b[0m\u001b[37m\u001b[0m \u001b[1m60s\u001b[0m 905ms/step - accuracy: 0.1567 - loss: 1.7672 - perplexity: 5.9331\n",
            "Epoch 9/30\n",
            "\u001b[1m66/66\u001b[0m \u001b[32m━━━━━━━━━━━━━━━━━━━━\u001b[0m\u001b[37m\u001b[0m \u001b[1m58s\u001b[0m 879ms/step - accuracy: 0.1672 - loss: 1.5711 - perplexity: 4.8504\n",
            "Epoch 10/30\n",
            "\u001b[1m66/66\u001b[0m \u001b[32m━━━━━━━━━━━━━━━━━━━━\u001b[0m\u001b[37m\u001b[0m \u001b[1m53s\u001b[0m 797ms/step - accuracy: 0.1845 - loss: 1.4717 - perplexity: 4.3905\n",
            "Epoch 11/30\n",
            "\u001b[1m66/66\u001b[0m \u001b[32m━━━━━━━━━━━━━━━━━━━━\u001b[0m\u001b[37m\u001b[0m \u001b[1m54s\u001b[0m 818ms/step - accuracy: 0.1861 - loss: 1.3364 - perplexity: 3.8528\n",
            "Epoch 12/30\n",
            "\u001b[1m66/66\u001b[0m \u001b[32m━━━━━━━━━━━━━━━━━━━━\u001b[0m\u001b[37m\u001b[0m \u001b[1m60s\u001b[0m 909ms/step - accuracy: 0.2047 - loss: 1.2198 - perplexity: 3.4173\n",
            "Epoch 13/30\n",
            "\u001b[1m66/66\u001b[0m \u001b[32m━━━━━━━━━━━━━━━━━━━━\u001b[0m\u001b[37m\u001b[0m \u001b[1m62s\u001b[0m 944ms/step - accuracy: 0.2228 - loss: 1.1347 - perplexity: 3.1288\n",
            "Epoch 14/30\n",
            "\u001b[1m66/66\u001b[0m \u001b[32m━━━━━━━━━━━━━━━━━━━━\u001b[0m\u001b[37m\u001b[0m \u001b[1m53s\u001b[0m 802ms/step - accuracy: 0.2322 - loss: 1.0034 - perplexity: 2.7496\n",
            "Epoch 15/30\n",
            "\u001b[1m66/66\u001b[0m \u001b[32m━━━━━━━━━━━━━━━━━━━━\u001b[0m\u001b[37m\u001b[0m \u001b[1m54s\u001b[0m 816ms/step - accuracy: 0.2512 - loss: 0.8831 - perplexity: 2.4329\n",
            "Epoch 16/30\n",
            "\u001b[1m66/66\u001b[0m \u001b[32m━━━━━━━━━━━━━━━━━━━━\u001b[0m\u001b[37m\u001b[0m \u001b[1m60s\u001b[0m 915ms/step - accuracy: 0.2772 - loss: 0.7939 - perplexity: 2.2203\n",
            "Epoch 17/30\n",
            "\u001b[1m66/66\u001b[0m \u001b[32m━━━━━━━━━━━━━━━━━━━━\u001b[0m\u001b[37m\u001b[0m \u001b[1m61s\u001b[0m 918ms/step - accuracy: 0.2935 - loss: 0.6752 - perplexity: 1.9709\n",
            "Epoch 18/30\n",
            "\u001b[1m66/66\u001b[0m \u001b[32m━━━━━━━━━━━━━━━━━━━━\u001b[0m\u001b[37m\u001b[0m \u001b[1m53s\u001b[0m 808ms/step - accuracy: 0.3200 - loss: 0.5863 - perplexity: 1.8032\n",
            "Epoch 19/30\n",
            "\u001b[1m66/66\u001b[0m \u001b[32m━━━━━━━━━━━━━━━━━━━━\u001b[0m\u001b[37m\u001b[0m \u001b[1m55s\u001b[0m 835ms/step - accuracy: 0.3354 - loss: 0.4903 - perplexity: 1.6365\n",
            "Epoch 20/30\n",
            "\u001b[1m66/66\u001b[0m \u001b[32m━━━━━━━━━━━━━━━━━━━━\u001b[0m\u001b[37m\u001b[0m \u001b[1m59s\u001b[0m 895ms/step - accuracy: 0.3579 - loss: 0.4003 - perplexity: 1.4949\n",
            "Epoch 21/30\n",
            "\u001b[1m66/66\u001b[0m \u001b[32m━━━━━━━━━━━━━━━━━━━━\u001b[0m\u001b[37m\u001b[0m \u001b[1m60s\u001b[0m 905ms/step - accuracy: 0.3772 - loss: 0.3457 - perplexity: 1.4146\n",
            "Epoch 22/30\n",
            "\u001b[1m66/66\u001b[0m \u001b[32m━━━━━━━━━━━━━━━━━━━━\u001b[0m\u001b[37m\u001b[0m \u001b[1m54s\u001b[0m 821ms/step - accuracy: 0.3956 - loss: 0.2839 - perplexity: 1.3296\n",
            "Epoch 23/30\n",
            "\u001b[1m66/66\u001b[0m \u001b[32m━━━━━━━━━━━━━━━━━━━━\u001b[0m\u001b[37m\u001b[0m \u001b[1m54s\u001b[0m 818ms/step - accuracy: 0.4068 - loss: 0.2496 - perplexity: 1.2842\n",
            "Epoch 24/30\n",
            "\u001b[1m66/66\u001b[0m \u001b[32m━━━━━━━━━━━━━━━━━━━━\u001b[0m\u001b[37m\u001b[0m \u001b[1m58s\u001b[0m 885ms/step - accuracy: 0.4117 - loss: 0.2210 - perplexity: 1.2483\n",
            "Epoch 25/30\n",
            "\u001b[1m66/66\u001b[0m \u001b[32m━━━━━━━━━━━━━━━━━━━━\u001b[0m\u001b[37m\u001b[0m \u001b[1m62s\u001b[0m 935ms/step - accuracy: 0.4058 - loss: 0.2007 - perplexity: 1.2230\n",
            "Epoch 26/30\n",
            "\u001b[1m66/66\u001b[0m \u001b[32m━━━━━━━━━━━━━━━━━━━━\u001b[0m\u001b[37m\u001b[0m \u001b[1m55s\u001b[0m 826ms/step - accuracy: 0.4115 - loss: 0.1840 - perplexity: 1.2027\n",
            "Epoch 27/30\n",
            "\u001b[1m66/66\u001b[0m \u001b[32m━━━━━━━━━━━━━━━━━━━━\u001b[0m\u001b[37m\u001b[0m \u001b[1m52s\u001b[0m 783ms/step - accuracy: 0.4140 - loss: 0.1936 - perplexity: 1.2141\n",
            "Epoch 28/30\n",
            "\u001b[1m66/66\u001b[0m \u001b[32m━━━━━━━━━━━━━━━━━━━━\u001b[0m\u001b[37m\u001b[0m \u001b[1m55s\u001b[0m 831ms/step - accuracy: 0.4230 - loss: 0.1796 - perplexity: 1.1972\n",
            "Epoch 29/30\n",
            "\u001b[1m66/66\u001b[0m \u001b[32m━━━━━━━━━━━━━━━━━━━━\u001b[0m\u001b[37m\u001b[0m \u001b[1m62s\u001b[0m 940ms/step - accuracy: 0.4112 - loss: 0.1713 - perplexity: 1.1876\n",
            "Epoch 30/30\n",
            "\u001b[1m66/66\u001b[0m \u001b[32m━━━━━━━━━━━━━━━━━━━━\u001b[0m\u001b[37m\u001b[0m \u001b[1m57s\u001b[0m 867ms/step - accuracy: 0.4098 - loss: 0.1742 - perplexity: 1.1910\n"
          ]
        }
      ]
    },
    {
      "cell_type": "code",
      "source": [
        "model_U256.save_weights('D:/skripsi-sultin/data/bot_v4_Final_U256_E50.weights.h5')"
      ],
      "metadata": {
        "id": "qExg1WrAj2HZ"
      },
      "execution_count": null,
      "outputs": []
    },
    {
      "cell_type": "markdown",
      "source": [
        "U384"
      ],
      "metadata": {
        "id": "LDyUXpCfDlmG"
      }
    },
    {
      "cell_type": "code",
      "source": [
        "#Base Model Hypereparameters\n",
        "NUM_LAYERS = 2\n",
        "D_MODEL = 256\n",
        "NUM_HEADS = 8\n",
        "UNITS = 384\n",
        "DROPOUT = 0.1\n",
        "\n",
        "model_U384 = transformer(\n",
        "    vocab_size=VOCAB_SIZE,\n",
        "    num_layers=NUM_LAYERS,\n",
        "    units=UNITS,\n",
        "    d_model=D_MODEL,\n",
        "    num_heads=NUM_HEADS,\n",
        "    dropout=DROPOUT)"
      ],
      "metadata": {
        "id": "jFTsL4V1DoLv"
      },
      "execution_count": null,
      "outputs": []
    },
    {
      "cell_type": "code",
      "source": [
        "learning_rate = CustomSchedule(D_MODEL)\n",
        "\n",
        "optimizer = tf.keras.optimizers.Adam(\n",
        "    learning_rate, beta_1=0.9, beta_2=0.98, epsilon=1e-9)\n",
        "\n",
        "\n",
        "model_U384.compile(\n",
        "    optimizer=optimizer,\n",
        "    loss=loss_function,\n",
        "    metrics=[accuracy, perplexity],\n",
        "    run_eagerly=True  # Set to True for debugging if needed\n",
        ")"
      ],
      "metadata": {
        "id": "ZhgeV2MZDsbD"
      },
      "execution_count": null,
      "outputs": []
    },
    {
      "cell_type": "code",
      "source": [
        "EPOCHS = 50\n",
        "\n",
        "history = model_U384.fit(dataset, epochs=EPOCHS)"
      ],
      "metadata": {
        "id": "pIv4RptoDwcx",
        "colab": {
          "base_uri": "https://localhost:8080/"
        },
        "outputId": "9c66cd8c-15e9-4b50-d927-94360bcb3530"
      },
      "execution_count": null,
      "outputs": [
        {
          "output_type": "stream",
          "name": "stdout",
          "text": [
            "Epoch 1/50\n",
            "\u001b[1m66/66\u001b[0m \u001b[32m━━━━━━━━━━━━━━━━━━━━\u001b[0m\u001b[37m\u001b[0m \u001b[1m55s\u001b[0m 814ms/step - accuracy: 0.0020 - loss: 3.5270 - perplexity: 36.2301\n",
            "Epoch 2/50\n",
            "\u001b[1m66/66\u001b[0m \u001b[32m━━━━━━━━━━━━━━━━━━━━\u001b[0m\u001b[37m\u001b[0m \u001b[1m55s\u001b[0m 830ms/step - accuracy: 0.0219 - loss: 3.2148 - perplexity: 26.0248\n",
            "Epoch 3/50\n",
            "\u001b[1m66/66\u001b[0m \u001b[32m━━━━━━━━━━━━━━━━━━━━\u001b[0m\u001b[37m\u001b[0m \u001b[1m57s\u001b[0m 862ms/step - accuracy: 0.0251 - loss: 2.7800 - perplexity: 16.8344\n",
            "Epoch 4/50\n",
            "\u001b[1m66/66\u001b[0m \u001b[32m━━━━━━━━━━━━━━━━━━━━\u001b[0m\u001b[37m\u001b[0m \u001b[1m57s\u001b[0m 859ms/step - accuracy: 0.0570 - loss: 2.6113 - perplexity: 13.9318\n",
            "Epoch 5/50\n",
            "\u001b[1m66/66\u001b[0m \u001b[32m━━━━━━━━━━━━━━━━━━━━\u001b[0m\u001b[37m\u001b[0m \u001b[1m56s\u001b[0m 842ms/step - accuracy: 0.0948 - loss: 2.3450 - perplexity: 10.6203\n",
            "Epoch 6/50\n",
            "\u001b[1m66/66\u001b[0m \u001b[32m━━━━━━━━━━━━━━━━━━━━\u001b[0m\u001b[37m\u001b[0m \u001b[1m56s\u001b[0m 851ms/step - accuracy: 0.1207 - loss: 2.0859 - perplexity: 8.1775\n",
            "Epoch 7/50\n",
            "\u001b[1m66/66\u001b[0m \u001b[32m━━━━━━━━━━━━━━━━━━━━\u001b[0m\u001b[37m\u001b[0m \u001b[1m55s\u001b[0m 834ms/step - accuracy: 0.1372 - loss: 1.8443 - perplexity: 6.4074\n",
            "Epoch 8/50\n",
            "\u001b[1m66/66\u001b[0m \u001b[32m━━━━━━━━━━━━━━━━━━━━\u001b[0m\u001b[37m\u001b[0m \u001b[1m55s\u001b[0m 839ms/step - accuracy: 0.1562 - loss: 1.6887 - perplexity: 5.4936\n",
            "Epoch 9/50\n",
            "\u001b[1m66/66\u001b[0m \u001b[32m━━━━━━━━━━━━━━━━━━━━\u001b[0m\u001b[37m\u001b[0m \u001b[1m55s\u001b[0m 834ms/step - accuracy: 0.1656 - loss: 1.5465 - perplexity: 4.7360\n",
            "Epoch 10/50\n",
            "\u001b[1m66/66\u001b[0m \u001b[32m━━━━━━━━━━━━━━━━━━━━\u001b[0m\u001b[37m\u001b[0m \u001b[1m55s\u001b[0m 841ms/step - accuracy: 0.1797 - loss: 1.4321 - perplexity: 4.2290\n",
            "Epoch 11/50\n",
            "\u001b[1m66/66\u001b[0m \u001b[32m━━━━━━━━━━━━━━━━━━━━\u001b[0m\u001b[37m\u001b[0m \u001b[1m57s\u001b[0m 859ms/step - accuracy: 0.1949 - loss: 1.3267 - perplexity: 3.7987\n",
            "Epoch 12/50\n",
            "\u001b[1m66/66\u001b[0m \u001b[32m━━━━━━━━━━━━━━━━━━━━\u001b[0m\u001b[37m\u001b[0m \u001b[1m55s\u001b[0m 825ms/step - accuracy: 0.2070 - loss: 1.1898 - perplexity: 3.3170\n",
            "Epoch 13/50\n",
            "\u001b[1m66/66\u001b[0m \u001b[32m━━━━━━━━━━━━━━━━━━━━\u001b[0m\u001b[37m\u001b[0m \u001b[1m55s\u001b[0m 835ms/step - accuracy: 0.2325 - loss: 1.1279 - perplexity: 3.1178\n",
            "Epoch 14/50\n",
            "\u001b[1m66/66\u001b[0m \u001b[32m━━━━━━━━━━━━━━━━━━━━\u001b[0m\u001b[37m\u001b[0m \u001b[1m53s\u001b[0m 808ms/step - accuracy: 0.2392 - loss: 0.9634 - perplexity: 2.6404\n",
            "Epoch 15/50\n",
            "\u001b[1m66/66\u001b[0m \u001b[32m━━━━━━━━━━━━━━━━━━━━\u001b[0m\u001b[37m\u001b[0m \u001b[1m54s\u001b[0m 826ms/step - accuracy: 0.2594 - loss: 0.8716 - perplexity: 2.4021\n",
            "Epoch 16/50\n",
            "\u001b[1m66/66\u001b[0m \u001b[32m━━━━━━━━━━━━━━━━━━━━\u001b[0m\u001b[37m\u001b[0m \u001b[1m55s\u001b[0m 834ms/step - accuracy: 0.2819 - loss: 0.7823 - perplexity: 2.1923\n",
            "Epoch 17/50\n",
            "\u001b[1m66/66\u001b[0m \u001b[32m━━━━━━━━━━━━━━━━━━━━\u001b[0m\u001b[37m\u001b[0m \u001b[1m56s\u001b[0m 843ms/step - accuracy: 0.3041 - loss: 0.6602 - perplexity: 1.9405\n",
            "Epoch 18/50\n",
            "\u001b[1m66/66\u001b[0m \u001b[32m━━━━━━━━━━━━━━━━━━━━\u001b[0m\u001b[37m\u001b[0m \u001b[1m54s\u001b[0m 811ms/step - accuracy: 0.3286 - loss: 0.5530 - perplexity: 1.7409\n",
            "Epoch 19/50\n",
            "\u001b[1m66/66\u001b[0m \u001b[32m━━━━━━━━━━━━━━━━━━━━\u001b[0m\u001b[37m\u001b[0m \u001b[1m57s\u001b[0m 870ms/step - accuracy: 0.3507 - loss: 0.4720 - perplexity: 1.6051\n",
            "Epoch 20/50\n",
            "\u001b[1m66/66\u001b[0m \u001b[32m━━━━━━━━━━━━━━━━━━━━\u001b[0m\u001b[37m\u001b[0m \u001b[1m59s\u001b[0m 887ms/step - accuracy: 0.3702 - loss: 0.3912 - perplexity: 1.4803\n",
            "Epoch 21/50\n",
            "\u001b[1m66/66\u001b[0m \u001b[32m━━━━━━━━━━━━━━━━━━━━\u001b[0m\u001b[37m\u001b[0m \u001b[1m59s\u001b[0m 892ms/step - accuracy: 0.3839 - loss: 0.3270 - perplexity: 1.3879\n",
            "Epoch 22/50\n",
            "\u001b[1m66/66\u001b[0m \u001b[32m━━━━━━━━━━━━━━━━━━━━\u001b[0m\u001b[37m\u001b[0m \u001b[1m58s\u001b[0m 879ms/step - accuracy: 0.3982 - loss: 0.2803 - perplexity: 1.3244\n",
            "Epoch 23/50\n",
            "\u001b[1m66/66\u001b[0m \u001b[32m━━━━━━━━━━━━━━━━━━━━\u001b[0m\u001b[37m\u001b[0m \u001b[1m55s\u001b[0m 832ms/step - accuracy: 0.4102 - loss: 0.2471 - perplexity: 1.2812\n",
            "Epoch 24/50\n",
            "\u001b[1m66/66\u001b[0m \u001b[32m━━━━━━━━━━━━━━━━━━━━\u001b[0m\u001b[37m\u001b[0m \u001b[1m55s\u001b[0m 840ms/step - accuracy: 0.4107 - loss: 0.2160 - perplexity: 1.2418\n",
            "Epoch 25/50\n",
            "\u001b[1m66/66\u001b[0m \u001b[32m━━━━━━━━━━━━━━━━━━━━\u001b[0m\u001b[37m\u001b[0m \u001b[1m55s\u001b[0m 839ms/step - accuracy: 0.4081 - loss: 0.2055 - perplexity: 1.2288\n",
            "Epoch 26/50\n",
            "\u001b[1m66/66\u001b[0m \u001b[32m━━━━━━━━━━━━━━━━━━━━\u001b[0m\u001b[37m\u001b[0m \u001b[1m55s\u001b[0m 835ms/step - accuracy: 0.4039 - loss: 0.1849 - perplexity: 1.2038\n",
            "Epoch 27/50\n",
            "\u001b[1m66/66\u001b[0m \u001b[32m━━━━━━━━━━━━━━━━━━━━\u001b[0m\u001b[37m\u001b[0m \u001b[1m54s\u001b[0m 816ms/step - accuracy: 0.4051 - loss: 0.1804 - perplexity: 1.1984\n",
            "Epoch 28/50\n",
            "\u001b[1m66/66\u001b[0m \u001b[32m━━━━━━━━━━━━━━━━━━━━\u001b[0m\u001b[37m\u001b[0m \u001b[1m56s\u001b[0m 850ms/step - accuracy: 0.4082 - loss: 0.1750 - perplexity: 1.1920\n",
            "Epoch 29/50\n",
            "\u001b[1m66/66\u001b[0m \u001b[32m━━━━━━━━━━━━━━━━━━━━\u001b[0m\u001b[37m\u001b[0m \u001b[1m56s\u001b[0m 844ms/step - accuracy: 0.4164 - loss: 0.1776 - perplexity: 1.1951\n",
            "Epoch 30/50\n",
            "\u001b[1m66/66\u001b[0m \u001b[32m━━━━━━━━━━━━━━━━━━━━\u001b[0m\u001b[37m\u001b[0m \u001b[1m55s\u001b[0m 836ms/step - accuracy: 0.4232 - loss: 0.1779 - perplexity: 1.1951\n",
            "Epoch 31/50\n",
            "\u001b[1m66/66\u001b[0m \u001b[32m━━━━━━━━━━━━━━━━━━━━\u001b[0m\u001b[37m\u001b[0m \u001b[1m54s\u001b[0m 823ms/step - accuracy: 0.4146 - loss: 0.1743 - perplexity: 1.1909\n",
            "Epoch 32/50\n",
            "\u001b[1m66/66\u001b[0m \u001b[32m━━━━━━━━━━━━━━━━━━━━\u001b[0m\u001b[37m\u001b[0m \u001b[1m54s\u001b[0m 820ms/step - accuracy: 0.4243 - loss: 0.1666 - perplexity: 1.1817\n",
            "Epoch 33/50\n",
            "\u001b[1m66/66\u001b[0m \u001b[32m━━━━━━━━━━━━━━━━━━━━\u001b[0m\u001b[37m\u001b[0m \u001b[1m55s\u001b[0m 827ms/step - accuracy: 0.4151 - loss: 0.1478 - perplexity: 1.1598\n",
            "Epoch 34/50\n",
            "\u001b[1m66/66\u001b[0m \u001b[32m━━━━━━━━━━━━━━━━━━━━\u001b[0m\u001b[37m\u001b[0m \u001b[1m56s\u001b[0m 843ms/step - accuracy: 0.4266 - loss: 0.1331 - perplexity: 1.1428\n",
            "Epoch 35/50\n",
            "\u001b[1m66/66\u001b[0m \u001b[32m━━━━━━━━━━━━━━━━━━━━\u001b[0m\u001b[37m\u001b[0m \u001b[1m55s\u001b[0m 826ms/step - accuracy: 0.4343 - loss: 0.1367 - perplexity: 1.1468\n",
            "Epoch 36/50\n",
            "\u001b[1m66/66\u001b[0m \u001b[32m━━━━━━━━━━━━━━━━━━━━\u001b[0m\u001b[37m\u001b[0m \u001b[1m56s\u001b[0m 856ms/step - accuracy: 0.4335 - loss: 0.1198 - perplexity: 1.1276\n",
            "Epoch 37/50\n",
            "\u001b[1m66/66\u001b[0m \u001b[32m━━━━━━━━━━━━━━━━━━━━\u001b[0m\u001b[37m\u001b[0m \u001b[1m56s\u001b[0m 849ms/step - accuracy: 0.4268 - loss: 0.1191 - perplexity: 1.1269\n",
            "Epoch 38/50\n",
            "\u001b[1m66/66\u001b[0m \u001b[32m━━━━━━━━━━━━━━━━━━━━\u001b[0m\u001b[37m\u001b[0m \u001b[1m54s\u001b[0m 820ms/step - accuracy: 0.4311 - loss: 0.1061 - perplexity: 1.1121\n",
            "Epoch 39/50\n",
            "\u001b[1m66/66\u001b[0m \u001b[32m━━━━━━━━━━━━━━━━━━━━\u001b[0m\u001b[37m\u001b[0m \u001b[1m54s\u001b[0m 816ms/step - accuracy: 0.4321 - loss: 0.1027 - perplexity: 1.1084\n",
            "Epoch 40/50\n",
            "\u001b[1m66/66\u001b[0m \u001b[32m━━━━━━━━━━━━━━━━━━━━\u001b[0m\u001b[37m\u001b[0m \u001b[1m54s\u001b[0m 826ms/step - accuracy: 0.4405 - loss: 0.0974 - perplexity: 1.1025\n",
            "Epoch 41/50\n",
            "\u001b[1m66/66\u001b[0m \u001b[32m━━━━━━━━━━━━━━━━━━━━\u001b[0m\u001b[37m\u001b[0m \u001b[1m56s\u001b[0m 851ms/step - accuracy: 0.4413 - loss: 0.0964 - perplexity: 1.1015\n",
            "Epoch 42/50\n",
            "\u001b[1m66/66\u001b[0m \u001b[32m━━━━━━━━━━━━━━━━━━━━\u001b[0m\u001b[37m\u001b[0m \u001b[1m58s\u001b[0m 875ms/step - accuracy: 0.4269 - loss: 0.0949 - perplexity: 1.0997\n",
            "Epoch 43/50\n",
            "\u001b[1m66/66\u001b[0m \u001b[32m━━━━━━━━━━━━━━━━━━━━\u001b[0m\u001b[37m\u001b[0m \u001b[1m54s\u001b[0m 824ms/step - accuracy: 0.4417 - loss: 0.0879 - perplexity: 1.0920\n",
            "Epoch 44/50\n",
            "\u001b[1m66/66\u001b[0m \u001b[32m━━━━━━━━━━━━━━━━━━━━\u001b[0m\u001b[37m\u001b[0m \u001b[1m56s\u001b[0m 842ms/step - accuracy: 0.4338 - loss: 0.0878 - perplexity: 1.0919\n",
            "Epoch 45/50\n",
            "\u001b[1m66/66\u001b[0m \u001b[32m━━━━━━━━━━━━━━━━━━━━\u001b[0m\u001b[37m\u001b[0m \u001b[1m57s\u001b[0m 859ms/step - accuracy: 0.4439 - loss: 0.0821 - perplexity: 1.0857\n",
            "Epoch 46/50\n",
            "\u001b[1m66/66\u001b[0m \u001b[32m━━━━━━━━━━━━━━━━━━━━\u001b[0m\u001b[37m\u001b[0m \u001b[1m57s\u001b[0m 864ms/step - accuracy: 0.4422 - loss: 0.0814 - perplexity: 1.0849\n",
            "Epoch 47/50\n",
            "\u001b[1m66/66\u001b[0m \u001b[32m━━━━━━━━━━━━━━━━━━━━\u001b[0m\u001b[37m\u001b[0m \u001b[1m57s\u001b[0m 861ms/step - accuracy: 0.4323 - loss: 0.0765 - perplexity: 1.0796\n",
            "Epoch 48/50\n",
            "\u001b[1m66/66\u001b[0m \u001b[32m━━━━━━━━━━━━━━━━━━━━\u001b[0m\u001b[37m\u001b[0m \u001b[1m55s\u001b[0m 838ms/step - accuracy: 0.4417 - loss: 0.0748 - perplexity: 1.0778\n",
            "Epoch 49/50\n",
            "\u001b[1m66/66\u001b[0m \u001b[32m━━━━━━━━━━━━━━━━━━━━\u001b[0m\u001b[37m\u001b[0m \u001b[1m55s\u001b[0m 828ms/step - accuracy: 0.4354 - loss: 0.0742 - perplexity: 1.0772\n",
            "Epoch 50/50\n",
            "\u001b[1m66/66\u001b[0m \u001b[32m━━━━━━━━━━━━━━━━━━━━\u001b[0m\u001b[37m\u001b[0m \u001b[1m56s\u001b[0m 849ms/step - accuracy: 0.4380 - loss: 0.0744 - perplexity: 1.0774\n"
          ]
        }
      ]
    },
    {
      "cell_type": "code",
      "source": [
        "model_U384.save_weights('D:/skripsi-sultin/data/bot_v4_Final_U384_E50.weights.h5')"
      ],
      "metadata": {
        "id": "nDyIAJscj_kl"
      },
      "execution_count": null,
      "outputs": []
    },
    {
      "cell_type": "markdown",
      "source": [
        "U640"
      ],
      "metadata": {
        "id": "e0y25F4cDzAr"
      }
    },
    {
      "cell_type": "code",
      "source": [
        "#Base Model Hypereparameters\n",
        "NUM_LAYERS = 2\n",
        "D_MODEL = 256\n",
        "NUM_HEADS = 8\n",
        "UNITS = 640\n",
        "DROPOUT = 0.1\n",
        "\n",
        "model_U640 = transformer(\n",
        "    vocab_size=VOCAB_SIZE,\n",
        "    num_layers=NUM_LAYERS,\n",
        "    units=UNITS,\n",
        "    d_model=D_MODEL,\n",
        "    num_heads=NUM_HEADS,\n",
        "    dropout=DROPOUT)"
      ],
      "metadata": {
        "id": "92FW9x2FD2rf"
      },
      "execution_count": null,
      "outputs": []
    },
    {
      "cell_type": "code",
      "source": [
        "learning_rate = CustomSchedule(D_MODEL)\n",
        "\n",
        "optimizer = tf.keras.optimizers.Adam(\n",
        "    learning_rate, beta_1=0.9, beta_2=0.98, epsilon=1e-9)\n",
        "\n",
        "\n",
        "model_U640.compile(\n",
        "    optimizer=optimizer,\n",
        "    loss=loss_function,\n",
        "    metrics=[accuracy, perplexity],\n",
        "    run_eagerly=True  # Set to True for debugging if needed\n",
        ")"
      ],
      "metadata": {
        "id": "TtSZOoR6D_sY"
      },
      "execution_count": null,
      "outputs": []
    },
    {
      "cell_type": "code",
      "source": [
        "EPOCHS = 30\n",
        "\n",
        "history = model_U640.fit(dataset, epochs=EPOCHS)"
      ],
      "metadata": {
        "id": "tlsTLItXEBkz",
        "collapsed": true,
        "colab": {
          "base_uri": "https://localhost:8080/"
        },
        "outputId": "0ef3412c-8771-4233-dff6-ded4398da088"
      },
      "execution_count": null,
      "outputs": [
        {
          "output_type": "stream",
          "name": "stdout",
          "text": [
            "Epoch 1/30\n",
            "\u001b[1m66/66\u001b[0m \u001b[32m━━━━━━━━━━━━━━━━━━━━\u001b[0m\u001b[37m\u001b[0m \u001b[1m54s\u001b[0m 812ms/step - accuracy: 0.0028 - loss: 3.5941 - perplexity: 38.5911\n",
            "Epoch 2/30\n",
            "\u001b[1m66/66\u001b[0m \u001b[32m━━━━━━━━━━━━━━━━━━━━\u001b[0m\u001b[37m\u001b[0m \u001b[1m55s\u001b[0m 831ms/step - accuracy: 0.0221 - loss: 3.2430 - perplexity: 26.7497\n",
            "Epoch 3/30\n",
            "\u001b[1m66/66\u001b[0m \u001b[32m━━━━━━━━━━━━━━━━━━━━\u001b[0m\u001b[37m\u001b[0m \u001b[1m61s\u001b[0m 929ms/step - accuracy: 0.0269 - loss: 2.7941 - perplexity: 17.1782\n",
            "Epoch 4/30\n",
            "\u001b[1m66/66\u001b[0m \u001b[32m━━━━━━━━━━━━━━━━━━━━\u001b[0m\u001b[37m\u001b[0m \u001b[1m59s\u001b[0m 903ms/step - accuracy: 0.0627 - loss: 2.5812 - perplexity: 13.6112\n",
            "Epoch 5/30\n",
            "\u001b[1m66/66\u001b[0m \u001b[32m━━━━━━━━━━━━━━━━━━━━\u001b[0m\u001b[37m\u001b[0m \u001b[1m54s\u001b[0m 819ms/step - accuracy: 0.1045 - loss: 2.3520 - perplexity: 10.7617\n",
            "Epoch 6/30\n",
            "\u001b[1m66/66\u001b[0m \u001b[32m━━━━━━━━━━━━━━━━━━━━\u001b[0m\u001b[37m\u001b[0m \u001b[1m54s\u001b[0m 813ms/step - accuracy: 0.1301 - loss: 2.0234 - perplexity: 7.7128\n",
            "Epoch 7/30\n",
            "\u001b[1m66/66\u001b[0m \u001b[32m━━━━━━━━━━━━━━━━━━━━\u001b[0m\u001b[37m\u001b[0m \u001b[1m61s\u001b[0m 918ms/step - accuracy: 0.1480 - loss: 1.8187 - perplexity: 6.2350\n",
            "Epoch 8/30\n",
            "\u001b[1m66/66\u001b[0m \u001b[32m━━━━━━━━━━━━━━━━━━━━\u001b[0m\u001b[37m\u001b[0m \u001b[1m60s\u001b[0m 912ms/step - accuracy: 0.1578 - loss: 1.6473 - perplexity: 5.2891\n",
            "Epoch 9/30\n",
            "\u001b[1m66/66\u001b[0m \u001b[32m━━━━━━━━━━━━━━━━━━━━\u001b[0m\u001b[37m\u001b[0m \u001b[1m55s\u001b[0m 839ms/step - accuracy: 0.1686 - loss: 1.5351 - perplexity: 4.7024\n",
            "Epoch 10/30\n",
            "\u001b[1m66/66\u001b[0m \u001b[32m━━━━━━━━━━━━━━━━━━━━\u001b[0m\u001b[37m\u001b[0m \u001b[1m54s\u001b[0m 820ms/step - accuracy: 0.1881 - loss: 1.4316 - perplexity: 4.2317\n",
            "Epoch 11/30\n",
            "\u001b[1m66/66\u001b[0m \u001b[32m━━━━━━━━━━━━━━━━━━━━\u001b[0m\u001b[37m\u001b[0m \u001b[1m57s\u001b[0m 870ms/step - accuracy: 0.1934 - loss: 1.3084 - perplexity: 3.7306\n",
            "Epoch 12/30\n",
            "\u001b[1m66/66\u001b[0m \u001b[32m━━━━━━━━━━━━━━━━━━━━\u001b[0m\u001b[37m\u001b[0m \u001b[1m62s\u001b[0m 935ms/step - accuracy: 0.2104 - loss: 1.1802 - perplexity: 3.2810\n",
            "Epoch 13/30\n",
            "\u001b[1m66/66\u001b[0m \u001b[32m━━━━━━━━━━━━━━━━━━━━\u001b[0m\u001b[37m\u001b[0m \u001b[1m58s\u001b[0m 870ms/step - accuracy: 0.2260 - loss: 1.0752 - perplexity: 2.9441\n",
            "Epoch 14/30\n",
            "\u001b[1m66/66\u001b[0m \u001b[32m━━━━━━━━━━━━━━━━━━━━\u001b[0m\u001b[37m\u001b[0m \u001b[1m54s\u001b[0m 822ms/step - accuracy: 0.2467 - loss: 0.9673 - perplexity: 2.6466\n",
            "Epoch 15/30\n",
            "\u001b[1m66/66\u001b[0m \u001b[32m━━━━━━━━━━━━━━━━━━━━\u001b[0m\u001b[37m\u001b[0m \u001b[1m56s\u001b[0m 848ms/step - accuracy: 0.2647 - loss: 0.8601 - perplexity: 2.3742\n",
            "Epoch 16/30\n",
            "\u001b[1m66/66\u001b[0m \u001b[32m━━━━━━━━━━━━━━━━━━━━\u001b[0m\u001b[37m\u001b[0m \u001b[1m60s\u001b[0m 918ms/step - accuracy: 0.2869 - loss: 0.7517 - perplexity: 2.1283\n",
            "Epoch 17/30\n",
            "\u001b[1m66/66\u001b[0m \u001b[32m━━━━━━━━━━━━━━━━━━━━\u001b[0m\u001b[37m\u001b[0m \u001b[1m58s\u001b[0m 881ms/step - accuracy: 0.3069 - loss: 0.6280 - perplexity: 1.8780\n",
            "Epoch 18/30\n",
            "\u001b[1m66/66\u001b[0m \u001b[32m━━━━━━━━━━━━━━━━━━━━\u001b[0m\u001b[37m\u001b[0m \u001b[1m53s\u001b[0m 809ms/step - accuracy: 0.3293 - loss: 0.5325 - perplexity: 1.7072\n",
            "Epoch 19/30\n",
            "\u001b[1m66/66\u001b[0m \u001b[32m━━━━━━━━━━━━━━━━━━━━\u001b[0m\u001b[37m\u001b[0m \u001b[1m55s\u001b[0m 831ms/step - accuracy: 0.3470 - loss: 0.4381 - perplexity: 1.5522\n",
            "Epoch 20/30\n",
            "\u001b[1m66/66\u001b[0m \u001b[32m━━━━━━━━━━━━━━━━━━━━\u001b[0m\u001b[37m\u001b[0m \u001b[1m61s\u001b[0m 931ms/step - accuracy: 0.3723 - loss: 0.3786 - perplexity: 1.4616\n",
            "Epoch 21/30\n",
            "\u001b[1m66/66\u001b[0m \u001b[32m━━━━━━━━━━━━━━━━━━━━\u001b[0m\u001b[37m\u001b[0m \u001b[1m59s\u001b[0m 885ms/step - accuracy: 0.3869 - loss: 0.3053 - perplexity: 1.3584\n",
            "Epoch 22/30\n",
            "\u001b[1m66/66\u001b[0m \u001b[32m━━━━━━━━━━━━━━━━━━━━\u001b[0m\u001b[37m\u001b[0m \u001b[1m54s\u001b[0m 825ms/step - accuracy: 0.4080 - loss: 0.2687 - perplexity: 1.3089\n",
            "Epoch 23/30\n",
            "\u001b[1m66/66\u001b[0m \u001b[32m━━━━━━━━━━━━━━━━━━━━\u001b[0m\u001b[37m\u001b[0m \u001b[1m54s\u001b[0m 814ms/step - accuracy: 0.4043 - loss: 0.2266 - perplexity: 1.2553\n",
            "Epoch 24/30\n",
            "\u001b[1m66/66\u001b[0m \u001b[32m━━━━━━━━━━━━━━━━━━━━\u001b[0m\u001b[37m\u001b[0m \u001b[1m62s\u001b[0m 943ms/step - accuracy: 0.4057 - loss: 0.2095 - perplexity: 1.2337\n",
            "Epoch 25/30\n",
            "\u001b[1m66/66\u001b[0m \u001b[32m━━━━━━━━━━━━━━━━━━━━\u001b[0m\u001b[37m\u001b[0m \u001b[1m61s\u001b[0m 930ms/step - accuracy: 0.4046 - loss: 0.1909 - perplexity: 1.2110\n",
            "Epoch 26/30\n",
            "\u001b[1m66/66\u001b[0m \u001b[32m━━━━━━━━━━━━━━━━━━━━\u001b[0m\u001b[37m\u001b[0m \u001b[1m53s\u001b[0m 797ms/step - accuracy: 0.4175 - loss: 0.1900 - perplexity: 1.2097\n",
            "Epoch 27/30\n",
            "\u001b[1m66/66\u001b[0m \u001b[32m━━━━━━━━━━━━━━━━━━━━\u001b[0m\u001b[37m\u001b[0m \u001b[1m56s\u001b[0m 844ms/step - accuracy: 0.4036 - loss: 0.1788 - perplexity: 1.1965\n",
            "Epoch 28/30\n",
            "\u001b[1m66/66\u001b[0m \u001b[32m━━━━━━━━━━━━━━━━━━━━\u001b[0m\u001b[37m\u001b[0m \u001b[1m60s\u001b[0m 908ms/step - accuracy: 0.4128 - loss: 0.1676 - perplexity: 1.1832\n",
            "Epoch 29/30\n",
            "\u001b[1m66/66\u001b[0m \u001b[32m━━━━━━━━━━━━━━━━━━━━\u001b[0m\u001b[37m\u001b[0m \u001b[1m62s\u001b[0m 940ms/step - accuracy: 0.4222 - loss: 0.1687 - perplexity: 1.1845\n",
            "Epoch 30/30\n",
            "\u001b[1m66/66\u001b[0m \u001b[32m━━━━━━━━━━━━━━━━━━━━\u001b[0m\u001b[37m\u001b[0m \u001b[1m54s\u001b[0m 822ms/step - accuracy: 0.4235 - loss: 0.1697 - perplexity: 1.1855\n"
          ]
        }
      ]
    },
    {
      "cell_type": "code",
      "source": [
        "model_U640.save_weights('D:/skripsi-sultin/data/bot_v4_Final_U640_E50.weights.h5')"
      ],
      "metadata": {
        "id": "9n5QIhyzkJ3P"
      },
      "execution_count": null,
      "outputs": []
    },
    {
      "cell_type": "markdown",
      "source": [
        "# Eskperimen Dropout"
      ],
      "metadata": {
        "id": "nENFnZ-SENjL"
      }
    },
    {
      "cell_type": "markdown",
      "source": [
        "D0.15"
      ],
      "metadata": {
        "id": "bAbcAyNbEb5M"
      }
    },
    {
      "cell_type": "code",
      "source": [
        "#Dropout Tuning Hypereparameters\n",
        "NUM_LAYERS = 2\n",
        "D_MODEL = 256\n",
        "NUM_HEADS = 8\n",
        "UNITS = 512\n",
        "DROPOUT = 0.15\n",
        "\n",
        "model_D015 = transformer(\n",
        "    vocab_size=VOCAB_SIZE,\n",
        "    num_layers=NUM_LAYERS,\n",
        "    units=UNITS,\n",
        "    d_model=D_MODEL,\n",
        "    num_heads=NUM_HEADS,\n",
        "    dropout=DROPOUT)"
      ],
      "metadata": {
        "id": "GKJxQNawEUwx"
      },
      "execution_count": null,
      "outputs": []
    },
    {
      "cell_type": "code",
      "source": [
        "learning_rate = CustomSchedule(D_MODEL)\n",
        "\n",
        "optimizer = tf.keras.optimizers.Adam(\n",
        "    learning_rate, beta_1=0.9, beta_2=0.98, epsilon=1e-9)\n",
        "\n",
        "\n",
        "model_D015.compile(\n",
        "    optimizer=optimizer,\n",
        "    loss=loss_function,\n",
        "    metrics=[accuracy, perplexity],\n",
        "    run_eagerly=True  # Set to True for debugging if needed\n",
        ")"
      ],
      "metadata": {
        "id": "FPNODFfGEkzP"
      },
      "execution_count": null,
      "outputs": []
    },
    {
      "cell_type": "code",
      "source": [
        "EPOCHS = 30\n",
        "\n",
        "history = model_D015.fit(dataset, epochs=EPOCHS)"
      ],
      "metadata": {
        "id": "ct27PO86EoKv",
        "colab": {
          "base_uri": "https://localhost:8080/"
        },
        "outputId": "62b6afa1-cc75-4fcd-c115-bac86add2eb8"
      },
      "execution_count": null,
      "outputs": [
        {
          "output_type": "stream",
          "name": "stdout",
          "text": [
            "Epoch 1/30\n",
            "\u001b[1m66/66\u001b[0m \u001b[32m━━━━━━━━━━━━━━━━━━━━\u001b[0m\u001b[37m\u001b[0m \u001b[1m54s\u001b[0m 813ms/step - accuracy: 0.0041 - loss: 3.6691 - perplexity: 41.3126\n",
            "Epoch 2/30\n",
            "\u001b[1m66/66\u001b[0m \u001b[32m━━━━━━━━━━━━━━━━━━━━\u001b[0m\u001b[37m\u001b[0m \u001b[1m58s\u001b[0m 876ms/step - accuracy: 0.0186 - loss: 3.2511 - perplexity: 26.9990\n",
            "Epoch 3/30\n",
            "\u001b[1m66/66\u001b[0m \u001b[32m━━━━━━━━━━━━━━━━━━━━\u001b[0m\u001b[37m\u001b[0m \u001b[1m62s\u001b[0m 937ms/step - accuracy: 0.0227 - loss: 2.8208 - perplexity: 17.5076\n",
            "Epoch 4/30\n",
            "\u001b[1m66/66\u001b[0m \u001b[32m━━━━━━━━━━━━━━━━━━━━\u001b[0m\u001b[37m\u001b[0m \u001b[1m56s\u001b[0m 843ms/step - accuracy: 0.0526 - loss: 2.6161 - perplexity: 14.0282\n",
            "Epoch 5/30\n",
            "\u001b[1m66/66\u001b[0m \u001b[32m━━━━━━━━━━━━━━━━━━━━\u001b[0m\u001b[37m\u001b[0m \u001b[1m55s\u001b[0m 828ms/step - accuracy: 0.0900 - loss: 2.3219 - perplexity: 10.4141\n",
            "Epoch 6/30\n",
            "\u001b[1m66/66\u001b[0m \u001b[32m━━━━━━━━━━━━━━━━━━━━\u001b[0m\u001b[37m\u001b[0m \u001b[1m57s\u001b[0m 866ms/step - accuracy: 0.1206 - loss: 2.0937 - perplexity: 8.2107\n",
            "Epoch 7/30\n",
            "\u001b[1m66/66\u001b[0m \u001b[32m━━━━━━━━━━━━━━━━━━━━\u001b[0m\u001b[37m\u001b[0m \u001b[1m62s\u001b[0m 943ms/step - accuracy: 0.1361 - loss: 1.8880 - perplexity: 6.7541\n",
            "Epoch 8/30\n",
            "\u001b[1m66/66\u001b[0m \u001b[32m━━━━━━━━━━━━━━━━━━━━\u001b[0m\u001b[37m\u001b[0m \u001b[1m57s\u001b[0m 867ms/step - accuracy: 0.1473 - loss: 1.7481 - perplexity: 5.8205\n",
            "Epoch 9/30\n",
            "\u001b[1m66/66\u001b[0m \u001b[32m━━━━━━━━━━━━━━━━━━━━\u001b[0m\u001b[37m\u001b[0m \u001b[1m53s\u001b[0m 800ms/step - accuracy: 0.1596 - loss: 1.5981 - perplexity: 5.0077\n",
            "Epoch 10/30\n",
            "\u001b[1m66/66\u001b[0m \u001b[32m━━━━━━━━━━━━━━━━━━━━\u001b[0m\u001b[37m\u001b[0m \u001b[1m57s\u001b[0m 859ms/step - accuracy: 0.1735 - loss: 1.5179 - perplexity: 4.6002\n",
            "Epoch 11/30\n",
            "\u001b[1m66/66\u001b[0m \u001b[32m━━━━━━━━━━━━━━━━━━━━\u001b[0m\u001b[37m\u001b[0m \u001b[1m64s\u001b[0m 974ms/step - accuracy: 0.1784 - loss: 1.3739 - perplexity: 3.9882\n",
            "Epoch 12/30\n",
            "\u001b[1m66/66\u001b[0m \u001b[32m━━━━━━━━━━━━━━━━━━━━\u001b[0m\u001b[37m\u001b[0m \u001b[1m58s\u001b[0m 879ms/step - accuracy: 0.1950 - loss: 1.3090 - perplexity: 3.7235\n",
            "Epoch 13/30\n",
            "\u001b[1m66/66\u001b[0m \u001b[32m━━━━━━━━━━━━━━━━━━━━\u001b[0m\u001b[37m\u001b[0m \u001b[1m54s\u001b[0m 822ms/step - accuracy: 0.2051 - loss: 1.2052 - perplexity: 3.3568\n",
            "Epoch 14/30\n",
            "\u001b[1m66/66\u001b[0m \u001b[32m━━━━━━━━━━━━━━━━━━━━\u001b[0m\u001b[37m\u001b[0m \u001b[1m56s\u001b[0m 842ms/step - accuracy: 0.2153 - loss: 1.1049 - perplexity: 3.0370\n",
            "Epoch 15/30\n",
            "\u001b[1m66/66\u001b[0m \u001b[32m━━━━━━━━━━━━━━━━━━━━\u001b[0m\u001b[37m\u001b[0m \u001b[1m62s\u001b[0m 944ms/step - accuracy: 0.2287 - loss: 1.0080 - perplexity: 2.7525\n",
            "Epoch 16/30\n",
            "\u001b[1m66/66\u001b[0m \u001b[32m━━━━━━━━━━━━━━━━━━━━\u001b[0m\u001b[37m\u001b[0m \u001b[1m60s\u001b[0m 913ms/step - accuracy: 0.2473 - loss: 0.9130 - perplexity: 2.5016\n",
            "Epoch 17/30\n",
            "\u001b[1m66/66\u001b[0m \u001b[32m━━━━━━━━━━━━━━━━━━━━\u001b[0m\u001b[37m\u001b[0m \u001b[1m55s\u001b[0m 835ms/step - accuracy: 0.2699 - loss: 0.8160 - perplexity: 2.2693\n",
            "Epoch 18/30\n",
            "\u001b[1m66/66\u001b[0m \u001b[32m━━━━━━━━━━━━━━━━━━━━\u001b[0m\u001b[37m\u001b[0m \u001b[1m55s\u001b[0m 837ms/step - accuracy: 0.2828 - loss: 0.7087 - perplexity: 2.0401\n",
            "Epoch 19/30\n",
            "\u001b[1m66/66\u001b[0m \u001b[32m━━━━━━━━━━━━━━━━━━━━\u001b[0m\u001b[37m\u001b[0m \u001b[1m63s\u001b[0m 960ms/step - accuracy: 0.3083 - loss: 0.6203 - perplexity: 1.8634\n",
            "Epoch 20/30\n",
            "\u001b[1m66/66\u001b[0m \u001b[32m━━━━━━━━━━━━━━━━━━━━\u001b[0m\u001b[37m\u001b[0m \u001b[1m60s\u001b[0m 919ms/step - accuracy: 0.3276 - loss: 0.5395 - perplexity: 1.7195\n",
            "Epoch 21/30\n",
            "\u001b[1m66/66\u001b[0m \u001b[32m━━━━━━━━━━━━━━━━━━━━\u001b[0m\u001b[37m\u001b[0m \u001b[1m52s\u001b[0m 792ms/step - accuracy: 0.3515 - loss: 0.4570 - perplexity: 1.5820\n",
            "Epoch 22/30\n",
            "\u001b[1m66/66\u001b[0m \u001b[32m━━━━━━━━━━━━━━━━━━━━\u001b[0m\u001b[37m\u001b[0m \u001b[1m55s\u001b[0m 833ms/step - accuracy: 0.3615 - loss: 0.3832 - perplexity: 1.4691\n",
            "Epoch 23/30\n",
            "\u001b[1m66/66\u001b[0m \u001b[32m━━━━━━━━━━━━━━━━━━━━\u001b[0m\u001b[37m\u001b[0m \u001b[1m61s\u001b[0m 924ms/step - accuracy: 0.3790 - loss: 0.3351 - perplexity: 1.3999\n",
            "Epoch 24/30\n",
            "\u001b[1m66/66\u001b[0m \u001b[32m━━━━━━━━━━━━━━━━━━━━\u001b[0m\u001b[37m\u001b[0m \u001b[1m62s\u001b[0m 932ms/step - accuracy: 0.3842 - loss: 0.2954 - perplexity: 1.3447\n",
            "Epoch 25/30\n",
            "\u001b[1m66/66\u001b[0m \u001b[32m━━━━━━━━━━━━━━━━━━━━\u001b[0m\u001b[37m\u001b[0m \u001b[1m53s\u001b[0m 800ms/step - accuracy: 0.3909 - loss: 0.2590 - perplexity: 1.2966\n",
            "Epoch 26/30\n",
            "\u001b[1m66/66\u001b[0m \u001b[32m━━━━━━━━━━━━━━━━━━━━\u001b[0m\u001b[37m\u001b[0m \u001b[1m56s\u001b[0m 853ms/step - accuracy: 0.3965 - loss: 0.2369 - perplexity: 1.2681\n",
            "Epoch 27/30\n",
            "\u001b[1m66/66\u001b[0m \u001b[32m━━━━━━━━━━━━━━━━━━━━\u001b[0m\u001b[37m\u001b[0m \u001b[1m60s\u001b[0m 905ms/step - accuracy: 0.4026 - loss: 0.2207 - perplexity: 1.2478\n",
            "Epoch 28/30\n",
            "\u001b[1m66/66\u001b[0m \u001b[32m━━━━━━━━━━━━━━━━━━━━\u001b[0m\u001b[37m\u001b[0m \u001b[1m61s\u001b[0m 930ms/step - accuracy: 0.4161 - loss: 0.2155 - perplexity: 1.2414\n",
            "Epoch 29/30\n",
            "\u001b[1m66/66\u001b[0m \u001b[32m━━━━━━━━━━━━━━━━━━━━\u001b[0m\u001b[37m\u001b[0m \u001b[1m56s\u001b[0m 836ms/step - accuracy: 0.4152 - loss: 0.2107 - perplexity: 1.2352\n",
            "Epoch 30/30\n",
            "\u001b[1m66/66\u001b[0m \u001b[32m━━━━━━━━━━━━━━━━━━━━\u001b[0m\u001b[37m\u001b[0m \u001b[1m53s\u001b[0m 808ms/step - accuracy: 0.4121 - loss: 0.1982 - perplexity: 1.2202\n"
          ]
        }
      ]
    },
    {
      "cell_type": "code",
      "source": [
        "model_D015.save_weights('D:/skripsi-sultin/data/bot_v4_Final_D015_E50.weights.h5')"
      ],
      "metadata": {
        "id": "b5HH04Rpkbzq"
      },
      "execution_count": null,
      "outputs": []
    },
    {
      "cell_type": "markdown",
      "source": [
        "D02"
      ],
      "metadata": {
        "id": "qZ6Xfn65EsLo"
      }
    },
    {
      "cell_type": "code",
      "source": [
        "#Dropout Tuning Hypereparameters\n",
        "NUM_LAYERS = 2\n",
        "D_MODEL = 256\n",
        "NUM_HEADS = 8\n",
        "UNITS = 512\n",
        "DROPOUT = 0.2\n",
        "\n",
        "model_D02 = transformer(\n",
        "    vocab_size=VOCAB_SIZE,\n",
        "    num_layers=NUM_LAYERS,\n",
        "    units=UNITS,\n",
        "    d_model=D_MODEL,\n",
        "    num_heads=NUM_HEADS,\n",
        "    dropout=DROPOUT)"
      ],
      "metadata": {
        "id": "g6zoEEOEEvIU"
      },
      "execution_count": null,
      "outputs": []
    },
    {
      "cell_type": "code",
      "source": [
        "learning_rate = CustomSchedule(D_MODEL)\n",
        "\n",
        "optimizer = tf.keras.optimizers.Adam(\n",
        "    learning_rate, beta_1=0.9, beta_2=0.98, epsilon=1e-9)\n",
        "\n",
        "\n",
        "model_D02.compile(\n",
        "    optimizer=optimizer,\n",
        "    loss=loss_function,\n",
        "    metrics=[accuracy, perplexity],\n",
        "    run_eagerly=True  # Set to True for debugging if needed\n",
        ")"
      ],
      "metadata": {
        "id": "e74zTQ7aEyTs"
      },
      "execution_count": null,
      "outputs": []
    },
    {
      "cell_type": "code",
      "source": [
        "EPOCHS = 30\n",
        "\n",
        "history = model_D02.fit(dataset, epochs=EPOCHS)"
      ],
      "metadata": {
        "id": "gv-LODwrE0g_",
        "colab": {
          "base_uri": "https://localhost:8080/"
        },
        "outputId": "32369e48-9578-4a19-e132-30d9f7454d82"
      },
      "execution_count": null,
      "outputs": [
        {
          "output_type": "stream",
          "name": "stdout",
          "text": [
            "Epoch 1/30\n",
            "\u001b[1m66/66\u001b[0m \u001b[32m━━━━━━━━━━━━━━━━━━━━\u001b[0m\u001b[37m\u001b[0m \u001b[1m57s\u001b[0m 866ms/step - accuracy: 0.0042 - loss: 3.5791 - perplexity: 37.7725\n",
            "Epoch 2/30\n",
            "\u001b[1m66/66\u001b[0m \u001b[32m━━━━━━━━━━━━━━━━━━━━\u001b[0m\u001b[37m\u001b[0m \u001b[1m62s\u001b[0m 935ms/step - accuracy: 0.0214 - loss: 3.2362 - perplexity: 26.5446\n",
            "Epoch 3/30\n",
            "\u001b[1m66/66\u001b[0m \u001b[32m━━━━━━━━━━━━━━━━━━━━\u001b[0m\u001b[37m\u001b[0m \u001b[1m57s\u001b[0m 871ms/step - accuracy: 0.0248 - loss: 2.8622 - perplexity: 18.2007\n",
            "Epoch 4/30\n",
            "\u001b[1m66/66\u001b[0m \u001b[32m━━━━━━━━━━━━━━━━━━━━\u001b[0m\u001b[37m\u001b[0m \u001b[1m54s\u001b[0m 816ms/step - accuracy: 0.0482 - loss: 2.6676 - perplexity: 14.8292\n",
            "Epoch 5/30\n",
            "\u001b[1m66/66\u001b[0m \u001b[32m━━━━━━━━━━━━━━━━━━━━\u001b[0m\u001b[37m\u001b[0m \u001b[1m57s\u001b[0m 863ms/step - accuracy: 0.0810 - loss: 2.4365 - perplexity: 11.7630\n",
            "Epoch 6/30\n",
            "\u001b[1m66/66\u001b[0m \u001b[32m━━━━━━━━━━━━━━━━━━━━\u001b[0m\u001b[37m\u001b[0m \u001b[1m62s\u001b[0m 933ms/step - accuracy: 0.1086 - loss: 2.1481 - perplexity: 8.7617\n",
            "Epoch 7/30\n",
            "\u001b[1m66/66\u001b[0m \u001b[32m━━━━━━━━━━━━━━━━━━━━\u001b[0m\u001b[37m\u001b[0m \u001b[1m58s\u001b[0m 883ms/step - accuracy: 0.1301 - loss: 2.0072 - perplexity: 7.5339\n",
            "Epoch 8/30\n",
            "\u001b[1m66/66\u001b[0m \u001b[32m━━━━━━━━━━━━━━━━━━━━\u001b[0m\u001b[37m\u001b[0m \u001b[1m53s\u001b[0m 796ms/step - accuracy: 0.1450 - loss: 1.8168 - perplexity: 6.2527\n",
            "Epoch 9/30\n",
            "\u001b[1m66/66\u001b[0m \u001b[32m━━━━━━━━━━━━━━━━━━━━\u001b[0m\u001b[37m\u001b[0m \u001b[1m54s\u001b[0m 814ms/step - accuracy: 0.1543 - loss: 1.6604 - perplexity: 5.3194\n",
            "Epoch 10/30\n",
            "\u001b[1m66/66\u001b[0m \u001b[32m━━━━━━━━━━━━━━━━━━━━\u001b[0m\u001b[37m\u001b[0m \u001b[1m62s\u001b[0m 947ms/step - accuracy: 0.1650 - loss: 1.5270 - perplexity: 4.6488\n",
            "Epoch 11/30\n",
            "\u001b[1m66/66\u001b[0m \u001b[32m━━━━━━━━━━━━━━━━━━━━\u001b[0m\u001b[37m\u001b[0m \u001b[1m60s\u001b[0m 905ms/step - accuracy: 0.1750 - loss: 1.4762 - perplexity: 4.4248\n",
            "Epoch 12/30\n",
            "\u001b[1m66/66\u001b[0m \u001b[32m━━━━━━━━━━━━━━━━━━━━\u001b[0m\u001b[37m\u001b[0m \u001b[1m52s\u001b[0m 789ms/step - accuracy: 0.1844 - loss: 1.4019 - perplexity: 4.1171\n",
            "Epoch 13/30\n",
            "\u001b[1m66/66\u001b[0m \u001b[32m━━━━━━━━━━━━━━━━━━━━\u001b[0m\u001b[37m\u001b[0m \u001b[1m56s\u001b[0m 842ms/step - accuracy: 0.1946 - loss: 1.3154 - perplexity: 3.7504\n",
            "Epoch 14/30\n",
            "\u001b[1m66/66\u001b[0m \u001b[32m━━━━━━━━━━━━━━━━━━━━\u001b[0m\u001b[37m\u001b[0m \u001b[1m62s\u001b[0m 943ms/step - accuracy: 0.2029 - loss: 1.2112 - perplexity: 3.3742\n",
            "Epoch 15/30\n",
            "\u001b[1m66/66\u001b[0m \u001b[32m━━━━━━━━━━━━━━━━━━━━\u001b[0m\u001b[37m\u001b[0m \u001b[1m61s\u001b[0m 929ms/step - accuracy: 0.2115 - loss: 1.1107 - perplexity: 3.0514\n",
            "Epoch 16/30\n",
            "\u001b[1m66/66\u001b[0m \u001b[32m━━━━━━━━━━━━━━━━━━━━\u001b[0m\u001b[37m\u001b[0m \u001b[1m53s\u001b[0m 802ms/step - accuracy: 0.2178 - loss: 1.0228 - perplexity: 2.8054\n",
            "Epoch 17/30\n",
            "\u001b[1m66/66\u001b[0m \u001b[32m━━━━━━━━━━━━━━━━━━━━\u001b[0m\u001b[37m\u001b[0m \u001b[1m54s\u001b[0m 815ms/step - accuracy: 0.2370 - loss: 0.9436 - perplexity: 2.5801\n",
            "Epoch 18/30\n",
            "\u001b[1m66/66\u001b[0m \u001b[32m━━━━━━━━━━━━━━━━━━━━\u001b[0m\u001b[37m\u001b[0m \u001b[1m61s\u001b[0m 919ms/step - accuracy: 0.2542 - loss: 0.8643 - perplexity: 2.3815\n",
            "Epoch 19/30\n",
            "\u001b[1m66/66\u001b[0m \u001b[32m━━━━━━━━━━━━━━━━━━━━\u001b[0m\u001b[37m\u001b[0m \u001b[1m61s\u001b[0m 916ms/step - accuracy: 0.2699 - loss: 0.7881 - perplexity: 2.2045\n",
            "Epoch 20/30\n",
            "\u001b[1m66/66\u001b[0m \u001b[32m━━━━━━━━━━━━━━━━━━━━\u001b[0m\u001b[37m\u001b[0m \u001b[1m54s\u001b[0m 817ms/step - accuracy: 0.2910 - loss: 0.6994 - perplexity: 2.0177\n",
            "Epoch 21/30\n",
            "\u001b[1m66/66\u001b[0m \u001b[32m━━━━━━━━━━━━━━━━━━━━\u001b[0m\u001b[37m\u001b[0m \u001b[1m54s\u001b[0m 823ms/step - accuracy: 0.3070 - loss: 0.6148 - perplexity: 1.8544\n",
            "Epoch 22/30\n",
            "\u001b[1m66/66\u001b[0m \u001b[32m━━━━━━━━━━━━━━━━━━━━\u001b[0m\u001b[37m\u001b[0m \u001b[1m57s\u001b[0m 858ms/step - accuracy: 0.3222 - loss: 0.5522 - perplexity: 1.7416\n",
            "Epoch 23/30\n",
            "\u001b[1m66/66\u001b[0m \u001b[32m━━━━━━━━━━━━━━━━━━━━\u001b[0m\u001b[37m\u001b[0m \u001b[1m60s\u001b[0m 913ms/step - accuracy: 0.3344 - loss: 0.4816 - perplexity: 1.6213\n",
            "Epoch 24/30\n",
            "\u001b[1m66/66\u001b[0m \u001b[32m━━━━━━━━━━━━━━━━━━━━\u001b[0m\u001b[37m\u001b[0m \u001b[1m56s\u001b[0m 854ms/step - accuracy: 0.3502 - loss: 0.4121 - perplexity: 1.5125\n",
            "Epoch 25/30\n",
            "\u001b[1m66/66\u001b[0m \u001b[32m━━━━━━━━━━━━━━━━━━━━\u001b[0m\u001b[37m\u001b[0m \u001b[1m54s\u001b[0m 812ms/step - accuracy: 0.3683 - loss: 0.3786 - perplexity: 1.4616\n",
            "Epoch 26/30\n",
            "\u001b[1m66/66\u001b[0m \u001b[32m━━━━━━━━━━━━━━━━━━━━\u001b[0m\u001b[37m\u001b[0m \u001b[1m57s\u001b[0m 861ms/step - accuracy: 0.3853 - loss: 0.3457 - perplexity: 1.4146\n",
            "Epoch 27/30\n",
            "\u001b[1m66/66\u001b[0m \u001b[32m━━━━━━━━━━━━━━━━━━━━\u001b[0m\u001b[37m\u001b[0m \u001b[1m62s\u001b[0m 944ms/step - accuracy: 0.3824 - loss: 0.3033 - perplexity: 1.3557\n",
            "Epoch 28/30\n",
            "\u001b[1m66/66\u001b[0m \u001b[32m━━━━━━━━━━━━━━━━━━━━\u001b[0m\u001b[37m\u001b[0m \u001b[1m58s\u001b[0m 884ms/step - accuracy: 0.3762 - loss: 0.2683 - perplexity: 1.3094\n",
            "Epoch 29/30\n",
            "\u001b[1m66/66\u001b[0m \u001b[32m━━━━━━━━━━━━━━━━━━━━\u001b[0m\u001b[37m\u001b[0m \u001b[1m53s\u001b[0m 809ms/step - accuracy: 0.3875 - loss: 0.2688 - perplexity: 1.3094\n",
            "Epoch 30/30\n",
            "\u001b[1m66/66\u001b[0m \u001b[32m━━━━━━━━━━━━━━━━━━━━\u001b[0m\u001b[37m\u001b[0m \u001b[1m56s\u001b[0m 846ms/step - accuracy: 0.3958 - loss: 0.2470 - perplexity: 1.2812\n"
          ]
        }
      ]
    },
    {
      "cell_type": "code",
      "source": [
        "model_D02.save_weights('D:/skripsi-sultin/data/bot_v4_Final_D02_E50.weights.h5')"
      ],
      "metadata": {
        "id": "dOW9QP_nkijS"
      },
      "execution_count": null,
      "outputs": []
    },
    {
      "cell_type": "markdown",
      "source": [
        "D025"
      ],
      "metadata": {
        "id": "b1cfv1gcE2rh"
      }
    },
    {
      "cell_type": "code",
      "source": [
        "#Dropout Tuning Hypereparameters\n",
        "NUM_LAYERS = 2\n",
        "D_MODEL = 256\n",
        "NUM_HEADS = 8\n",
        "UNITS = 512\n",
        "DROPOUT = 0.25\n",
        "\n",
        "model_D025 = transformer(\n",
        "    vocab_size=VOCAB_SIZE,\n",
        "    num_layers=NUM_LAYERS,\n",
        "    units=UNITS,\n",
        "    d_model=D_MODEL,\n",
        "    num_heads=NUM_HEADS,\n",
        "    dropout=DROPOUT)"
      ],
      "metadata": {
        "id": "5WTdd6yGE4_W"
      },
      "execution_count": null,
      "outputs": []
    },
    {
      "cell_type": "code",
      "source": [
        "learning_rate = CustomSchedule(D_MODEL)\n",
        "\n",
        "optimizer = tf.keras.optimizers.Adam(\n",
        "    learning_rate, beta_1=0.9, beta_2=0.98, epsilon=1e-9)\n",
        "\n",
        "\n",
        "model_D025.compile(\n",
        "    optimizer=optimizer,\n",
        "    loss=loss_function,\n",
        "    metrics=[accuracy, perplexity],\n",
        "    run_eagerly=True  # Set to True for debugging if needed\n",
        ")"
      ],
      "metadata": {
        "id": "QmGheQTaE8wz"
      },
      "execution_count": null,
      "outputs": []
    },
    {
      "cell_type": "code",
      "source": [
        "EPOCHS = 30\n",
        "\n",
        "history = model_D025.fit(dataset, epochs=EPOCHS)"
      ],
      "metadata": {
        "id": "9WFg0UI7E_Fw",
        "colab": {
          "base_uri": "https://localhost:8080/"
        },
        "outputId": "7124b839-30c0-480f-b39a-356d6a0563a5"
      },
      "execution_count": null,
      "outputs": [
        {
          "output_type": "stream",
          "name": "stdout",
          "text": [
            "Epoch 1/30\n",
            "\u001b[1m66/66\u001b[0m \u001b[32m━━━━━━━━━━━━━━━━━━━━\u001b[0m\u001b[37m\u001b[0m \u001b[1m61s\u001b[0m 914ms/step - accuracy: 0.0046 - loss: 3.6521 - perplexity: 40.9787\n",
            "Epoch 2/30\n",
            "\u001b[1m66/66\u001b[0m \u001b[32m━━━━━━━━━━━━━━━━━━━━\u001b[0m\u001b[37m\u001b[0m \u001b[1m60s\u001b[0m 897ms/step - accuracy: 0.0214 - loss: 3.2513 - perplexity: 27.1681\n",
            "Epoch 3/30\n",
            "\u001b[1m66/66\u001b[0m \u001b[32m━━━━━━━━━━━━━━━━━━━━\u001b[0m\u001b[37m\u001b[0m \u001b[1m53s\u001b[0m 796ms/step - accuracy: 0.0216 - loss: 2.8293 - perplexity: 17.5775\n",
            "Epoch 4/30\n",
            "\u001b[1m66/66\u001b[0m \u001b[32m━━━━━━━━━━━━━━━━━━━━\u001b[0m\u001b[37m\u001b[0m \u001b[1m53s\u001b[0m 807ms/step - accuracy: 0.0394 - loss: 2.6772 - perplexity: 14.9959\n",
            "Epoch 5/30\n",
            "\u001b[1m66/66\u001b[0m \u001b[32m━━━━━━━━━━━━━━━━━━━━\u001b[0m\u001b[37m\u001b[0m \u001b[1m63s\u001b[0m 963ms/step - accuracy: 0.0725 - loss: 2.4646 - perplexity: 11.9556\n",
            "Epoch 6/30\n",
            "\u001b[1m66/66\u001b[0m \u001b[32m━━━━━━━━━━━━━━━━━━━━\u001b[0m\u001b[37m\u001b[0m \u001b[1m62s\u001b[0m 930ms/step - accuracy: 0.1044 - loss: 2.2226 - perplexity: 9.3769\n",
            "Epoch 7/30\n",
            "\u001b[1m66/66\u001b[0m \u001b[32m━━━━━━━━━━━━━━━━━━━━\u001b[0m\u001b[37m\u001b[0m \u001b[1m52s\u001b[0m 795ms/step - accuracy: 0.1184 - loss: 2.0170 - perplexity: 7.6882\n",
            "Epoch 8/30\n",
            "\u001b[1m66/66\u001b[0m \u001b[32m━━━━━━━━━━━━━━━━━━━━\u001b[0m\u001b[37m\u001b[0m \u001b[1m55s\u001b[0m 838ms/step - accuracy: 0.1396 - loss: 1.9090 - perplexity: 6.8399\n",
            "Epoch 9/30\n",
            "\u001b[1m66/66\u001b[0m \u001b[32m━━━━━━━━━━━━━━━━━━━━\u001b[0m\u001b[37m\u001b[0m \u001b[1m61s\u001b[0m 932ms/step - accuracy: 0.1505 - loss: 1.7551 - perplexity: 5.8494\n",
            "Epoch 10/30\n",
            "\u001b[1m66/66\u001b[0m \u001b[32m━━━━━━━━━━━━━━━━━━━━\u001b[0m\u001b[37m\u001b[0m \u001b[1m60s\u001b[0m 916ms/step - accuracy: 0.1579 - loss: 1.6586 - perplexity: 5.3237\n",
            "Epoch 11/30\n",
            "\u001b[1m66/66\u001b[0m \u001b[32m━━━━━━━━━━━━━━━━━━━━\u001b[0m\u001b[37m\u001b[0m \u001b[1m54s\u001b[0m 823ms/step - accuracy: 0.1672 - loss: 1.5287 - perplexity: 4.6419\n",
            "Epoch 12/30\n",
            "\u001b[1m66/66\u001b[0m \u001b[32m━━━━━━━━━━━━━━━━━━━━\u001b[0m\u001b[37m\u001b[0m \u001b[1m55s\u001b[0m 829ms/step - accuracy: 0.1753 - loss: 1.4552 - perplexity: 4.3196\n",
            "Epoch 13/30\n",
            "\u001b[1m66/66\u001b[0m \u001b[32m━━━━━━━━━━━━━━━━━━━━\u001b[0m\u001b[37m\u001b[0m \u001b[1m60s\u001b[0m 915ms/step - accuracy: 0.1835 - loss: 1.3576 - perplexity: 3.9181\n",
            "Epoch 14/30\n",
            "\u001b[1m66/66\u001b[0m \u001b[32m━━━━━━━━━━━━━━━━━━━━\u001b[0m\u001b[37m\u001b[0m \u001b[1m64s\u001b[0m 963ms/step - accuracy: 0.1906 - loss: 1.2853 - perplexity: 3.6426\n",
            "Epoch 15/30\n",
            "\u001b[1m66/66\u001b[0m \u001b[32m━━━━━━━━━━━━━━━━━━━━\u001b[0m\u001b[37m\u001b[0m \u001b[1m55s\u001b[0m 832ms/step - accuracy: 0.1915 - loss: 1.1948 - perplexity: 3.3367\n",
            "Epoch 16/30\n",
            "\u001b[1m66/66\u001b[0m \u001b[32m━━━━━━━━━━━━━━━━━━━━\u001b[0m\u001b[37m\u001b[0m \u001b[1m53s\u001b[0m 802ms/step - accuracy: 0.2129 - loss: 1.1577 - perplexity: 3.2005\n",
            "Epoch 17/30\n",
            "\u001b[1m66/66\u001b[0m \u001b[32m━━━━━━━━━━━━━━━━━━━━\u001b[0m\u001b[37m\u001b[0m \u001b[1m56s\u001b[0m 851ms/step - accuracy: 0.2228 - loss: 1.0505 - perplexity: 2.8723\n",
            "Epoch 18/30\n",
            "\u001b[1m66/66\u001b[0m \u001b[32m━━━━━━━━━━━━━━━━━━━━\u001b[0m\u001b[37m\u001b[0m \u001b[1m60s\u001b[0m 915ms/step - accuracy: 0.2325 - loss: 0.9753 - perplexity: 2.6628\n",
            "Epoch 19/30\n",
            "\u001b[1m66/66\u001b[0m \u001b[32m━━━━━━━━━━━━━━━━━━━━\u001b[0m\u001b[37m\u001b[0m \u001b[1m57s\u001b[0m 861ms/step - accuracy: 0.2421 - loss: 0.8826 - perplexity: 2.4271\n",
            "Epoch 20/30\n",
            "\u001b[1m66/66\u001b[0m \u001b[32m━━━━━━━━━━━━━━━━━━━━\u001b[0m\u001b[37m\u001b[0m \u001b[1m53s\u001b[0m 803ms/step - accuracy: 0.2557 - loss: 0.8194 - perplexity: 2.2788\n",
            "Epoch 21/30\n",
            "\u001b[1m66/66\u001b[0m \u001b[32m━━━━━━━━━━━━━━━━━━━━\u001b[0m\u001b[37m\u001b[0m \u001b[1m58s\u001b[0m 878ms/step - accuracy: 0.2766 - loss: 0.7199 - perplexity: 2.0625\n",
            "Epoch 22/30\n",
            "\u001b[1m66/66\u001b[0m \u001b[32m━━━━━━━━━━━━━━━━━━━━\u001b[0m\u001b[37m\u001b[0m \u001b[1m64s\u001b[0m 970ms/step - accuracy: 0.2905 - loss: 0.6510 - perplexity: 1.9238\n",
            "Epoch 23/30\n",
            "\u001b[1m66/66\u001b[0m \u001b[32m━━━━━━━━━━━━━━━━━━━━\u001b[0m\u001b[37m\u001b[0m \u001b[1m58s\u001b[0m 868ms/step - accuracy: 0.3062 - loss: 0.5992 - perplexity: 1.8264\n",
            "Epoch 24/30\n",
            "\u001b[1m66/66\u001b[0m \u001b[32m━━━━━━━━━━━━━━━━━━━━\u001b[0m\u001b[37m\u001b[0m \u001b[1m53s\u001b[0m 810ms/step - accuracy: 0.3180 - loss: 0.5323 - perplexity: 1.7074\n",
            "Epoch 25/30\n",
            "\u001b[1m66/66\u001b[0m \u001b[32m━━━━━━━━━━━━━━━━━━━━\u001b[0m\u001b[37m\u001b[0m \u001b[1m55s\u001b[0m 834ms/step - accuracy: 0.3351 - loss: 0.4939 - perplexity: 1.6423\n",
            "Epoch 26/30\n",
            "\u001b[1m66/66\u001b[0m \u001b[32m━━━━━━━━━━━━━━━━━━━━\u001b[0m\u001b[37m\u001b[0m \u001b[1m62s\u001b[0m 943ms/step - accuracy: 0.3477 - loss: 0.4282 - perplexity: 1.5369\n",
            "Epoch 27/30\n",
            "\u001b[1m66/66\u001b[0m \u001b[32m━━━━━━━━━━━━━━━━━━━━\u001b[0m\u001b[37m\u001b[0m \u001b[1m58s\u001b[0m 878ms/step - accuracy: 0.3547 - loss: 0.3923 - perplexity: 1.4825\n",
            "Epoch 28/30\n",
            "\u001b[1m66/66\u001b[0m \u001b[32m━━━━━━━━━━━━━━━━━━━━\u001b[0m\u001b[37m\u001b[0m \u001b[1m53s\u001b[0m 802ms/step - accuracy: 0.3645 - loss: 0.3642 - perplexity: 1.4415\n",
            "Epoch 29/30\n",
            "\u001b[1m66/66\u001b[0m \u001b[32m━━━━━━━━━━━━━━━━━━━━\u001b[0m\u001b[37m\u001b[0m \u001b[1m54s\u001b[0m 818ms/step - accuracy: 0.3712 - loss: 0.3294 - perplexity: 1.3919\n",
            "Epoch 30/30\n",
            "\u001b[1m66/66\u001b[0m \u001b[32m━━━━━━━━━━━━━━━━━━━━\u001b[0m\u001b[37m\u001b[0m \u001b[1m60s\u001b[0m 913ms/step - accuracy: 0.3777 - loss: 0.3194 - perplexity: 1.3774\n"
          ]
        }
      ]
    },
    {
      "cell_type": "code",
      "source": [
        "model_D025.save_weights('D:/skripsi-sultin/data/bot_v4_Final_NH16_D025.weights.h5')"
      ],
      "metadata": {
        "id": "3qParZmwkp8u"
      },
      "execution_count": null,
      "outputs": []
    },
    {
      "cell_type": "code",
      "source": [
        "!pip install language-tool-python"
      ],
      "metadata": {
        "id": "jY1sJ_qxW6mq"
      },
      "execution_count": null,
      "outputs": []
    },
    {
      "cell_type": "code",
      "source": [
        "def evaluate_with_model(model, sentence):\n",
        "    sentence = preprocess_sentence(sentence)\n",
        "\n",
        "    sentence = tf.expand_dims(START_TOKEN + tokenizer.encode(sentence) + END_TOKEN, axis=0)\n",
        "    output = tf.expand_dims(START_TOKEN, 0)\n",
        "\n",
        "    for i in range(MAX_SENTENCE_LENGTH):\n",
        "        predictions = model({'inputs': sentence, 'dec_inputs': output}, training=False)\n",
        "        predictions = predictions[:, -1:, :]\n",
        "        predicted_id = tf.cast(tf.argmax(predictions, axis=-1), tf.int32)\n",
        "\n",
        "        if tf.equal(predicted_id, END_TOKEN[0]):\n",
        "            break\n",
        "\n",
        "        output = tf.concat([output, predicted_id], axis=-1)\n",
        "\n",
        "    return tf.squeeze(output, axis=0)\n",
        "\n",
        "def predict_with_model(model, sentence):\n",
        "    prediction = evaluate_with_model(model, sentence)\n",
        "\n",
        "    predicted_sentence = tokenizer.decode(\n",
        "        [i for i in prediction if i < tokenizer.vocab_size]\n",
        "    )\n",
        "\n",
        "    print('Input: {}'.format(sentence))\n",
        "    print('Output: {}'.format(predicted_sentence))\n",
        "\n",
        "    return predicted_sentence\n"
      ],
      "metadata": {
        "id": "iU28ZCmlRnmi"
      },
      "execution_count": null,
      "outputs": []
    },
    {
      "cell_type": "code",
      "source": [
        "epochs = list(range(1,EPOCHS+1))\n",
        "plt.plot(epochs, history.history['loss'], label='loss')\n",
        "plt.xticks(epochs)\n",
        "plt.ylabel('Loss Value')\n",
        "plt.xlabel('Epoch')\n",
        "plt.title('Chatbot Loss U384')\n",
        "plt.show()"
      ],
      "metadata": {
        "id": "fIzPAq0YRp2m",
        "colab": {
          "base_uri": "https://localhost:8080/",
          "height": 472
        },
        "outputId": "9ee75326-9291-4222-c2e4-8db992ccff16"
      },
      "execution_count": null,
      "outputs": [
        {
          "output_type": "display_data",
          "data": {
            "text/plain": [
              "<Figure size 640x480 with 1 Axes>"
            ],
            "image/png": "[encoded data removed]"
          },
          "metadata": {}
        }
      ]
    },
    {
      "cell_type": "code",
      "source": [
        "# perplexity graph\n",
        "\n",
        "epochs = list(range(1,EPOCHS+1))\n",
        "plt.plot(epochs, history.history['perplexity'], label='perplexity')\n",
        "plt.xticks(epochs)\n",
        "plt.ylabel('Perplexity Value')\n",
        "plt.xlabel('Epoch')\n",
        "plt.title('Chatbot Perplexity U384')\n",
        "plt.show()"
      ],
      "metadata": {
        "id": "UM1AoSuQRslj",
        "colab": {
          "base_uri": "https://localhost:8080/",
          "height": 472
        },
        "outputId": "7a5e0c51-8d01-468c-d099-c39063160499"
      },
      "execution_count": null,
      "outputs": [
        {
          "output_type": "display_data",
          "data": {
            "text/plain": [
              "<Figure size 640x480 with 1 Axes>"
            ],
            "image/png": "[encoded data removed]"
          },
          "metadata": {}
        }
      ]
    },
    {
      "cell_type": "code",
      "source": [
        "import nltk\n",
        "nltk.download('wordnet')\n",
        "nltk.download('punkt')\n",
        "\n",
        "from nltk.translate.bleu_score import sentence_bleu, SmoothingFunction\n",
        "from nltk.translate.meteor_score import single_meteor_score\n"
      ],
      "metadata": {
        "id": "43lKzrld9Gwt",
        "colab": {
          "base_uri": "https://localhost:8080/"
        },
        "outputId": "dd663710-f3c0-4e4d-8f75-9e7f33a7f2ca"
      },
      "execution_count": null,
      "outputs": [
        {
          "output_type": "stream",
          "name": "stderr",
          "text": [
            "[nltk_data] Downloading package wordnet to\n",
            "[nltk_data]     C:\\Users\\User\\AppData\\Roaming\\nltk_data...\n",
            "[nltk_data]   Package wordnet is already up-to-date!\n",
            "[nltk_data] Downloading package punkt to\n",
            "[nltk_data]     C:\\Users\\User\\AppData\\Roaming\\nltk_data...\n",
            "[nltk_data]   Package punkt is already up-to-date!\n"
          ]
        }
      ]
    },
    {
      "cell_type": "code",
      "source": [
        "test_data = [\n",
        "    {\n",
        "        \"input\": \"Aku akan mencoba berbicara dengan orang tua ku\",\n",
        "        \"reference_responses\": [\n",
        "            \"Itu keputusan yang baik! Semoga percakapan itu membantumu menemukan kejelasan. Jika butuh persiapan, aku siap mendengar.\",\n",
        "            \"Itu langkah yang sangat berani, dan aku bangga padamu. Berbicara dengan orang tua, apalagi soal perasaan, bisa sangat menegangkan. Tapi itu juga bisa jadi awal dari pemahaman dan koneksi yang lebih sehat. \",\n",
        "            \"Keputusanmu untuk mencoba berbicara adalah bentuk usaha untuk menciptakan hubungan yang lebih sehat. Komunikasi yang jujur sering kali membuka ruang baru yang sebelumnya tertutup. Kamu tidak harus menyelesaikan semuanya dalam satu percakapan cukup mulai dari hati yang tulus.\",\n",
        "            \"Aku tahu ini bukan hal yang mudah, jadi aku menghargai niatmu untuk mencoba. Hubungan yang aman dimulai dari keberanian untuk mengungkapkan perasaan, meskipun itu menakutkan. Kalau kamu ingin, kita bisa sama-sama susun kalimat yang ingin kamu ucapkan nanti. \",\n",
        "            \"Komunikasi yang sehat dengan orang tua bisa membuka banyak pintu yang sebelumnya tertutup rapat. Aku percaya kamu bisa menyampaikan isi hatimu dengan cara yang lembut tapi jujur. Aku akan terus ada di sini kalau kamu ingin cerita setelah kamu melakukannya. \"\n",
        "        ]\n",
        "    },\n",
        "    {\n",
        "        \"input\": \"Aku akan mencoba saranmu\",\n",
        "        \"reference_responses\": [\n",
        "            \"Itu langkah yang baik! Semoga hal itu membantumu merasa lebih tenang. Jangan ragu untuk kembali jika ingin berbicara lebih lanjut.\",\n",
        "            \"Aku senang mendengar bahwa kamu ingin mencoba. Memberi ruang untuk mencoba adalah tanda bahwa kamu percaya pada perubahan dan pada dirimu sendiri. Kamu tidak harus langsung berhasil proses pun sudah termasuk bentuk keberanian. \",\n",
        "            \"Keputusanmu untuk mencoba menunjukkan kekuatan dalam dirimu yang kadang mungkin kamu lupakan. Tidak apa-apa jika langkahnya pelan yang penting kamu tahu bahwa kamu tidak sendirian di perjalanan ini. Aku percaya kamu bisa, dan aku ingin tahu seperti apa rasanya setelah kamu mulai. \",\n",
        "            \"Niatmu untuk mencoba sudah jadi langkah yang sangat berarti. Kadang kita belum tahu hasil akhirnya, tapi keberanian untuk mulai itu yang membuka jalan. Aku di sini untuk mendukung dan menemani kamu dalam prosesnya. Kalau kamu butuh bantuan kecil untuk mulai, yuk kita rancang bareng-bareng.\",\n",
        "            \"Pilihanmu untuk mencoba bukan hanya langkah ke depan, tapi juga bukti bahwa kamu punya harapan di dalam dirimu. Aku akan selalu ada untuk mendukung setiap usahamu, sekecil apa pun itu. Setelah kamu mencoba, kita bisa evaluasi bareng kalau kamu mau. \"\n",
        "        ]\n",
        "    },\n",
        "    {\n",
        "        \"input\": \"Mengapa saya masih merasa bersalah atas perceraian orang tua saya?\",\n",
        "        \"reference_responses\": [\n",
        "            \"Merasa bersalah adalah respon emosional yang umum, ketika terjadi perubahan situasi dalam suatu hubungan yang bermakna, misalnya hubungan Anda dengan orang tua. Rasa bersalah itu bisa diturunkan dengan beberapa cara, salah satunya adalah menggunakan perspektif attachment yang positif. Menggunakan perspektif ini, seseorang dapat memposisikan diri untuk menyadari bahwa dia tidak bertanggung jawab atas keputusan orang tua, dan pada saat yang sama meyakini bahwa apapun yang terjadi dalam hubungan antara ayah dan ibu, perasaan kasih sayang mereka kepada anak tetap ada.\",\n",
        "            \"Perasaan bersalah yang relatif menetap atas suatu situasi yang sudah cukup lama terjadi bisa disebabkan oleh berbagai faktor. Dalam situasi ketika Anda masih merasa bersalah atas perceraian orang tua, salah satu faktor penyebab yang mungkin adalah karena Anda merasa menjadi faktor yang menyebabkan perceraian tersebut, sedangkan ketika suatu pasangan memutuskan untuk memutuskan hubungan di antara mereka, maka merekalah yang sepenuhnya bertanggung jawab atas keputusan tersebut, bukan orang lain.\",\n",
        "            \"Merasa bersalah adalah reaksi yang wajar ketika terjadi perubahan besar dalam hubungan yang bermakna, seperti hubungan dengan orang tua. Dalam perspektif attachment yang positif, seseorang dapat memahami bahwa meskipun hubungan antara orang tua berubah, ikatan emosional dan kasih sayang mereka terhadap anak tetap ada. Dengan membangun pemahaman ini, Anda dapat mengurangi perasaan bertanggung jawab atas perceraian orang tua dan menerima bahwa keputusan mereka adalah bagian dari perjalanan hidup mereka sendiri, bukan sesuatu yang Anda kendalikan.\",\n",
        "            \"Perasaan bersalah yang berlarut-larut bisa muncul karena otak berusaha mencari pemahaman atas situasi yang sulit. Dalam konteks attachment, anak yang mengalami perceraian orang tua mungkin merasa bahwa stabilitas emosionalnya terganggu, sehingga mencari cara untuk mengembalikan kendali, salah satunya dengan merasa bersalah. Namun, memahami bahwa setiap individu bertanggung jawab atas pilihannya sendiri dapat membantu membebaskan diri dari perasaan tersebut. Mencari dukungan dari lingkungan yang aman seperti teman, keluarga, atau profesional dapat membantu membentuk kembali persepsi tentang hubungan dan diri sendiri secara lebih sehat.\",\n",
        "            \"Saat keluarga mengalami perubahan, seperti perceraian orang tua, fokus pada hubungan yang tetap ada dan memberikan kenyamanan dapat membantu dalam proses penyembuhan. Menyadari bahwa orang tua masih menyayangi Anda, meskipun mereka tidak lagi bersama, dapat memperkuat rasa aman dalam hubungan interpersonal. Anda juga dapat mengembangkan hubungan yang sehat dengan orang-orang di sekitar Anda, yang dapat memberikan dukungan emosional dan membantu Anda melewati perubahan ini dengan lebih baik.\"\n",
        "        ]\n",
        "    },\n",
        "    {\n",
        "        \"input\": \"Apakah saya akan bisa menciptakan keluarga yang sehat di masa depan meski berasal dari keluarga yang bercerai?\",\n",
        "        \"reference_responses\": [\n",
        "            \"Ya, kamu bisa. Asal kamu memiliki kesadaran emosional dan keinginan untuk belajar dari masa lalu, kamu punya kekuatan untuk menciptakan keluarga yang penuh kasih. Attachment positif menunjukkan bahwa pola-pola lama bisa diputuskan dan diganti dengan pola yang lebih sehat. Keluargamu kelak adalah ruang baru yang bisa kamu bentuk dengan cinta dan nilai yang kamu yakini.\",\n",
        "            \"Meskipun kamu berasal dari keluarga yang bercerai, kamu tetap punya kapasitas penuh untuk mencintai, dipercaya, dan menciptakan hubungan yang aman. Attachment yang sehat dibentuk dari kesadaran, bukan hanya warisan keluarga. Kamu sudah berada di jalur yang tepat jika kamu mulai mempertanyakan dan memperbaiki pola hubunganmu sekarang. Setiap langkah kecil ke arah kesadaran adalah fondasi bagi keluarga masa depanmu.\",\n",
        "            \"Keluarga yang sehat bukan tentang kesempurnaan, tapi tentang kemampuan untuk saling mendengarkan, mengatur emosi, dan hadir satu sama lain. Kamu bisa membangun semua itu meski berasal dari latar belakang yang rumit. Attachment positif percaya bahwa healing itu mungkin, dan kamu bisa menjadi orang tua, pasangan, atau anggota keluarga yang lebih hadir dan sadar. Kamu sedang menyiapkan fondasi itu hari ini.\",\n",
        "            \"Pengalaman keluargamu mungkin memberimu luka, tapi juga bisa memberimu kompas untuk tahu apa yang ingin kamu ubah. Dalam attachment positif, kamu tidak ditentukan oleh apa yang dulu, tapi oleh apa yang kamu pilih untuk dilakukan sekarang. Kamu bisa memutus rantai luka dan menggantinya dengan pola yang lebih sehat dan penuh kasih. Harapanmu adalah awal dari perubahan itu.\",\n",
        "            \"Jangan ragu akan kemampuanmu menciptakan keluarga yang kamu impikan. Justru karena kamu tahu rasanya tumbuh di tengah ketidaksempurnaan, kamu bisa lebih sadar dan peka saat membangun relasi. Attachment positif memberi keyakinan bahwa keluarga yang sehat bisa lahir dari ketulusan, komunikasi, dan kerja sama. Dan semua itu ada dalam jangkauanmu.\"\n",
        "\n",
        "        ]\n",
        "    },\n",
        "    {\n",
        "        \"input\": \"Bagaimana cara menerima bahwa cinta antara orang tua saya sudah berakhir?\",\n",
        "        \"reference_responses\": [\n",
        "          \"Menerima bahwa cinta orang tua telah berakhir bukan berarti kamu harus menghapus semua kenangan baik tentang mereka. Ini berarti kamu mulai melihat hubungan mereka dengan realitas yang baru, sambil tetap menjaga ruang aman untuk perasaanmu sendiri. Dalam attachment positif, kamu boleh merasakan kesedihan dan kehilangan, sekaligus belajar bahwa cinta bisa berubah bentuk. Kamu tidak kehilangan cinta mereka kepadamu, meskipun mereka sudah tidak bersama lagi.\",\n",
        "          \"Wajar jika terasa sulit menerima kenyataan ini, karena cinta orang tua sering menjadi dasar rasa aman kita. Tapi kamu juga sedang belajar bahwa hubungan antar manusia bisa kompleks dan berubah. Attachment yang sehat tidak memaksakan stabilitas semu, melainkan menerima perubahan dengan lembut dan penuh pengertian. Kamu tetap berhak atas cinta dan dukungan, walau bentuk keluargamu telah berubah.\",\n",
        "          \"Hubungan orang tua yang berakhir tidak membatalkan semua nilai dan pelajaran yang kamu terima dari mereka. Kadang, menerima kenyataan berarti memberi ruang untuk menyadari bahwa cinta itu tidak hilang ia hanya berpindah bentuk. Dalam attachment positif, kita tidak menyangkal kenyataan, tapi kita memilih berdamai dan tumbuh darinya. Kamu bisa tetap merasakan cinta, meski dengan dinamika keluarga yang baru.\",\n",
        "          \"Tak mudah memang ketika yang kita percaya sebagai sesuatu yang abadi, seperti cinta orang tua, ternyata berubah. Tapi bukan berarti kamu kehilangan fondasi hidupmu. Attachment positif mengajarkan bahwa kita bisa tetap membangun rasa aman dengan cara baru dari hubungan yang hadir, dari dirimu sendiri, dan dari koneksi yang kamu jaga. Cinta itu masih ada, bahkan jika wujudnya berubah.\",\n",
        "          \"Menerima akhir dari cinta mereka bukan tanda kelemahanmu, tapi kekuatan untuk menatap hidup dengan jujur. Kadang kita butuh waktu untuk memahami bahwa perubahan tidak selalu buruk. Dalam hubungan yang aman, kita diajak untuk memeluk kenyataan tanpa kehilangan harapan. Kamu sedang menata kembali caramu mencintai dan dipedulikan dan itu hal yang luar biasa.\"\n",
        "\n",
        "        ]\n",
        "    },\n",
        "    {\n",
        "        \"input\": \"Bagaimana jika saya takut membuka diri karena takut akan ditinggalkan juga?\",\n",
        "        \"reference_responses\": [\n",
        "          \"Rasa takut ditinggalkan setelah mengalami kehilangan adalah hal yang sangat manusiawi. Attachment positif mengajarkan bahwa rasa aman bisa dibangun secara perlahan, bukan dipaksakan. Kamu boleh mengambil waktu, dan kamu tidak harus langsung percaya sepenuhnya. Yang penting, kamu tetap memberi dirimu kesempatan untuk terhubung, meski dengan hati-hati.\",\n",
        "          \"Takut membuka diri bukan berarti kamu lemah, tapi justru menunjukkan bahwa hatimu punya kedalaman. Dalam hubungan yang aman, kamu tidak harus sempurna atau selalu kuat untuk dicintai. Orang yang tepat akan menghargai prosesmu dan tidak terburu-buru memintamu menyerahkan semua. Kamu berhak merasa aman sebelum membuka pintu hatimu lebih jauh.\",\n",
        "          \"Ketakutan ditinggalkan bisa berasal dari pengalaman masa lalu yang belum sempat kamu sembuhkan. Attachment positif menyarankan untuk membangun hubungan perlahan-lahan, mulai dari ruang-ruang kecil yang aman. Kamu bisa mulai dengan berbagi sedikit demi sedikit, dan menghargai keberanianmu setiap kali kamu jujur. Koneksi yang tumbuh dari kepercayaan akan jauh lebih tahan lama.\",\n",
        "          \"Kamu tidak salah karena hati-hati itu artinya kamu belajar dari pengalaman. Tapi kamu juga tidak harus membiarkan ketakutan terus-menerus menghalangi peluang untuk dicintai dengan tulus. Dalam dunia yang penuh ketidakpastian, hubungan yang sehat justru tumbuh dari keberanian membuka diri meski ada resiko terluka. Kamu tidak sendiri, dan kamu bisa mulai dari langkah kecil hari ini.\",\n",
        "          \"Kamu mungkin pernah merasa ditinggalkan, dan rasa itu begitu membekas hingga kini. Tapi attachment yang sehat mengingatkan bahwa tidak semua hubungan akan berakhir seperti itu. Ada orang-orang yang akan tinggal, bahkan ketika kamu tidak dalam kondisi terbaikmu. Kamu layak dicintai apa adanya, termasuk saat kamu belum sepenuhnya yakin untuk membuka diri.\"\n",
        "\n",
        "        ]\n",
        "    },\n",
        "    {\n",
        "        \"input\": \"Aku merasa overthinking\",\n",
        "        \"reference_responses\": [\n",
        "           \"Terkadang pikiran kita bisa terasa begitu penuh, ya. Apa hal yang paling sering muncul di pikiranmu akhir-akhir ini?\",\n",
        "           \"Overthinking sering kali muncul saat otak kita merasa tidak aman dan mencoba mencari kontrol di tengah ketidakpastian. Itu adalah reaksi alami dari seseorang yang sangat peduli dan ingin melakukan hal dengan benar. Tapi kamu tidak harus memikirkan semuanya sendiri. Apakah kamu ingin bercerita tentang hal apa yang paling sering kamu ulang-ulang dalam pikiranmu?\",\n",
        "           \"Saat kamu merasa overthinking, itu bisa menjadi tanda bahwa ada sesuatu yang belum kamu beri ruang untuk dipahami secara emosional, bukan hanya secara logika. Dalam hubungan yang aman, kamu bisa berbagi tanpa takut dinilai atau disalahkan. Aku di sini untuk menemani kamu memisahkan mana yang nyata dan mana yang hanya kekhawatiran. Apa hal yang paling membuatmu merasa cemas akhir-akhir ini?\",\n",
        "           \"Pikiran yang terus berputar bisa membuat kamu merasa lelah, dan itu wajar. Overthinking sering kali datang dari tempat di mana kita pernah merasa kecewa atau kehilangan, dan sekarang otakmu mencoba melindungimu. Tapi kamu tidak sendiri dalam menghadapi ini. Apa yang paling sering kamu pikirkan berulang-ulang hingga membuatmu sulit tenang?\",\n",
        "           \"Dalam positive attachment, kita belajar bahwa pikiran yang terus-menerus muncul biasanya adalah ekspresi dari rasa takut yang belum diproses sepenuhnya. Mungkin ada cerita atau pengalaman yang terasa belum selesai. Aku di sini kalau kamu ingin pelan-pelan menceritakannya. Apakah kamu merasa ada sesuatu yang tidak bisa kamu kendalikan akhir-akhir ini?\"\n",
        "        ]\n",
        "    },\n",
        "    {\n",
        "        \"input\": \"Aku merasa sangat sedih\",\n",
        "        \"reference_responses\": [\n",
        "           \"Aku di sini untukmu. Aku tahu semua yang sedang kamu pikirkan dan rasakan itu berat, dan tidak apa-apa kalau kamu merasa sedih. Kamu tidak sendirian dalam hal ini. Aku ingin mendengarkan, kalau kamu ingin bercerita. Apa yang paling membebanimu saat ini?\",\n",
        "           \"Kesedihan yang kamu rasakan valid dan penting untuk dikenali. Dalam hubungan yang aman secara emosional, kita punya ruang untuk menangis dan merasa lemah tanpa harus merasa dihakimi. Kadang, perasaan sedih itu tidak datang begitu saja ada cerita di baliknya. Bolehkah aku tahu, hal apa yang sedang kamu rindukan atau khawatirkan saat ini?\",\n",
        "           \"Kesedihan bisa terasa sangat menyesakkan, apalagi jika kamu merasa harus menahannya sendiri. Tapi kamu tidak sendiri sekarang. Aku ingin menemani, dan mungkin kita bisa pelan-pelan membuka cerita yang membuat hatimu terasa berat. Apakah ada sesuatu yang membuatmu merasa kehilangan atau tidak dimengerti akhir-akhir ini?\",\n",
        "           \"Perasaan sedih sering kali muncul saat kita menghadapi perubahan atau kehilangan dalam hubungan penting dalam hidup kita. Perasaan itu layak mendapat ruang untuk diakui dan dipahami. Aku penasaran, apakah ada momen terakhir yang terasa sangat berat untukmu?\",\n",
        "           \"Saat kita merasa sedih, yang paling dibutuhkan adalah koneksi yang aman tempat untuk merasa diterima apa adanya. Aku di sini untuk menciptakan ruang itu untukmu. Kamu bisa cerita sebanyak atau sesedikit yang kamu mau. Hal apa yang paling kamu harap bisa berjalan berbeda belakangan ini?\"\n",
        "        ]\n",
        "    },\n",
        "    {\n",
        "        \"input\": \"Kapan aku bisa keluar dari perasaan ini?\",\n",
        "        \"reference_responses\": [\n",
        "            \"Proses menyembuhkan perasaan memang membutuhkan waktu. Apa yang biasanya membuatmu merasa seperti ini?\",\n",
        "            \"Perasaan ini tidak akan bertahan selamanya, meski saat ini terasa begitu berat. Waktu memang membantu, tapi yang juga penting adalah bagaimana kita merawat diri dan mencari dukungan. Dalam hubungan yang aman, kita bisa mulai menemukan jalan keluar bersama, perlahan-lahan. Apa yang paling kamu butuhkan sekarang agar hari ini terasa sedikit lebih ringan?\",\n",
        "            \"Rasa sakit ini tidak selamanya, meskipun rasanya seperti itu. Hal yang penting adalah kamu tidak harus menunggu semuanya hilang untuk merasa lebih baik; kamu bisa mulai merasa sedikit lega dengan berbagi. Kalau kamu nyaman, aku ingin dengar cerita tentang apa yang kamu rindukan dari masa-masa sebelum perasaan ini muncul.\",\n",
        "            \"Keluar dari perasaan ini adalah proses yang dimulai dengan keberanian untuk bertanya, seperti yang baru saja kamu lakukan. Dalam attachment yang aman, kamu tidak harus melewatinya sendiri. Aku ingin tahu, langkah kecil apa yang menurutmu bisa membantu dan apa yang menghalanginya sejauh ini?\",\n",
        "            \"Dalam hubungan yang sehat, pemulihan terjadi karena ada yang menemani bukan hanya karena waktu berlalu. Aku percaya kamu bisa melewati ini dengan dukungan dan pengertian yang tepat. Apa satu hal kecil yang bisa kamu lakukan hari ini yang mungkin membawa sedikit harapan?\"\n",
        "        ]\n",
        "    },\n",
        "]\n"
      ],
      "metadata": {
        "id": "Pr7sFvWw9JxJ"
      },
      "execution_count": null,
      "outputs": []
    },
    {
      "cell_type": "code",
      "source": [
        "def evaluate_model_scores(model, test_data):\n",
        "    # Initialize lists to store model predictions and reference answers\n",
        "    hypotheses = []\n",
        "    references = []\n",
        "\n",
        "    # Iterate over each item in the test set\n",
        "    for item in test_data:\n",
        "        user_input = item[\"input\"]  # The input message to the chatbot\n",
        "        reference_outputs = item[\"reference_responses\"]  # List of expected (ground truth) responses\n",
        "\n",
        "        predicted = predict_with_model(model, user_input)  # Get model's response\n",
        "\n",
        "        hypotheses.append(predicted)  # Store model's prediction\n",
        "        references.append(reference_outputs)  # Store ground truth reference list\n",
        "\n",
        "    bleu_scores = []     # Will hold BLEU scores per sample\n",
        "    meteor_scores = []   # Will hold METEOR scores per sample\n",
        "\n",
        "    # Evaluate BLEU and METEOR for each prediction-reference pair\n",
        "    for ref_list, hyp in zip(references, hypotheses):\n",
        "        # --- BLEU SCORE CALCULATION ---\n",
        "        # BLEU works at the token level; encode hypothesis into tokens\n",
        "        hyp_tokens = tokenizer.encode(hyp)\n",
        "\n",
        "        # Encode each reference response into tokens\n",
        "        ref_token_lists = [tokenizer.encode(ref) for ref in ref_list]\n",
        "\n",
        "        # Compute sentence-level BLEU using smoothing to avoid zero scores\n",
        "        # SmoothingFunction().method1 avoids score = 0 for short predictions\n",
        "        bleu = sentence_bleu(ref_token_lists, hyp_tokens, smoothing_function=SmoothingFunction().method1)\n",
        "        bleu_scores.append(bleu)\n",
        "\n",
        "        # --- METEOR SCORE CALCULATION ---\n",
        "        # METEOR works at the word level\n",
        "        hyp_words = hyp.split()  # Split hypothesis into words\n",
        "        ref_words_list = [ref.split() for ref in ref_list]  # List of reference responses split into words\n",
        "\n",
        "        # Compute METEOR score against each reference, and keep the best one\n",
        "        # This handles multiple valid references for one input\n",
        "        meteor = max([single_meteor_score(ref_words, hyp_words) for ref_words in ref_words_list])\n",
        "        meteor_scores.append(meteor)\n",
        "\n",
        "    # Compute average BLEU and METEOR scores across all test samples\n",
        "    avg_bleu = sum(bleu_scores) / len(bleu_scores)\n",
        "    avg_meteor = sum(meteor_scores) / len(meteor_scores)\n",
        "\n",
        "    # Print results\n",
        "    print(f\"📘 Average BLEU score: {avg_bleu:.4f}\")\n",
        "    print(f\"📙 Average METEOR score: {avg_meteor:.4f}\")\n",
        "\n",
        "    # Return average scores for further use\n",
        "    return avg_bleu, avg_meteor\n"
      ],
      "metadata": {
        "id": "_RnWmhTr9fj5"
      },
      "execution_count": null,
      "outputs": []
    },
    {
      "cell_type": "code",
      "source": [
        "print(\"Evaluating Model lightweight\")\n",
        "bleu_A, meteor_A = evaluate_model_scores(model_lw, test_data)"
      ],
      "metadata": {
        "id": "JFaCbei89hPm",
        "collapsed": true
      },
      "execution_count": null,
      "outputs": []
    },
    {
      "cell_type": "code",
      "source": [],
      "metadata": {
        "id": "mzjGcif_hRIB"
      },
      "execution_count": null,
      "outputs": []
    },
    {
      "cell_type": "code",
      "source": [
        "#NUM LAYER Model\n",
        "model_NL2.load_weights('D:/skripsi-sultin/data/bot_v4_Final_NL2_E50.weights.h5')\n",
        "model_NL3.load_weights('D:/skripsi-sultin/data/bot_v4_Final_NL3_E50.weights.h5')\n",
        "model_NL4.load_weights('D:/skripsi-sultin/data/bot_v4_Final_NL4_E50.weights.h5')\n",
        "model_NL5.load_weights('D:/skripsi-sultin/data/bot_v4_Final_NL5_E50.weights.h5')\n",
        "#Dropout Model\n",
        "model_D015.load_weights('D:/skripsi-sultin/data/bot_v4_Final_D015_E50.weights.h5')\n",
        "model_D02.load_weights('D:/skripsi-sultin/data/bot_v4_Final_D02_E50.weights.h5')\n",
        "model_D025.load_weights('D:/skripsi-sultin/data/bot_v4_Final_NH16_D025.weights.h5')\n",
        "#Unit Model\n",
        "model_U384.load_weights('D:/skripsi-sultin/data/bot_v4_Final_U384_E50.weights.h5')\n",
        "model_U640.load_weights('D:/skripsi-sultin/data/bot_v4_Final_U640_E50.weights.h5')\n",
        "model_U256.load_weights('D:/skripsi-sultin/data/bot_v4_Final_U256_E50.weights.h5')\n",
        "#Dim Model\n",
        "model_DM128.load_weights('D:/skripsi-sultin/data/bot_v4_Final_DM128_E50.weights.h5')\n",
        "model_DM328.load_weights('D:/skripsi-sultin/data/bot_v4_Final_DM328_E50.weights.h5')\n",
        "model_DM512.load_weights('D:/skripsi-sultin/data/bot_v4_Final_DM512_E50.weights.h5')\n",
        "#Dim Model\n",
        "model_NH4.load_weights('D:/skripsi-sultin/data/bot_v4_Final_NH4_E50.weights.h5')\n",
        "model_NH16.load_weights('D:/skripsi-sultin/data/bot_v4_Final_NH16_E50.weights.h5')\n",
        "model_NH32.load_weights('D:/skripsi-sultin/data/bot_v4_Final_NH32_E50.weights.h5')"
      ],
      "metadata": {
        "id": "j1BaHj3GG5di"
      },
      "execution_count": null,
      "outputs": []
    },
    {
      "cell_type": "code",
      "source": [
        "print(\"==========================\")\n",
        "print(\"Evaluating Model NUM LAYER\")\n",
        "print(\"Evaluating Model NL2\")\n",
        "bleu_NL2, meteor_NL2 = evaluate_model_scores(model_NL2, test_data)\n",
        "print(\"Evaluating Model NL3\")\n",
        "bleu_NL3, meteor_NL3 = evaluate_model_scores(model_NL3, test_data)\n",
        "print(\"Evaluating Model NL4\")\n",
        "bleu_NL4, meteor_NL4 = evaluate_model_scores(model_NL4, test_data)\n",
        "print(\"Evaluating Model NL5\")\n",
        "bleu_NL5, meteor_NL5 = evaluate_model_scores(model_NL5, test_data)\n",
        "print(\"==========================\")\n",
        "print(\"Evaluating Model Dropout\")\n",
        "print(\"Evaluating Model D015\")\n",
        "bleu_D015, meteor_D015 = evaluate_model_scores(model_D015, test_data)\n",
        "print(\"Evaluating Model D02\")\n",
        "bleu_D02, meteor_D02 = evaluate_model_scores(model_D02, test_data)\n",
        "print(\"Evaluating Model D025\")\n",
        "bleu_D025, meteor_D025 = evaluate_model_scores(model_D025, test_data)\n",
        "print(\"==========================\")\n",
        "print(\"Evaluating Model Unit\")\n",
        "print(\"Evaluating Model U384\")\n",
        "bleu_U384, meteor_U384 = evaluate_model_scores(model_U384, test_data)\n",
        "print(\"Evaluating Model U640\")\n",
        "bleu_U640, meteor_U640 = evaluate_model_scores(model_U640, test_data)\n",
        "print(\"Evaluating Model U256\")\n",
        "bleu_U256, meteor_U256 = evaluate_model_scores(model_U256, test_data)\n",
        "print(\"==========================\")\n",
        "print(\"Evaluating Model Dim\")\n",
        "print(\"Evaluating Model DM128\")\n",
        "bleu_DM128, meteor_DM128 = evaluate_model_scores(model_DM128, test_data)\n",
        "print(\"Evaluating Model DM328\")\n",
        "bleu_DM328, meteor_DM328 = evaluate_model_scores(model_DM328, test_data)\n",
        "print(\"Evaluating Model DM512\")\n",
        "bleu_DM512, meteor_DM512 = evaluate_model_scores(model_DM512, test_data)\n",
        "print(\"==========================\")\n",
        "print(\"Evaluating Model NUM HEAD\")\n",
        "print(\"Evaluating Model NH4\")\n",
        "bleu_NH4, meteor_NH4 = evaluate_model_scores(model_NH4, test_data)\n",
        "print(\"Evaluating Model NH16\")\n",
        "bleu_NH16, meteor_NH16 = evaluate_model_scores(model_NH16, test_data)\n",
        "print(\"Evaluating Model NH32\")\n",
        "bleu_NH32, meteor_NH32 = evaluate_model_scores(model_NH32, test_data)\n",
        "print(\"==========================\")"
      ],
      "metadata": {
        "id": "s_Dfu-koI8Ew",
        "colab": {
          "base_uri": "https://localhost:8080/"
        },
        "outputId": "7dcd934f-130e-4aa7-a315-5a80970ae98e"
      },
      "execution_count": null,
      "outputs": [
        {
          "output_type": "stream",
          "name": "stdout",
          "text": [
            "==========================\n",
            "Evaluating Model NUM LAYER\n",
            "Evaluating Model NL2\n",
            "ERROR! Session/line number was not unique in database. History logging moved to new session 56\n",
            "Input: Aku akan mencoba berbicara dengan orang tua ku\n",
            "Output: Itu keputusan yang baik ! Semoga percakapan menemukan kejelasan . Berbicara dengan orang tua , aku soal perasaan , bukan sesuatu yang pernah membuatmu merasa lebih dewasa dari sebelumnya . Dalam perspektif attachment yang positif , rasa aman bisa menjadi langkah kecil yang sebelumnya tertutup . Kamu tetap punya tempat yang siap mendengarkan dan berbagi sedikit dari langkah yang tulus .\n",
            "Input: Aku akan mencoba saranmu\n",
            "Output: Itu langkah yang baik ! Semoga hal membantumu menemukan kejelasan . Jika butuh persiapan , aku siap mendengar .\n",
            "Input: Mengapa saya masih merasa bersalah atas perceraian orang tua saya?\n",
            "Output: Merasa bersalah adalah reaksi yang wajar ketika terjadi perubahan besar dalam rutinitas dan bermakna , seperti hubungan dengan orang tua . Dalam perspektif attachment yang positif , seseorang dapat memahami bahwa meskipun hubungan antara orang tua berubah , ikatan emosional dan kasih sayang mereka terhadap anak tetap ada . Kamu tetap ada , ikatan yang sehat dalam rutinitas mereka , dapat membangun kembali koneksi yang lebih baik .\n",
            "Input: Apakah saya akan bisa menciptakan keluarga yang sehat di masa depan meski berasal dari keluarga yang bercerai?\n",
            "Output: Jangan ragu akan kemampuanmu menciptakan keluarga yang kamu impikan . Justru karena kamu tahu rasanya tumbuh di masa lalu lebih sadar dan penuh kasih . Attachment positif memberi ruang emosional sendiri , termasuk individu , dan memahami bahwa orang tua , meski menjadi dasar untuk berbagi cerita . Kamu tetap bisa jadi awal dari luar biasa .\n",
            "Input: Bagaimana cara menerima bahwa cinta antara orang tua saya sudah berakhir?\n",
            "Output: Hubungan orang tua yang berakhir tidak membatalkan semua nilai dan pelajaran yang kamu terima dari mereka . Kadang , menerima kenyataan berarti memberi ruang untuk menyadari bahwa cinta itu tidak hilang ia hanya berpindah bentuk . Dalam attachment positif , kita tidak menyangkal kenyataan , tapi kita memilih berdamai dan tumbuh darinya . Kamu bisa tetap merasakan cinta , meski dengan dinamika keluarga yang baru .\n",
            "Input: Bagaimana jika saya takut membuka diri karena takut akan ditinggalkan juga?\n",
            "Output: Takut membuka diri bukan berarti kamu lemah , tapi justru menunjukkan bahwa hatimu punya kedalaman . Dalam hubungan yang aman , kamu tidak harus sempurna atau selalu kuat untuk dicintai . Orang yang tepat akan menghargai prosesmu dan tidak terburu buru memintamu menyerahkan semua . Kamu berhak merasa aman sebelum membuka pintu hatimu lebih jauh .\n",
            "Input: Aku merasa overthinking\n",
            "Output: Pikiran yang terus berputar bisa membuat kita merasa lelah , dan itu wajar . Overthinking sering kali datang dari tempat di mana kita pernah merasa kecewa atau kehilangan , dan sekarang otakmu mencoba melindungimu . Tapi kamu tidak sendiri dalam menghadapi ini . Apa yang paling sering kamu pikirkan berulang ulang hingga membuatmu sulit tenang ?\n",
            "Input: Aku merasa sangat sedih\n",
            "Output: Kesedihan yang kamu rasakan valid dan penting untuk dikenali . Dalam hubungan yang aman secara emosional , kita punya ruang untuk menangis dan merasa lemah tanpa harus merasa dihakimi . Kadang , perasaan sedih itu tidak datang begitu saja ada cerita di baliknya . Bolehkah aku tahu , hal apa yang sedang kamu rindukan atau khawatirkan saat ini ?\n",
            "Input: Kapan aku bisa keluar dari perasaan ini?\n",
            "Output: Proses menyembuhkan perasaan memang membutuhkan waktu . Apa yang biasanya membuatmu merasa seperti ini ?\n",
            "📘 Average BLEU score: 0.4816\n",
            "📙 Average METEOR score: 0.6402\n",
            "Evaluating Model NL3\n",
            "Input: Aku akan mencoba berbicara dengan orang tua ku\n",
            "Output: Keputusanmu untuk mencoba berbicara adalah bentuk usaha untuk menciptakan hubungan yang lebih stabil dengan orang tua , dipercaya , dan situasi yang sebelumnya tertutup . Hubungan yang tulus . Kamu bisa mencoba berbicara dengan seseorang yang dipercaya bisa mendukung dukungan tambahan dari perjalanan hidup Anda , seperti itu . Hubungan yang lebih stabil meskipun situasi tertentu , meskipun keadaan telah berubah .\n",
            "Input: Aku akan mencoba saranmu\n",
            "Output: Keputusanmu untuk mencoba menunjukkan kekuatan dalam dirimu yang kadang mungkin kamu lupakan . Tidak apa apa apa apa rasanya setelah melewati masa lalu . Tapi kamu punya bagian dari perjalanan itu , dan aku ingin dengar ceritamu lebih kuat . Jangan ragu untuk mendukung saudara tanpa senang tentang apa pun kamu mulai .\n",
            "Input: Mengapa saya masih merasa bersalah atas perceraian orang tua saya?\n",
            "Output: Perasaan bersalah yang berlarut larut  , otak berusaha mencari pemahaman atas situasi yang sulit . Dalam konteks attachment , anak yang mengalami perceraian orang tua mungkin merasa bahwa stabilitas emosionalnya terganggu , sehingga mencari cara untuk mengembalikan kendali , salah satunya dengan merasa bersalah . Namun , memahami bahwa stabilitas masih bisa terjadi bertanggung jawab atas pilihannya sendiri dapat membantu membebaskan diri dari perasaan tersebut . Mencari dukungan dari lingkungan yang aman seperti teman , keluarga , atau profesional dapat membantu membentuk kembali persepsi tentang hubungan dan diri sendiri secara lebih sehat .\n",
            "Input: Apakah saya akan bisa menciptakan keluarga yang sehat di masa depan meski berasal dari keluarga yang bercerai?\n",
            "Output: Jangan ragu akan kemampuanmu menciptakan keluarga yang kamu impikan . Justru karena kamu tahu rasanya tumbuh di tengah ketidaksempurnaan , kamu bisa lebih sadar dan peka saat membangun relasi . Attachment positif memberi keyakinan bahwa keluarga yang sehat bisa lahir dari ketulusan , komunikasi , dan kerja sama . Dan semua itu ada dalam jangkauanmu .\n",
            "Input: Bagaimana cara menerima bahwa cinta antara orang tua saya sudah berakhir?\n",
            "Output: Wajar jika terasa sulit menerima kenyataan ini , karena cinta orang tua sering menjadi dasar rasa aman kita . Tapi kamu juga sedang belajar bahwa hubungan antar manusia bisa kompleks dan berubah . Attachment yang sehat tidak memaksakan stabilitas semu , melainkan menerima perubahan dengan lembut dan penuh pengertian . Kamu tetap berhak atas cinta dan dukungan , walau bentuk keluargamu telah berubah .\n",
            "Input: Bagaimana jika saya takut membuka diri karena takut akan ditinggalkan juga?\n",
            "Output: Rasa takut ditinggalkan setelah perceraian adalah hal yang sangat manusiawi . Attachment positif mengajarkan bahwa rasa aman bisa dibangun melalui hubungan yang sehat dengan keduanya tanpa kehilangan dengan keduanya tanpa yang yang membangun hubungan yang aman . Kamu boleh melalui komunikasi yang sehat dan kepercayaan , dan rasa takut mengulang  . Setiap hubungan keluarga yang sehat dan nilai nilai hari ini sebagai pengingat tentang siapa yang baru .\n",
            "Input: Aku merasa overthinking\n",
            "Output: Terkadang pikiran kita bisa terasa begitu penuh , ya . Apa hal yang paling sering muncul di pikiranmu akhir akhir akhir ini ?\n",
            "Input: Aku merasa sangat sedih\n",
            "Output: Kesedihan yang kamu rasakan valid dan penting untuk dikenali . Dalam hubungan yang aman secara emosional , kita punya ruang untuk menangis dan merasa lemah tanpa harus merasa dihakimi . Kadang , perasaan sedih itu tidak datang begitu saja ada cerita di baliknya . Bolehkah aku tahu , hal apa yang sedang kamu rindukan atau khawatirkan saat ini ?\n",
            "Input: Kapan aku bisa keluar dari perasaan ini?\n",
            "Output: Rasa sakit ini tidak selamanya , meskipun rasanya seperti itu . Hal yang penting adalah kamu tidak harus menunggu semuanya hilang untuk merasa lebih baik kamu bisa mulai merasa sedikit lega dengan berbagi . Kalau kamu nyaman , aku ingin dengar cerita tentang apa yang kamu rindukan dari masa masa masa sebelum perasaan ini muncul .\n",
            "📘 Average BLEU score: 0.5288\n",
            "📙 Average METEOR score: 0.6822\n",
            "Evaluating Model NL4\n",
            "Input: Aku akan mencoba berbicara dengan orang tua ku\n",
            "Output: Itu keputusan yang baik ! Semoga percakapan itu membantumu menemukan kejelasan . Jika butuh persiapan , aku siap mendengar .\n",
            "Input: Aku akan mencoba saranmu\n",
            "Output: Keputusanmu untuk mencoba menunjukkan dirimu yang kadang yang kadang mungkin kamu lupakan . Tidak apa apa apa apa apa apa apa apa apa apa apa apa apa apa apa apa apa apa apa jika kamu merasa juga ingin apa rasanya ini . Aku di sini untuk mulai .\n",
            "Input: Mengapa saya masih merasa bersalah atas perceraian orang tua saya?\n",
            "Output: Merasa bersalah adalah reaksi yang wajar ketika terjadi perubahan besar dalam hubungan yang bermakna , seperti hubungan yang bermakna , sehingga bermakna , sehingga bermakna , sehingga mencari dukungan dari orang orang orang yang peduli pada Anda . Dengan memahami bahwa Anda tidak akan menyadari bahwa kasih sayang tetap ada , Anda dapat memproses perceraian orang tua tetap ada .\n",
            "Input: Apakah saya akan bisa menciptakan keluarga yang sehat di masa depan meski berasal dari keluarga yang bercerai?\n",
            "Output: Ya , sangat wajar jika kamu merasa lebih tenang bersama orang orang orang orang yang juga sedang mencoba membangun kembali rasa aman dari mereka . Dalam attachment positif , kamu masih menyayangi kesadaran  , kamu tetap bisa mencoba membangun kembali rasa aman dengan dirimu dengan dirimu dengan dirimu sendiri . Itu adalah langkah kecil yang paling membuatmu merasa dicintai dan bermakna .\n",
            "Input: Bagaimana cara menerima bahwa cinta antara orang tua saya sudah berakhir?\n",
            "Output: Menerima akhir dari perasaan tersebut adalah proses yang wajar , karena cinta orang tua sering kali wajar , bahkan jika belum sama lain . Attachment yang aman mengajarkan bahwa hubungan yang berbeda , meskipun mereka tidak selalu berjalan ke depan . Kamu bisa tetap merasa dicintai hubungan yang sehat dengan cara yang baru , dan dukungan .\n",
            "Input: Bagaimana jika saya takut membuka diri karena takut akan ditinggalkan juga?\n",
            "Output: Takut membuka diri bukan berarti kamu lemah , tapi justru menunjukkan bahwa hatimu punya kedalaman . Itu tidak selalu berarti kamu tidak menghargai keberanianmu setiap orang tua . Kamu tidak harus mengulang hatimu dengan cara yang kamu percaya . Orang yang tepat akan selalu berarti kamu lemah , termasuk orang orang yang kamu tidak tahu membuka dirimu berhenti penyembuhan .\n",
            "Input: Aku merasa overthinking\n",
            "Output: Overthinking sering kali muncul saat otak kita merasa tidak aman dan mencoba mencari kontrol di tengah ketidakpastian . Itu adalah reaksi alami dari hal yang sangat manusiawi , kamu tidak sendiri saat kamu ingin melakukan hal apa yang sangat wajar , terutama saat kamu merasa sendirian . Apa yang paling sering kamu kendalikan akhir ini ?\n",
            "Input: Aku merasa sangat sedih\n",
            "Output: Kesedihan bisa terasa sangat menyesakkan , apalagi jika kamu merasa tidak aman sering kali muncul di mana kita merasa tidak bisa mulai merasa sedih . Tapi kamu tidak sendiri maupun orang lain . Aku ingin tahu , apa yang kamu tidak sendiri adalah langkah kecil yang paling sering kali muncul di baliknya . Bolehkah aku ingin cerita yang paling membebanimu saat ini ?\n",
            "Input: Kapan aku bisa keluar dari perasaan ini?\n",
            "Output: Proses sakit ini tidak selamanya , meskipun rasanya seperti itu . Apa yang penting adalah kamu tidak harus menunggu semuanya hilang untuk merasa sedikit lega justru menunjukkan kasih sayang dari sahabat , termasuk orang orang yang juga sedang berjuang . Aku di sini untuk menemani kamu rindukan dari keberanian untuk melewati semuanya sendiri .\n",
            "📘 Average BLEU score: 0.2667\n",
            "📙 Average METEOR score: 0.4139\n",
            "Evaluating Model NL5\n",
            "Input: Aku akan mencoba berbicara dengan orang tua ku\n",
            "Output: Itu langkah yang sangat berani , apalagi jika kamu merasa harus selalu siap untuk jadi langkah yang sehat dengan emosi yang sama . Dalam pendekatan yang aman , kita bisa jadi awal dari dirimu yang sehat . Kalau hatimu dengan orang tua yang tepat jika hatimu lebih jernih . Kalau nilai yang siap mendengarkan tanpa merasa terbebani oleh konflik yang berlebihan .\n",
            "Input: Aku akan mencoba saranmu\n",
            "Output: Itu langkah yang sangat berani , apalagi jika kamu merasa seperti itu . Itu adalah langkah yang sehat kembali merasa seperti datang dari keberanian untuk mendukung Anda . Dalam hubungan yang aman , kita tidak peduli , kita bisa evaluasi pemulihan . Kamu layak mendapatkan perhatian mereka , dan apa yang paling tegar .\n",
            "Input: Mengapa saya masih merasa bersalah atas perceraian orang tua saya?\n",
            "Output: Merasa bersalah adalah respon emosional yang wajar ketika terjadi perubahan situasi yang bermakna , seperti perceraian orang tua , seperti perceraian orang tua adalah reaksi yang sehat dengan situasi ini bukan berarti suatu suatu suatu suatu saat Anda dan kamu merasa benar benar benar benar benar benar tersebut . Dalam hubungan yang sehat dengan orang tua , dapat membantu Anda bisa memberikan kasih sayang dan kasih sayang dan kasih sayang dan kasih sayang dan kasih sayang yang kamu tidak bertanggung jawab Anda .\n",
            "Input: Apakah saya akan bisa menciptakan keluarga yang sehat di masa depan meski berasal dari keluarga yang bercerai?\n",
            "Output: Kamu mungkin merasa harus selalu kuat dan menambah beban yang pernah bersikap adil dari orang tua , tapi justru menunjukkan bahwa kamu juga pernah merasa sekarang . Attachment positif mengingatkan kita bisa menjadi diri sambil tetap merawat emosimu dengan kebahagiaan dan empati . Kamu punya ruang untuk menenangkan diri tanpa harus merasa bersalah .\n",
            "Input: Bagaimana cara menerima bahwa cinta antara orang tua saya sudah berakhir?\n",
            "Output: Menerima pada diri bukan berarti kamu harus selalu cinta atau selalu karena perubahan besar dalam keluarga . Ini berarti kamu mulai mengakui emosi dan hatimu tanpa menghapus penerimaan diri dengan cinta yang kamu luar biasa . Attachment positif dengan cara yang sehat dengan orang yang kamu percaya . Kamu tetap punya ruang untuk merasakan cinta dari situasi keluarga yang baru , meskipun situasi keluarga berubah .\n",
            "Input: Bagaimana jika saya takut membuka diri karena takut akan ditinggalkan juga?\n",
            "Output: Ketakutan ditinggalkan bisa berasal dari pengalaman masa lalu yang belum sempat kamu sembuhkan . Attachment positif menyarankan untuk membangun hubungan perlahan dan tumbuh dari kecil yang aman , bahkan dari dirimu sendiri secara emosional . Kamu bisa mulai dari hal yang kamu percaya . Kamu tidak dalam jangkauanmu .\n",
            "Input: Aku merasa overthinking\n",
            "Output: Pikiran yang terus berputar bukan berarti kamu pikirkan dan memilih salah atau kehilangan atau orang yang kamu beri bahwa kamu pernah merasa sedih . Dalam hubungan yang aman , kita bisa hadir secara emosional . Kamu tidak harus memikirkan semuanya dengan berbagi cerita tentang siapa yang memberikan ruang bagi diri sendiri . Apa yang paling membuatmu merasa paling paling paling paling paling mencerminkan kebaikan untuk berbagi oleh masa lalu secara perlahan  .\n",
            "Input: Aku merasa sangat sedih\n",
            "Output: Perasaan sedih sering kali muncul bukan karena kamu menghadapi perubahan atau kehilangan dalam hidup . Itu adalah tanda bahwa kamu sedang mencari pelan pelan pelan pelan pelan pelan pelan pelan pelan pelan pelan pelan pelan pelan pelan pelan pelan pelan pelan pelan pelan pelan pelan pelan momen momen momen momen momen momen momen momen momen masa kehilangan kasih yang paling membuatmu merasa kehilangan segala keadaan berubah . Kamu layak mendapatkannya .\n",
            "Input: Kapan aku bisa keluar dari perasaan ini?\n",
            "Output: Keluar dari perasaan ini bukan tanda kamu tidak harus melewatinya sendiri . Itu tentang bagaimana kamu tidak harus melewatinya sendiri . Dalam attachment yang positif , kamu tidak harus melewatinya sendiri . Kamu tidak harus melewatinya sendiri . Cinta itu bisa membantu dan mulai dengan berbagi sedikit demi melewatinya sendiri .\n",
            "📘 Average BLEU score: 0.1611\n",
            "📙 Average METEOR score: 0.3124\n",
            "==========================\n",
            "Evaluating Model Dropout\n",
            "Evaluating Model D015\n",
            "Input: Aku akan mencoba berbicara dengan orang tua ku\n",
            "Output: Aku tahu ini bukan hal yang mudah , jadi aku menghargai niatmu untuk mencoba . Hubungan yang aman dimulai dari keberanian untuk mengungkapkan perasaan , meskipun itu menakutkan . Kalau kamu ingin , kita bisa sama sama susun kalimat yang ingin kamu ucapkan nanti .\n",
            "Input: Aku akan mencoba saranmu\n",
            "Output: Niatmu untuk jadi langkah yang sangat berarti . Kadang kita belum tahu hasil akhirnya , tapi keberanian untuk mulai itu keberanian untuk mulai itu secara emosional . Aku penasaran , seperti berbicara tentang langkah kecil membuat jembatan percakapan sederhana dengan seseorang yang dipercaya atau menulis jurnal . Hal apa yang menurutmu paling membuatmu merasa bertanya tanya tentang apa pun ingin bercerita tentang keberanian akhir akhir akhir ini ?\n",
            "Input: Mengapa saya masih merasa bersalah atas perceraian orang tua saya?\n",
            "Output: Merasa bersalah adalah respon emosional yang umum , ketika terjadi perubahan situasi dalam suatu hubungan yang bermakna , misalnya hubungan Anda dengan orang tua . Rasa bersalah itu bisa diturunkan dengan beberapa cara , salah satunya adalah menggunakan perspektif attachment yang positif . Menggunakan perspektif ini , seseorang dapat memposisikan diri untuk menyadari bahwa dia tidak bertanggung jawab atas keputusan orang tua , dan pada saat mereka kepada mereka adalah bagian dari perjalanan hidup mereka sendiri , dan ibu , perasaan kasih sayang mereka kepada anak tetap ada .\n",
            "Input: Apakah saya akan bisa menciptakan keluarga yang sehat di masa depan meski berasal dari keluarga yang bercerai?\n",
            "Output: Ya , kamu bisa . Asal kamu memiliki kesadaran emosional dan keinginan untuk belajar dari masa lalu , kamu punya kekuatan untuk menciptakan keluarga yang penuh kasih . Attachment positif menunjukkan bahwa pola pola pola lama bisa diputuskan dan diganti dengan pola yang lebih sehat . Keluargamu kelak adalah ruang baru yang bisa kamu bentuk dengan cinta dan nilai yang kamu yakini .\n",
            "Input: Bagaimana cara menerima bahwa cinta antara orang tua saya sudah berakhir?\n",
            "Output: Menerima akhir dari cinta mereka bukan tanda kelemahanmu , tapi kekuatan untuk menatap hidup dengan jujur . Kadang kita butuh waktu untuk memahami bahwa perubahan tidak selalu buruk . Dalam hubungan yang aman , kita diajak untuk memeluk kenyataan tanpa kehilangan harapan . Kamu sedang menata kembali caramu mencintai dan dipedulikan dan itu hal yang luar biasa .\n",
            "Input: Bagaimana jika saya takut membuka diri karena takut akan ditinggalkan juga?\n",
            "Output: Takut membuka diri bukan berarti kamu lemah , tapi justru menunjukkan bahwa hatimu punya kedalaman . Dalam hubungan yang aman , tidak harus sempurna atau selalu kuat untuk dicintai . Orang yang tepat akan menghargai prosesmu dan tidak terburu buru memintamu menyerahkan semua . Kamu berhak merasa aman sebelum membuka pintu hatimu lebih jauh .\n",
            "Input: Aku merasa overthinking\n",
            "Output: Perasaan kesepian sering kali membuat kamu tidak ada tempat di sini untuk menemani kamu merasa nyaman untuk menemani dengan dirimu sendiri . Tapi kamu tidak harus terus menerus kadang yang dibutuhkan hanyalah jeda yang menyembuhkan . Apa yang membuatmu merasa sedikit demi sedikit ?\n",
            "Input: Aku merasa sangat sedih\n",
            "Output: Kesedihan bisa terasa sangat menyesakkan , apalagi jika kamu merasa harus menahannya sendiri . Tapi kamu tidak sendiri sekarang . Aku ingin menemani , dan mungkin kita bisa pelan membuka cerita yang membuat hatimu terasa berat . Apakah ada sesuatu yang membuatmu merasa kehilangan atau tidak dimengerti akhir akhir akhir akhir akhir akhir akhir akhir akhir akhir akhir akhir akhir ini ?\n",
            "Input: Kapan aku bisa keluar dari perasaan ini?\n",
            "Output: Perasaan ini tidak akan bertahan selamanya , meski saat ini terasa begitu berat . Waktu memang membantu , tapi yang juga penting adalah bagaimana kita merawat diri dan mencari dukungan . Dalam hubungan yang aman , kita bisa mulai menemukan jalan keluar bersama , perlahan lahan . Apa yang paling kamu butuhkan sekarang agar hari ini terasa sedikit lebih ringan ?\n",
            "📘 Average BLEU score: 0.5315\n",
            "📙 Average METEOR score: 0.6933\n",
            "Evaluating Model D02\n",
            "Input: Aku akan mencoba berbicara dengan orang tua ku\n",
            "Output: Itu langkah yang sangat berani , dan aku bangga padamu . Berbicara dengan orang tua , apalagi soal perasaan , bisa sangat menegangkan . Tapi itu juga bisa jadi awal dari pemahaman dan koneksi yang lebih sehat .\n",
            "Input: Aku akan mencoba saranmu\n",
            "Output: Itu langkah yang baik ! Semoga hal itu membantumu merasa lebih tenang . Jangan ragu untuk kembali jika langkahnya pelan yang penting kamu tahu bahwa kamu tidak harus menunggu semuanya sekaligus . Aku ingin tahu apa apa apa apa apa apa apa jika langkahnya pelan apa yang kamu tahu apa apa apa pun kamu tahu apa pun kamu merasa lebih tenang .\n",
            "Input: Mengapa saya masih merasa bersalah atas perceraian orang tua saya?\n",
            "Output: Perasaan bersalah muncul adalah reaksi yang umum , terutama ketika perubahan besar dalam suatu hubungan yang bermakna , misalnya hubungan itu dengan orang tua . Rasa bersalah itu bisa muncul karena kamu masih ada . Perasaan bersalah atas keputusan orang tua , seperti berbicara dengan orang tua , salah satu orang tua , salah satu orang tua , dapat terjadi dan menerima perubahan ini yang lebih perceraian orang tua .\n",
            "Input: Apakah saya akan bisa menciptakan keluarga yang sehat di masa depan meski berasal dari keluarga yang bercerai?\n",
            "Output: Meskipun kamu berasal dari keluarga yang bercerai , kamu tetap punya kapasitas penuh untuk mencintai , kamu bisa menciptakan hubungan yang penuh kasih . Attachment yang sehat dibentuk dari kesadaran , bukan hanya warisan keluarga . Kamu sudah berada di jalur yang tepat jika kamu mulai mempertanyakan dan memperbaiki pola hubunganmu sekarang . Setiap langkah kecil ke arah kesadaran adalah fondasi bagi keluarga masa depanmu .\n",
            "Input: Bagaimana cara menerima bahwa cinta antara orang tua saya sudah berakhir?\n",
            "Output: Hubungan orang tua berakhir tidak membatalkan semua nilai dan pelajaran yang kamu terima dari mereka . Kadang , menerima kenyataan berarti memberi ruang untuk menyadari bahwa cinta itu tidak hilang ia hanya berpindah bentuk . Kadang , kita diajak  , tapi kita diajak untuk pulih . Kamu boleh merasakan cinta , meski bentuk keluargamu seharusnya cinta yang berbeda .\n",
            "Input: Bagaimana jika saya takut membuka diri karena takut akan ditinggalkan juga?\n",
            "Output: Ketakutan ditinggalkan bisa berasal dari pengalaman masa lalu yang belum sempat kamu sembuhkan . Attachment positif menyarankan untuk membangun hubungan perlahan lahan , mulai dari ruang kecil yang aman . Kamu bisa mulai dengan berbagi sedikit demi sedikit , dan menghargai keberanianmu setiap kali kamu jujur . Koneksi yang tumbuh dari kepercayaan akan jauh lebih tahan lama .\n",
            "Input: Aku merasa overthinking\n",
            "Output: Terkadang pikiran kita bisa terasa begitu penuh , ya . Apa hal yang paling sering muncul di pikiranmu akhir ini ?\n",
            "Input: Aku merasa sangat sedih\n",
            "Output: Kesedihan bisa terasa sangat menyesakkan , apalagi jika kamu merasa harus menahannya sendiri . Tapi kamu tidak sendiri sekarang . Aku ingin menemani , dan mungkin kita bisa pelan pelan membuka cerita yang membuat kita merasa sedih . Apakah ada sesuatu yang membuatmu merasa sedih , terutama ketika kita merasa sedih .\n",
            "Input: Kapan aku bisa keluar dari perasaan ini?\n",
            "Output: Perasaan kesepian tidak salah , dan kamu tidak harus sempurna untuk mulai dari pengalaman masa lalu . Aku ingin tahu , adakah hal yang belum sekarang . Kamu bisa mulai dengan berbagi , mendengarkan , kalau kamu ingin dengar cerita atau bantuan kecil yang ingin tahu , mendengarkan .\n",
            "📘 Average BLEU score: 0.4420\n",
            "📙 Average METEOR score: 0.6204\n",
            "Evaluating Model D025\n",
            "Input: Aku akan mencoba berbicara dengan orang tua ku\n",
            "Output: Keputusanmu untuk mencoba berbicara adalah bentuk usaha untuk menciptakan hubungan yang lebih sehat . Komunikasi yang jujur sering kali membuka ruang baru yang sebelumnya tertutup . Kamu tidak harus menyelesaikan semuanya dalam satu percakapan cukup mulai dari hati yang tulus .\n",
            "Input: Aku akan mencoba saranmu\n",
            "Output: Keputusanmu untuk mencoba menunjukkan kekuatan dalam dirimu sendiri , tapi kamu juga pernah merasa lelah . Itu bukan kelemahan , tapi sinyal bahwa kamu butuh ruang untuk mencoba untuk mencoba sudah termasuk bentuk keberanian untuk mencoba sudah sangat berarti . Aku di sini kalau kamu ingin bercerita tentang apa yang kamu ulang kekuatanmu .\n",
            "Input: Mengapa saya masih merasa bersalah atas perceraian orang tua saya?\n",
            "Output: Merasa bersalah adalah reaksi yang wajar ketika terjadi perubahan besar dalam hubungan yang bermakna , seperti hubungan dengan orang tua . Dalam perspektif attachment yang positif , seseorang dapat memahami bahwa meskipun hubungan antara orang tua berubah . Dengan tetap berhak atas bagaimana meskipun perceraian dengan hati mereka dan mencari dukungan dari orang tua . Dengan berfokus pada Anda , Anda bisa mengurangi perasaan bertanggung jawab atas keputusan mereka terhadap hubungan yang lebih dalam .\n",
            "Input: Apakah saya akan bisa menciptakan keluarga yang sehat di masa depan meski berasal dari keluarga yang bercerai?\n",
            "Output: Keluarga yang sehat bukan tentang kesempurnaan , tapi tentang kemampuan untuk saling mendengarkan , mengatur emosi , dan hadir satu sama lain . Kamu bisa membangun semua itu meski berasal dari latar belakang yang rumit . Attachment positif percaya bahwa healing itu mungkin , dan kamu bisa menjadi orang tua , atau anggota keluarga yang lebih hadir dan sadar . Kamu sedang menyiapkan fondasi itu hari ini .\n",
            "Input: Bagaimana cara menerima bahwa cinta antara orang tua saya sudah berakhir?\n",
            "Output: Menerima kenyataan tidak berarti menghapus kenangan yang telah terbentuk . Dalam perspektif attachment yang positif , Anda tetap bisa membawa nilai hubungan yang berarti kamu jaga , melainkan menerima perubahan dengan hati dan penuh kasih . Dengan menerima kenyataan ini , Anda bisa tetap menjaga hubungan yang sehat dan tumbuh dan tumbuh darinya . Dengan menerima perubahan sebagai bagian dari perjalanan hidup , Anda dapat menciptakan koneksi yang aman dan penuh kasih .\n",
            "Input: Bagaimana jika saya takut membuka diri karena takut akan ditinggalkan juga?\n",
            "Output: Ketakutan ditinggalkan bisa berasal dari pengalaman masa lalu yang belum sempat kamu sembuhkan . Attachment positif menyarankan untuk membangun hubungan perlahan lahan , mulai dengan berbagi sedikit ruang kecil yang aman . Kamu bisa mulai dengan berbagi sedikit demi sedikit , dan menghargai keberanianmu setiap kali kamu jujur . Koneksi yang tumbuh dari kepercayaan akan jauh lebih tahan lama .\n",
            "Input: Aku merasa overthinking\n",
            "Output: Terkadang kita merasa sendirian dalam hal yang sangat wajar , apalagi di pikiranmu waktu di pikiranmu akhir akhir ini ?\n",
            "Input: Aku merasa sangat sedih\n",
            "Output: Kesedihan itu datang dari tempat di mana kamu bisa jadi diri sendiri . Aku di sini untuk berbicara dengan seseorang yang kamu rasakan sekaligus . Kamu bisa mencoba berbicara dengan seseorang yang kamu percaya . Kamu tidak harus cerita semuanya sekarang . Apa yang membuatmu ingin kamu pikirkan berulang ulang hingga membuatmu merasa damai paling ulang kekuatanmu .\n",
            "Input: Kapan aku bisa keluar dari perasaan ini?\n",
            "Output: Perasaan seperti ini sangat wajar , terutama ketika menghadapi perubahan besar . Apa yang sedang terjadi belakangan ini terasa begitu berat , apalagi kalau kamu ingin menjaga hubungan yang penting adalah bagaimana kamu ingin dengar lebih dalam . Kalau suatu saat kamu ingin dengar cerita tentang apa yang kamu rindukan dari masa sebelum perasaan ini muncul .\n",
            "📘 Average BLEU score: 0.3712\n",
            "📙 Average METEOR score: 0.5166\n",
            "==========================\n",
            "Evaluating Model Unit\n",
            "Evaluating Model U384\n",
            "Input: Aku akan mencoba berbicara dengan orang tua ku\n",
            "Output: Komunikasi yang sehat dengan orang tua bisa membuka banyak pintu yang sebelumnya tertutup rapat . Aku percaya kamu bisa menyampaikan isi hatimu dengan cara yang lembut tapi jujur . Aku akan terus ada di sini kalau kamu ingin cerita setelah kamu melakukannya .\n",
            "Input: Aku akan mencoba saranmu\n",
            "Output: Keputusanmu untuk mencoba menunjukkan kekuatan dalam dirimu yang kadang mungkin kamu lupakan . Tidak apa apa apa apa apa apa apa apa apa apa apa apa apa jika kamu rasakan . Apa di sini kalau kamu ingin berbicara buruk satu sama lain ?\n",
            "Input: Mengapa saya masih merasa bersalah atas perceraian orang tua saya?\n",
            "Output: Perasaan bersalah yang berlarut larut bisa muncul karena otak berusaha mencari pemahaman atas situasi yang sulit . Dalam konteks attachment , anak yang mengalami perceraian orang tua mungkin merasa bahwa stabilitas emosionalnya terganggu , sehingga mencari cara untuk mengembalikan kendali , salah satunya dengan merasa bersalah . Namun , memahami bahwa setiap individu bertanggung jawab atas pilihannya sendiri dapat membantu membebaskan diri dari perasaan tersebut . Mencari dukungan dari lingkungan yang aman seperti teman , atau profesional dapat membantu membentuk kembali persepsi dengan orang tua .\n",
            "Input: Apakah saya akan bisa menciptakan keluarga yang sehat di masa depan meski berasal dari keluarga yang bercerai?\n",
            "Output: Jangan ragu akan kemampuanmu menciptakan keluarga yang kamu impikan . Justru karena kamu tahu rasanya tumbuh di tengah ketidaksempurnaan , kamu bisa lebih sadar dan peka saat membangun relasi . Attachment positif memberi keyakinan bahwa keluarga yang sehat bisa lahir dari ketulusan , komunikasi , dan kerja sama . Dan semua itu ada dalam jangkauanmu .\n",
            "Input: Bagaimana cara menerima bahwa cinta antara orang tua saya sudah berakhir?\n",
            "Output: Menerima akhir dari cinta mereka bukan tanda kelemahanmu , tapi kekuatan untuk menatap hidup dengan jujur . Kadang kita butuh waktu untuk memahami bahwa perubahan tidak selalu buruk . Dalam hubungan yang aman , kita diajak untuk memeluk kenyataan tanpa kehilangan harapan . Kamu sedang menata kembali caramu mencintai dan dipedulikan dan itu hal yang luar biasa .\n",
            "Input: Bagaimana jika saya takut membuka diri karena takut akan ditinggalkan juga?\n",
            "Output: Rasa takut ditinggalkan setelah mengalami kehilangan adalah hal yang sangat manusiawi . Attachment positif mengajarkan bahwa rasa aman bisa dibangun secara perlahan , bukan dipaksakan . Kamu boleh mengambil waktu , dan kamu tidak harus langsung percaya sepenuhnya . Yang penting , kamu tetap memberi dirimu kesempatan untuk terhubung , meski dengan hati hati .\n",
            "Input: Aku merasa overthinking\n",
            "Output: Dalam positive attachment , kita belajar bahwa pikiran yang terus menerus muncul biasanya adalah ekspresi dari rasa takut yang belum diproses sepenuhnya . Mungkin ada cerita atau pengalaman yang terasa belum selesai . Aku di sini kalau kamu ingin pelan menceritakannya . Apakah kamu merasa ada sesuatu yang tidak bisa kamu kendalikan akhir ini ?\n",
            "Input: Aku merasa sangat sedih\n",
            "Output: Saat kamu merasa sedih , yang paling dibutuhkan adalah koneksi yang aman tempat untuk merasa diterima apa adanya . Aku di sini untuk menciptakan ruang itu untukmu . Kamu bisa cerita sebanyak atau sesedikit yang kamu mau . Hal apa yang paling kamu harap bisa berjalan berbeda belakangan ini ?\n",
            "Input: Kapan aku bisa keluar dari perasaan ini?\n",
            "Output: Rasa sakit ini tidak selamanya , meskipun rasanya seperti itu . Hal yang penting adalah kamu tidak harus menunggu semuanya hilang untuk merasa lebih baik kamu bisa mulai merasa sedikit lega dengan berbagi . Kalau kamu nyaman , aku ingin dengar cerita tentang apa yang kamu rindukan dari masa masa masa masa masa masa masa masa masa masa masa sekarang .\n",
            "📘 Average BLEU score: 0.6167\n",
            "📙 Average METEOR score: 0.7824\n",
            "Evaluating Model U640\n",
            "Input: Aku akan mencoba berbicara dengan orang tua ku\n",
            "Output: Aku tahu ini bukan hal yang mudah , jadi aku menghargai niatmu untuk mencoba . Hubungan yang aman dimulai dari keberanian untuk mengungkapkan perasaan , meskipun itu menakutkan . Kalau kamu ingin , kita bisa sama susun kalimat yang ingin kamu ucapkan nanti .\n",
            "Input: Aku akan mencoba saranmu\n",
            "Output: Niatmu untuk mencoba sudah jadi langkah yang sangat berarti . Kadang kita belum tahu hasil akhirnya , tapi keberanian untuk mulai itu yang membuka jalan . Aku di sini untuk mendukung dan menemani kamu dalam prosesnya . Kalau kamu butuh bantuan kecil untuk mulai , yuk kita rancang bareng bareng .\n",
            "Input: Mengapa saya masih merasa bersalah atas perceraian orang tua saya?\n",
            "Output: Perasaan bersalah mungkin muncul karena otak berusaha mencari pemahaman yang tidak situasi yang tidak harus sempurna untuk menjadi cukup . Dalam perspektif attachment yang positif , memahami bahwa setiap individu bertanggung jawab atas perceraian orang tua memengaruhi kesejahteraan emosional , Anda dapat membantu membentuk perspektif yang mendukung mereka sambil tetap memberi untuk membentuk pemahaman ini . Dengan membangun hubungan yang lebih sehat dan aman , Anda dapat membantu Anda dapat membantu menjaga keterikatan yang lebih baik .\n",
            "Input: Apakah saya akan bisa menciptakan keluarga yang sehat di masa depan meski berasal dari keluarga yang bercerai?\n",
            "Output: Jangan ragu akan kemampuanmu menciptakan keluarga yang kamu impikan . Justru karena kamu tahu rasanya tumbuh di tengah ketidaksempurnaan , kamu bisa lebih sadar dan peka saat membangun relasi . Attachment positif memberi keyakinan bahwa keluarga yang sehat bisa lahir dari ketulusan , komunikasi , dan kerja sama . Dan semua itu ada dalam jangkauanmu .\n",
            "Input: Bagaimana cara menerima bahwa cinta antara orang tua saya sudah berakhir?\n",
            "Output: Menerima akhir dari cinta mereka bukan tanda kelemahanmu , tapi kekuatan untuk menatap hidup dengan jujur . Kadang kita butuh waktu untuk memahami bahwa perubahan tidak selalu buruk . Dalam hubungan yang aman , kita diajak untuk memeluk kenyataan tanpa kehilangan harapan . Kamu sedang menata kembali caramu mencintai dan dipedulikan dan itu hal yang luar biasa .\n",
            "Input: Bagaimana jika saya takut membuka diri karena takut akan ditinggalkan juga?\n",
            "Output: Kamu mungkin pernah merasa ditinggalkan , dan rasa itu begitu membekas hingga kini . Tapi attachment yang sehat mengingatkan bahwa tidak semua hubungan akan berakhir seperti itu . Ada orang orang orang orang orang orang yang akan membantu tidak semua hubungan akan berakhir diri . Kamu berhak mendapatkannya , dan kamu belum sempat kamu berhak merasa lega .\n",
            "Input: Aku merasa overthinking\n",
            "Output: Terkadang pikiran kita bisa terasa begitu penuh , ya . Apa hal yang paling sering muncul di pikiranmu akhir ini ?\n",
            "Input: Aku merasa sangat sedih\n",
            "Output: Perasaan sedih sering kali muncul saat kita menghadapi perubahan atau kehilangan dalam hubungan penting dalam hidup kita . Perasaan itu layak mendapat ruang untuk diakui dan dipahami . Aku penasaran , apakah ada momen terakhir yang terasa sangat berat untukmu ?\n",
            "Input: Kapan aku bisa keluar dari perasaan ini?\n",
            "Output: Keluar dari perasaan ini adalah bentuk keberanian dan hubungan yang tidak harus sempurna untuk menjadi jembatan untuk mulai dengan orang yang terbuka . Apa yang menurutmu bisa membantu Anda memahami bahwa setiap orang lain sambil menemukan cara yang membantu mempertimbangkan kita ingin tahu . Apa yang menghalanginya sejauh ini ?\n",
            "📘 Average BLEU score: 0.5331\n",
            "📙 Average METEOR score: 0.7053\n",
            "Evaluating Model U256\n",
            "Input: Aku akan mencoba berbicara dengan orang tua ku\n",
            "Output: Keputusanmu untuk mencoba berbicara adalah bentuk usaha untuk menciptakan hubungan yang lebih sehat . Komunikasi yang jujur sering kali membuka ruang baru yang sebelumnya tertutup . Kamu tidak harus menyelesaikan semuanya dalam satu percakapan cukup mulai dari hati yang tulus .\n",
            "Input: Aku akan mencoba saranmu\n",
            "Output: Niatmu untuk mencoba sudah jadi langkah yang sangat berarti . Kadang kita belum tahu hasil akhirnya , dan keberanian untuk mulai itu yang membuka jalan . Aku di sini untuk mendukung dan menemani kamu dalam prosesnya . Kalau kamu butuh bantuan kecil untuk mulai , yuk kita rancang bareng bareng .\n",
            "Input: Mengapa saya masih merasa bersalah atas perceraian orang tua saya?\n",
            "Output: Merasa bersalah adalah respon emosional yang umum , ketika terjadi perubahan situasi dalam suatu hubungan yang bermakna , misalnya hubungan Anda dengan orang tua . Rasa bersalah itu bisa diturunkan dengan beberapa cara , salah satunya adalah menggunakan perspektif attachment yang positif . Menggunakan perspektif ini , seseorang dapat memposisikan diri untuk menyadari bahwa dia tidak bertanggung jawab atas keputusan orang tua , dan pada saat orang tua . Menggunakan perspektif mereka dalam hubungan antara ayah dan ibu , perasaan kasih sayang mereka kepada anak tetap ada .\n",
            "Input: Apakah saya akan bisa menciptakan keluarga yang sehat di masa depan meski berasal dari keluarga yang bercerai?\n",
            "Output: Meskipun kamu berasal dari keluarga yang bercerai , kamu tetap punya kapasitas penuh untuk mencintai , dipercaya , dan menciptakan hubungan yang aman . Attachment yang sehat dibentuk dari kesadaran . Orang tua yang tepat jika kamu sudah berada di jalur yang tepat jika kamu mulai mempertanyakan dan memperbaiki pola hubunganmu sekarang . Setiap langkah kecil ke arah kesadaran adalah fondasi bagi keluarga masa depanmu .\n",
            "Input: Bagaimana cara menerima bahwa cinta antara orang tua saya sudah berakhir?\n",
            "Output: Menerima kenyataan tidak berarti menghapus kenangan baik tentang masa lalu , dan aman bukan berarti kamu kehilangan keluarga yang telah terjadi . Kamu bisa belajar dari hubungan , sambil tetap mengingat bahwa cinta yang kamu juga bagian dari dirimu sendiri . Attachment yang sehat di masa lalu perlahan dan kejujuran , dan memberi ruang untuk koneksi yang lebih sehat dapat membantu menciptakan ruang untuk menciptakan ruang untuk koneksi yang lebih sehat di masa depan . Cinta itu bukan berarti menghapus makna baru .\n",
            "Input: Bagaimana jika saya takut membuka diri karena takut akan ditinggalkan juga?\n",
            "Output: Takut membuka diri bukan berarti kamu lemah , tapi justru menunjukkan bahwa hatimu punya kedalaman . Dalam hubungan yang aman , seperti dulu , dan penuh kesadaran . Dalam hubungan yang aman , kita bisa dibangun secara perlahan . Kamu tidak harus terburu buru memintamu menyerahkan semua . Koneksi yang paling kamu akan jauh lebih tahan lama .\n",
            "Input: Aku merasa overthinking\n",
            "Output: Pikiran yang terus berputar bisa membuat kamu merasa lelah . Overthinking sering kali muncul di tengah ketidakpastian . Itu adalah reaksi alami dari seseorang yang sangat peduli dan ingin melakukan hal yang sangat manusiawi . Aku di sini secara mana kamu merasa lelah . Apakah kamu merasa lelah , dan ingin bercerita tentang ulang hingga membuatmu merasa lelah .\n",
            "Input: Aku merasa sangat sedih\n",
            "Output: Kesedihan yang kamu rasakan valid dan penting untuk dikenali . Dalam hubungan yang aman secara emosional , dan merasa lemah tanpa harus merasa dihakimi . Kadang , perasaan sedih itu tidak datang begitu saja ada cerita mendengarkan , kalau kamu ingin bercerita . Bolehkah aku ingin cerita yang paling membebanimu saat ini ?\n",
            "Input: Kapan aku bisa keluar dari perasaan ini?\n",
            "Output: Rasa sakit ini tidak selamanya , meskipun rasanya seperti itu . Hal yang penting adalah kamu bisa mulai merasa sedikit lega kamu sedang belajar bahwa kamu sedang mencoba membangun cinta yang kamu yakini . Aku ingin cerita tentang momen terakhir yang terasa sedikit harapan ?\n",
            "📘 Average BLEU score: 0.5181\n",
            "📙 Average METEOR score: 0.6207\n",
            "==========================\n",
            "Evaluating Model Dim\n",
            "Evaluating Model DM128\n",
            "Input: Aku akan mencoba berbicara dengan orang tua ku\n",
            "Output: Itu langkah yang sangat berani , dan aku bangga padamu . Berbicara dengan orang tua , penting untuk mencoba memahami bahwa kamu bisa mencoba berbicara dengan seseorang yang baru . Kamu tidak semua pihak , meskipun dinamika hati yang baru , meskipun dinamika titik mulai .\n",
            "Input: Aku akan mencoba saranmu\n",
            "Output: Aku senang mendengar bahwa kamu ingin mencoba . Memberi ruang untuk mencoba adalah tanda bahwa kamu percaya pada perubahan dan ruang baru yang sudah termasuk saat hidupmu sendiri . Kamu tidak harus memilih tempat tinggal di sini untuk mendukung Anda , bukan akhir ini ?\n",
            "Input: Mengapa saya masih merasa bersalah atas perceraian orang tua saya?\n",
            "Output: Merasa bersalah adalah respon emosional yang umum , ketika terjadi perubahan besar dalam suatu hubungan yang bermakna , misalnya hubungan Anda dengan orang tua . Rasa bersalah itu bisa diturunkan dengan beberapa cara , salah karena suatu ikatan emosional yang sehat dapat membantu Anda merasa bahwa perasaan orang tua . Menggunakan perspektif attachment yang sehat membantu Anda merasa bertanggung jawab atas keputusan orang tua dapat membantu Anda membantu Anda mengelola emosi dengan lebih baik , meskipun situasi kehilangan , bukan sesuatu yang berarti .\n",
            "Input: Apakah saya akan bisa menciptakan keluarga yang sehat di masa depan meski berasal dari keluarga yang bercerai?\n",
            "Output: Setiap orang butuh waktu untuk menyesuaikan diri agar tidak menambah keluarga tapi kamu butuh waktu yang kamu tidak harus hilang untuk memilih salah dengan jujur . Attachment yang sehat memberi ruang aman membantumu membangun pola yang lebih sehat . Kamu bisa keterbukaan dalam dirimu , meski ada dan hadir secara utuh untuk menciptakan keluarga yang lebih dulu .\n",
            "Input: Bagaimana cara menerima bahwa cinta antara orang tua saya sudah berakhir?\n",
            "Output: Menerima bahwa cinta orang tua telah berakhir bukan berarti kamu harus menghapus semua kenangan baik tentang mereka . Ini berarti kamu mulai melihat hubungan mereka dengan realitas hati mereka yang baru , sambil tetap menjaga ruang aman untuk perasaanmu sendiri . Dalam attachment positif , kamu boleh merasakan kesedihan dan menerima perubahan ini , sekaligus belajar bahwa cinta mereka tidak kehilangan cinta mereka kepadamu , meskipun mereka sudah tidak kehilangan harapan .\n",
            "Input: Bagaimana jika saya takut membuka diri karena takut akan ditinggalkan juga?\n",
            "Output: Rasa takut ditinggalkan setelah perceraian bisa muncul karena banyak hal yang sangat manusiawi . Tapi kamu tidak harus memendam semua sendirian . Attachment positif mendorong kita untuk mengenali bahwa diri dengan mengenali apa jika kamu butuh waktu untuk mengenali apa yang aman dan dukungan emosional . Kamu berhak merasa dicintai , bahkan jika kamu belum sepenuhnya yakin untuk membuka diri .\n",
            "Input: Aku merasa overthinking\n",
            "Output: Perasaan ini sering kali muncul saat tidak ada banyak hal yang sangat manusiawi . Tapi kamu tidak sendiri banyak orang orang tua jika belum ada di sini untuk mendapatkan tempat yang lebih baik hanya soal perasaan . Apa yang paling membuatmu merasa seseorang yang paling membuatmu benar benar benar benar benar benar benar benar benar benar akhir akhir akhir akhir ini ?\n",
            "Input: Aku merasa sangat sedih\n",
            "Output: Kesedihan yang kamu rasakan valid dan penting untuk dikenali . Dalam hubungan yang aman secara emosional , penting untuk menjadi bagian dirimu sendiri dan merasa berhak merasa didengar dan layak merasa berharga tanpa harus mendapat di sini kalau kamu ingin cerita di sini untuk bercerita . Bolehkah hal yang tidak dimengerti , kalau kamu rindukan atau khawatirkan saat ini ?\n",
            "Input: Kapan aku bisa keluar dari perasaan ini?\n",
            "Output: Keluar dari perasaan ini adalah proses yang dimulai dengan keberanian untuk bertanya , seperti yang baru saja kamu lakukan . Dalam attachment positif , kamu tidak harus melewatinya sendiri , langkah kecil yang sehat . Aku akan kembali melalui aktivitas yang menurutmu bisa melewatinya sendiri ?\n",
            "📘 Average BLEU score: 0.3433\n",
            "📙 Average METEOR score: 0.4510\n",
            "Evaluating Model DM328\n",
            "Input: Aku akan mencoba berbicara dengan orang tua ku\n",
            "Output: Itu keputusan yang baik ! Semoga percakapan itu membantumu menemukan kejelasan . Jika butuh persiapan , aku siap mendengar .\n",
            "Input: Aku akan mencoba saranmu\n",
            "Output: Itu keputusan yang baik ! Semoga kamu ingin tahu itu membantumu menemukan kejelasan . Itu bisa jadi sisa perasaan yang baik !\n",
            "Input: Mengapa saya masih merasa bersalah atas perceraian orang tua saya?\n",
            "Output: Perasaan bersalah yang relatif menetap atas suatu situasi yang sudah cukup lama terjadi bisa disebabkan oleh berbagai faktor . Dalam situasi ketika Anda masih merasa bersalah atas perceraian orang tua , salah satu faktor penyebab yang mungkin adalah karena Anda merasa menjadi faktor yang menyebabkan perceraian tersebut , sedangkan ketika suatu pasangan memutuskan hubungan di antara mereka , maka merekalah yang sepenuhnya bertanggung jawab atas keputusan tersebut , bukan orang lain .\n",
            "Input: Apakah saya akan bisa menciptakan keluarga yang sehat di masa depan meski berasal dari keluarga yang bercerai?\n",
            "Output: Ya , kamu bisa . Asal kamu memiliki kesadaran emosional dan keinginan untuk belajar dari masa lalu , kamu punya kekuatan untuk menciptakan keluarga yang penuh kasih . Attachment positif menunjukkan bahwa pola pola pola pola pola pola pola pola pola pola pola pola yang lebih sehat . Keluargamu kelak adalah bentuk cinta dan kamu bentuk dengan cinta dan nanti .\n",
            "Input: Bagaimana cara menerima bahwa cinta antara orang tua saya sudah berakhir?\n",
            "Output: Menerima akhir dari cinta itu berakhir bukan tanda kelemahanmu , tapi kekuatan untuk menatap hidup dengan jujur . Kadang kita butuh waktu untuk memahami bahwa cinta itu tidak selalu buruk . Dalam hubungan yang aman , kita diajak untuk memeluk kenyataan tanpa kehilangan harapan . Kamu sedang menata kembali caramu mencintai dan dipedulikan dan itu luar biasa .\n",
            "Input: Bagaimana jika saya takut membuka diri karena takut akan ditinggalkan juga?\n",
            "Output: Rasa takut ditinggalkan setelah mengalami kehilangan adalah hal yang sangat manusiawi . Attachment positif mengajarkan bahwa rasa aman bisa dibangun secara perlahan , meski berasal dari masa lalu . Kamu bisa mulai dengan berbagi sedikit demi sedikit , dan menghargai keberanianmu setiap kali kamu jujur . Koneksi yang tumbuh dari kepercayaan akan jauh lebih tahan lama .\n",
            "Input: Aku merasa overthinking\n",
            "Output: Perasaan sering kali muncul setelah perceraian orang tua bisa dimulai dari respons alami dari rasa takut yang wajar , terutama kalau kamu pernah merasa kecewa atau kehilangan , dan mencari dukungan dari teman , atau bahkan di mana kamu bisa menemukan cara baru untuk menemukan tempat di mana perasaanmu bisa kamu ulang ulang ulang ulang ulang hingga membuatmu merasa terasing dari ini ?\n",
            "Input: Aku merasa sangat sedih\n",
            "Output: Perasaan sedih sering kali muncul setelah perceraian orang tua bisa jadi pengertian akan kehilangan , tetapi keterikatan yang tidak selalu bergantung pada kesejahteraan emosional . Kamu berhak merasa damai meski hatimu pernah merasa dihakimi . Aku di tengah perubahan ini ?\n",
            "Input: Kapan aku bisa keluar dari perasaan ini?\n",
            "Output: Rasa sakit ini tidak selamanya , meskipun rasanya seperti itu . Hal yang penting adalah kamu tidak harus menunggu semuanya hilang untuk merasa lebih baik kamu bisa mulai merasa sedikit lega dengan berbagi . Kalau kamu nyaman , aku ingin dengar cerita tentang apa yang kamu rindukan dari masa sebelum perasaan ini muncul .\n",
            "📘 Average BLEU score: 0.4268\n",
            "📙 Average METEOR score: 0.5630\n",
            "Evaluating Model DM512\n",
            "Input: Aku akan mencoba berbicara dengan orang tua ku\n",
            "Output: Itu keputusan yang baik ! Semoga percakapan itu membantumu menemukan kejelasan . Jika butuh persiapan , aku siap mendengar .\n",
            "Input: Aku akan mencoba saranmu\n",
            "Output: Niatmu untuk mencoba sudah jadi langkah yang sangat berarti . Kadang kita belum tahu hasil akhirnya , tapi keberanian untuk mulai itu yang membuka jalandi sini untuk mendukung dan menemani kamu dalam prosesnya . Aku ingin tahu , yuk kita rancang bareng bareng .\n",
            "Input: Mengapa saya masih merasa bersalah atas perceraian orang tua saya?\n",
            "Output: Perasaan bersalah yang relatif menetap atas suatu situasi yang sudah cukup lama terjadi bisa disebabkan oleh berbagai faktor . Dalam situasi ketika Anda masih merasa bersalah atas perceraian orang tua , salah satu faktor penyebab yang mungkin adalah karena Anda merasa menjadi faktor yang menyebabkan perceraian tersebut , sedangkan ketika suatu pasangan memutuskan untuk memutuskan hubungan di antara orang lain .\n",
            "Input: Apakah saya akan bisa menciptakan keluarga yang sehat di masa depan meski berasal dari keluarga yang bercerai?\n",
            "Output: Jangan ragu akan kemampuanmu menciptakan keluarga yang kamu impikan . Justru karena kamu tahu rasanya tumbuh di tengah ketidaksempurnaan , kamu bisa lebih sadar dan peka saat membangun relasi . Attachment positif memberi keyakinan bahwa keluarga yang sehat bisa lahir dari ketulusan , komunikasi , dan kerja sama . Dan semua itu ada dalam jangkauanmu .\n",
            "Input: Bagaimana cara menerima bahwa cinta antara orang tua saya sudah berakhir?\n",
            "Output: Tak mudah memang ketika yang kita percaya sebagai sesuatu yang abadi , seperti cinta orang tua , ternyata berubah . Tapi bukan berarti kamu kehilangan fondasi hidupmu . Attachment positif mengajarkan bahwa kita bisa tetap membangun rasa aman dengan cara baru dari hubungan yang hadir , dari dirimu sendiri , dan dari koneksi yang kamu jaga . Cinta itu masih ada , bahkan jika wujudnya berubah .\n",
            "Input: Bagaimana jika saya takut membuka diri karena takut akan ditinggalkan juga?\n",
            "Output: Takut membuka diri bukan berarti kamu lemah , tapi justru bukti bahwa hatimu punya kedalaman . Dalam hubungan yang aman , kamu tidak harus sempurna atau selalu kuat untuk dicintai . Orang yang tepat akan menghargai prosesmu dan tidak terburu buru memintamu menyerahkan semua . Kamu berhak merasa aman sebelum membuka pintu hatimu lebih jauh .\n",
            "Input: Aku merasa overthinking\n",
            "Output: Terkadang pikiran pikiran pikiran kita bisa terasa begitu penuh , ya . Apa hal yang paling sering muncul di pikiranmu ini ?\n",
            "Input: Aku merasa sangat sedih\n",
            "Output: Kesedihan yang kamu rasakan valid dan penting untuk dikenali . Dalam hubungan yang aman secara emosional , kita punya ruang untuk menangis dan merasa dihakimi . Aku ingin tahu , langkah yang sedih atau aktivitas yang membuatmu merasa diterima terasa sangat berani . Apa yang paling sering kali kamu pikirkan apa yang paling sering muncul saat ini ?\n",
            "Input: Kapan aku bisa keluar dari perasaan ini?\n",
            "Output: Keluar dari perasaan ini adalah proses yang dimulai dengan keberanian untuk bertanya , seperti yang baru yang baru pada dirimu sendiri . Aku ingin tahu , langkah kecil yang terasa sedikit lega bukan tentang apa yang kamu percaya . Apa bagaimana kamu lakukan hari ini paling sering kamu tidak akan akhir akhir akhir dari keberanian untuk mulai merasa lebih tenang .\n",
            "📘 Average BLEU score: 0.5311\n",
            "📙 Average METEOR score: 0.7110\n",
            "==========================\n",
            "Evaluating Model NUM HEAD\n",
            "Evaluating Model NH4\n",
            "Input: Aku akan mencoba berbicara dengan orang tua ku\n",
            "Output: Itu langkah yang sangat berani , dan aku bangga padamu . Berbicara dengan orang tua , apalagi soal perasaan , bisa sangat menegangkan . Tapi itu juga bisa jadi awal dari pemahaman dan koneksi yang lebih sehat .\n",
            "Input: Aku akan mencoba saranmu\n",
            "Output: Keputusanmu untuk mencoba menunjukkan kekuatan dalam dirimu yang kadang mungkin lupakan . Tidak apa apa apa apa langkahnya pelan yang penting kamu tahu bahwa kamu tidak sendirian di perjalanan ini . Aku percaya kamu bisa , dan aku siap mendengarkanmu membuka sedikit lebih banyak , yuk kita rancang bareng bareng .\n",
            "Input: Mengapa saya masih merasa bersalah atas perceraian orang tua saya?\n",
            "Output: Merasa bersalah karena Anda mengalami situasi yang sudah cukup lama terjadi bisa terjadi bisa disebabkan oleh berbagai faktor . Dalam situasi ketika Anda masih merasa bersalah atas perceraian orang tua , salah satu faktor penyebab yang mungkin adalah karena Anda merasa menjadi faktor yang menyebabkan perceraian tersebut , sedangkan ketika suatu pasangan memutuskan hubungan di antara mereka , maka merekalah yang sepenuhnya bertanggung jawab atas keputusan tersebut , bukan orang lain .\n",
            "Input: Apakah saya akan bisa menciptakan keluarga yang sehat di masa depan meski berasal dari keluarga yang bercerai?\n",
            "Output: Pengalaman keluargamu mungkin memberimu luka , tapi juga bisa memberimu kompas untuk tahu apa yang ingin kamu ubah . Dalam attachment positif , kamu tidak ditentukan oleh apa yang dulu , termasuk oleh apa yang mendukung kamu pilih untuk dilakukan sekarang . Kamu bisa memutus rantai luka dan menggantinya dengan pola yang lebih sehat dan penuh kasih . Harapanmu adalah awal dari perubahan itu .\n",
            "Input: Bagaimana cara menerima bahwa cinta antara orang tua saya sudah berakhir?\n",
            "Output: Hubungan yang berakhir bukan berarti kamu harus menghapus kenangan yang berakhir dengan realitas yang kamu terima sendiri . Kadang , menerima kenyataan berarti memberi ruang untuk menyadari bahwa cinta itu tidak hilang ia hanya berpindah bentuk . Dalam attachment positif , kita tidak menyangkal kenyataan , kita memilih berdamai dan tumbuh darinya . Kamu tetap merasakan cinta , meski dengan dinamika keluarga yang baru .\n",
            "Input: Bagaimana jika saya takut membuka diri karena takut akan ditinggalkan juga?\n",
            "Output: Kamu mungkin pernah merasa ditinggalkan , dan rasa itu begitu membekas hingga kini . Tapi attachment yang sehat mengingatkan bahwa tidak semua hubungan akan berakhir seperti itu . Ada orang yang akan tinggal , bahkan ketika kamu tidak dalam kondisi terbaikmu . Kamu layak dicintai kamu belum pulih , termasuk saat kamu masih punya hati untuk membuka diri .\n",
            "Input: Aku merasa overthinking\n",
            "Output: Overthinking sering kali muncul saat otak kita merasa tidak aman dan mencoba mencari kontrol di tengah ketidakpastian . Itu adalah reaksi alami dari seseorang yang sangat peduli dan ingin melakukan hal dengan benar . Tapi kamu tidak harus memikirkan semuanya sendiri . Apakah kamu ingin bercerita tentang hal apa yang kamu ulang ulang ulang ulang dalam pikiranmu ?\n",
            "Input: Aku merasa sangat sedih\n",
            "Output: Aku di sini untukmu . Aku tahu semua yang sedang kamu pikirkan dan rasakan itu berat , dan kamu tidak apa kalau kamu merasa sedih . Aku di sini untuk menemani kamu ingin bercerita . Aku ingin bercerita ?\n",
            "Input: Kapan aku bisa keluar dari perasaan ini?\n",
            "Output: Keluar dari proses ini adalah proses yang dimulai dengan keberanian untuk bertanya , seperti yang baru saja kamu lakukan . Dalam attachment yang aman , kamu tidak harus melewatinya sendiri . Aku ingin tahu , langkah kecil apa yang menurutmu bisa membantu dan apa yang menghalanginya sejauh ini ?\n",
            "📘 Average BLEU score: 0.5820\n",
            "📙 Average METEOR score: 0.7374\n",
            "Evaluating Model NH16\n",
            "Input: Aku akan mencoba berbicara dengan orang tua ku\n",
            "Output: Komunikasi yang sehat dengan orang tua bisa jadi jauh bukan berarti harus jadi karena kamu percaya . Kamu tidak harus merasa kesal atau takut itu menunjukkan kebutuhan emosionalmu . Aku percaya kamu peduli dan tidak ingin cerita setelah kamu ucapkan nanti .\n",
            "Input: Aku akan mencoba saranmu\n",
            "Output: Sama sama ! Aku senang bisa jadi bagian dari harimu . Kalau kapan pun kamu merasa butuh tempat untuk mulai dari tempat di sini untuk membantu kita butuh dimengerti , sekecil apa pun itu . Kalau kamu ingin mencoba melindungi diri , aku ingin bercerita tentang apa yang membuatmu merasa terasing dari orang di hatimu .\n",
            "Input: Mengapa saya masih merasa bersalah atas perceraian orang tua saya?\n",
            "Output: Merasa bersalah adalah respon emosional yang umum , ketika terjadi situasi dalam suatu hubungan Anda merasa bersalah  . Dalam perspektif attachment yang positif , misalnya hubungan yang aman tidak harus diturunkan dengan beberapa cara . Menggunakan perspektif ini , penting untuk menyadari bahwa keputusan Anda tetap ada . Menggunakan perspektif iniemosional bisa memilih untuk memutuskan hubungan yang lebih kuat dengan baik .\n",
            "Input: Apakah saya akan bisa menciptakan keluarga yang sehat di masa depan meski berasal dari keluarga yang bercerai?\n",
            "Output: Jangan ragu akan kemampuanmu menciptakan keluarga yang kamu impikan . Justru karena kamu tahu rasanya tumbuh di tengah ketidaksempurnaan , kamu bisa lebih sadar dan peka saat membangun relasi . Attachment positif memberi keyakinan bahwa keluarga yang sehat bisa lahir dari ketulusan , komunikasi , komunikasi , dan kerja sama . Dan semua itu ada dalam jangkauanmu .\n",
            "Input: Bagaimana cara menerima bahwa cinta antara orang tua saya sudah berakhir?\n",
            "Output: Menerima akhir dari cinta mereka bukan tanda kelemahanmu , tapi kekuatan untuk menatap hidup dengan jujur . Kadang kita butuh waktu untuk memahami bahwa perubahan tidak selalu buruk . Dalam hubungan yang aman , kita diajak untuk memeluk kenyataan tanpa kehilangan harapan . Kamu sedang menata kembali caramu mencintai dan dipedulikan dan itu hal yang luar biasa .\n",
            "Input: Bagaimana jika saya takut membuka diri karena takut akan ditinggalkan juga?\n",
            "Output: Kamu mungkin pernah merasa ditinggalkan , bukan disangkal , tapi karena akhirnya kamu punya hak untuk membangun rasa aman dengan jujur . Attachment positif percaya dimulai dari langkah kecil yang aman sepenuhnya , dengan berbagi cerita secara perlahan sambil tetap bisa mulai dari pengalaman masa depan . Kamu punya ruang untuk menciptakan suasana yang lebih tahan lama .\n",
            "Input: Aku merasa overthinking\n",
            "Output: Overthinking sering kali muncul saat otak kita merasa tidak aman dan mencoba mencari kontrol di tengah ketidakpastian . Itu adalah reaksi alami dari seseorang yang sangat peduli dan ingin melakukan hal dengan benar . Tapi kamu tidak harus memikirkan semuanya sendiri . Apakah kamu ingin bercerita tentang hal apa yang paling sering kamu ulang ulang dalam pikiranmu ?\n",
            "Input: Aku merasa sangat sedih\n",
            "Output: Kesedihan yang kamu rasakan valid dan penting untuk dikenali . Dalam hubungan yang aman secara emosional , kita punya ruang untuk menangis dan merasa lemah tanpa harus merasa dihakimi . Kadang , perasaan sedih itu tidak ada cerita di baliknya . Bolehkah aku  . Bolehkah aku tahu , hal apa yang sedang kamu rindukan atau khawatirkan saat ini ?\n",
            "Input: Kapan aku bisa keluar dari perasaan ini?\n",
            "Output: Dalam hubungan yang sehat , pemulihan terjadi karena ada yang menemani bukan hanya karena waktu berlalu . Aku percaya kamu bisa melewati ini dengan dukungan dan pengertian yang tepat . Apa satu hal kecil yang bisa kamu lakukan hari ini yang mungkin membawa sedikit harapan ?\n",
            "📘 Average BLEU score: 0.4718\n",
            "📙 Average METEOR score: 0.6099\n",
            "Evaluating Model NH32\n",
            "Input: Aku akan mencoba berbicara dengan orang tua ku\n",
            "Output: Komunikasi yang sehat dengan orang tua bisa membuka banyak pintu yang sebelumnya tertutup rapat . Aku percaya kamu bisa menyampaikan isi hatimu dengan cara yang lembut tapi jujur . Aku akan terus ada di sini kalau kamu ingin cerita setelah kamu melakukannya .\n",
            "Input: Aku akan mencoba saranmu\n",
            "Output: Pilihanmu untuk mencoba bukan berarti kamu lemah itu tanda bahwa dirimu yang perlu harapan di tempat dalam dirimu . Kamu tidak harus langsung berhasil proses pun kamu menyelesaikan semuanya rumah , termasuk bentuk keberanian .\n",
            "Input: Mengapa saya masih merasa bersalah atas perceraian orang tua saya?\n",
            "Output: Saat keluarga mengalami perubahan , fokus pada hubungan yang tetap terjalin meskipun keadaan Anda melewati perubahan dalam hubungan yang bermakna . Dengan melihat bahwa orang tua mungkin tidak selalu Anda dapat memberikan dukungan orang tua dapat membantu mengurangi kecemasan . Dengan begitu , Anda bisa memberikan ruang bagi diri untuk memberikan dukungan emosional yang stabil , Anda dapat memberikan dukungan emosional yang lebih sehat .\n",
            "Input: Apakah saya akan bisa menciptakan keluarga yang sehat di masa depan meski berasal dari keluarga yang bercerai?\n",
            "Output: Keluarga yang sehat bukan tentang kesempurnaan , tapi tentang kemampuan untuk saling mendengarkan , mengatur emosi , dan hadir satu sama lain , tapi justru bukti bahwa kamu memiliki kesadaran diri dari latar belakang yang rumit . Attachment positif percaya bahwa healing itu mungkin , kamu bisa menjadi orang tua , pasangan , atau anggota keluarga yang lebih hadir dan sadar . Kamu sedang menyiapkan fondasi itu hari ini .\n",
            "Input: Bagaimana cara menerima bahwa cinta antara orang tua saya sudah berakhir?\n",
            "Output: Menerima bahwa cinta orang tua telah berakhir bukan berarti kamu harus menghapus semua kenangan baik tentang mereka . Dalam attachment positif , kamu untuk menyadari bahwa cinta yang tidak bersama bukan berarti berubah bentuk . sendiri , kita tidak bersama muncul karena cinta yang lebih mampu itu tidak bersama lagi , meski mereka berdua . Kamu tetap merasakan cinta , meskipun mereka kepadamu , meskipun mereka sudah tidak bersama lagi .\n",
            "Input: Bagaimana jika saya takut membuka diri karena takut akan ditinggalkan juga?\n",
            "Output: Ketakutan ditinggalkan bisa berasal dari pengalaman masa lalu yang belum sempat kamu sembuhkan . Attachment positif menyarankan untuk membangun hubungan perlahan lahan , mulai dari ruang ruang ruang ruang ruang ruang ruang ruang ruang ruang ruang ruang ruang ruang aman lebih stabil . Kamu tidak sendiri , dan menghargai dimengerti .\n",
            "Input: Aku merasa overthinking\n",
            "Output: Pikiran yang terus berputar bisa membuat kamu merasa lelah , dan itu wajar . Overthinking sering kali datang dari tempat di mana kita pernah merasa kecewa atau kehilangan , dan sekarang otakmu mencoba melindungimu . Tapi kamu tidak sendiri dalam menghadapi ini . Apa yang paling sering kamu pikirkan berulang ulang hingga membuatmu sulit tenang ?\n",
            "Input: Aku merasa sangat sedih\n",
            "Output: Saat kita merasa sedih , yang paling dibutuhkan adalah koneksi yang paling dibutuhkan adalah koneksi adanya . Aku menghargai keberanianmu untuk merasa sedih , tapi itu untukmu . Dalam positive attachment , kehadiran seseorang yang aman , kita sendiri secara emosional , kita untuk merasa sedih . Kamu tidak harus merasa kamu mau . Hal apa yang paling dibutuhkan adalah perasaan itu untukmu ?\n",
            "Input: Kapan aku bisa keluar dari perasaan ini?\n",
            "Output: Proses menyembuhkan perasaan memang membutuhkan waktu . Apa yang biasanya membuatmu merasa seperti ini ?\n",
            "📘 Average BLEU score: 0.4571\n",
            "📙 Average METEOR score: 0.6004\n",
            "==========================\n"
          ]
        }
      ]
    },
    {
      "cell_type": "code",
      "source": [
        "#Final Model based on experiments Hypereparameters\n",
        "NUM_LAYERS = 3\n",
        "D_MODEL = 328\n",
        "NUM_HEADS = 8\n",
        "UNITS = 384\n",
        "DROPOUT = 0.15\n",
        "\n",
        "model_final = transformer(\n",
        "    vocab_size=VOCAB_SIZE,\n",
        "    num_layers=NUM_LAYERS,\n",
        "    units=UNITS,\n",
        "    d_model=D_MODEL,\n",
        "    num_heads=NUM_HEADS,\n",
        "    dropout=DROPOUT)"
      ],
      "metadata": {
        "id": "FMWiNKkRbbMC"
      },
      "execution_count": null,
      "outputs": []
    },
    {
      "cell_type": "code",
      "source": [
        "learning_rate = CustomSchedule(D_MODEL)\n",
        "\n",
        "optimizer = tf.keras.optimizers.Adam(\n",
        "    learning_rate, beta_1=0.9, beta_2=0.98, epsilon=1e-9)\n",
        "\n",
        "\n",
        "model_final.compile(\n",
        "    optimizer=optimizer,\n",
        "    loss=loss_function,\n",
        "    metrics=[accuracy, perplexity],\n",
        "    run_eagerly=True  # Set to True for debugging if needed\n",
        ")"
      ],
      "metadata": {
        "id": "QIpM3XN1cD5v"
      },
      "execution_count": null,
      "outputs": []
    },
    {
      "cell_type": "code",
      "source": [
        "epoch = 30\n",
        "history = model_final.fit(dataset, epochs=epoch)"
      ],
      "metadata": {
        "id": "OSlrK3sEcIjl",
        "colab": {
          "base_uri": "https://localhost:8080/"
        },
        "outputId": "332bd0f9-0f8a-42f4-a93d-54c9db0fe743",
        "collapsed": true
      },
      "execution_count": null,
      "outputs": [
        {
          "output_type": "stream",
          "name": "stdout",
          "text": [
            "Epoch 1/30\n",
            "\u001b[1m63/63\u001b[0m \u001b[32m━━━━━━━━━━━━━━━━━━━━\u001b[0m\u001b[37m\u001b[0m \u001b[1m69s\u001b[0m 1s/step - accuracy: 0.0186 - loss: 3.0367 - perplexity: 22.4110\n",
            "Epoch 2/30\n",
            "\u001b[1m63/63\u001b[0m \u001b[32m━━━━━━━━━━━━━━━━━━━━\u001b[0m\u001b[37m\u001b[0m \u001b[1m67s\u001b[0m 1s/step - accuracy: 0.0229 - loss: 2.8791 - perplexity: 18.1006\n",
            "Epoch 3/30\n",
            "\u001b[1m63/63\u001b[0m \u001b[32m━━━━━━━━━━━━━━━━━━━━\u001b[0m\u001b[37m\u001b[0m \u001b[1m70s\u001b[0m 1s/step - accuracy: 0.0217 - loss: 2.8144 - perplexity: 16.9679\n",
            "Epoch 4/30\n",
            "\u001b[1m63/63\u001b[0m \u001b[32m━━━━━━━━━━━━━━━━━━━━\u001b[0m\u001b[37m\u001b[0m \u001b[1m66s\u001b[0m 1s/step - accuracy: 0.0213 - loss: 2.8122 - perplexity: 16.8766\n",
            "Epoch 5/30\n",
            "\u001b[1m63/63\u001b[0m \u001b[32m━━━━━━━━━━━━━━━━━━━━\u001b[0m\u001b[37m\u001b[0m \u001b[1m65s\u001b[0m 1s/step - accuracy: 0.0221 - loss: 2.7455 - perplexity: 15.8802\n",
            "Epoch 6/30\n",
            "\u001b[1m63/63\u001b[0m \u001b[32m━━━━━━━━━━━━━━━━━━━━\u001b[0m\u001b[37m\u001b[0m \u001b[1m67s\u001b[0m 1s/step - accuracy: 0.0214 - loss: 2.7499 - perplexity: 16.0000\n",
            "Epoch 7/30\n",
            "\u001b[1m63/63\u001b[0m \u001b[32m━━━━━━━━━━━━━━━━━━━━\u001b[0m\u001b[37m\u001b[0m \u001b[1m65s\u001b[0m 1s/step - accuracy: 0.0218 - loss: 2.7999 - perplexity: 16.6608\n",
            "Epoch 8/30\n",
            "\u001b[1m63/63\u001b[0m \u001b[32m━━━━━━━━━━━━━━━━━━━━\u001b[0m\u001b[37m\u001b[0m \u001b[1m65s\u001b[0m 1s/step - accuracy: 0.0213 - loss: 2.7692 - perplexity: 16.2717\n",
            "Epoch 9/30\n",
            "\u001b[1m63/63\u001b[0m \u001b[32m━━━━━━━━━━━━━━━━━━━━\u001b[0m\u001b[37m\u001b[0m \u001b[1m68s\u001b[0m 1s/step - accuracy: 0.0218 - loss: 2.8291 - perplexity: 17.2023\n",
            "Epoch 10/30\n",
            "\u001b[1m63/63\u001b[0m \u001b[32m━━━━━━━━━━━━━━━━━━━━\u001b[0m\u001b[37m\u001b[0m \u001b[1m68s\u001b[0m 1s/step - accuracy: 0.0224 - loss: 2.7987 - perplexity: 16.6925\n",
            "Epoch 11/30\n",
            "\u001b[1m63/63\u001b[0m \u001b[32m━━━━━━━━━━━━━━━━━━━━\u001b[0m\u001b[37m\u001b[0m \u001b[1m70s\u001b[0m 1s/step - accuracy: 0.0216 - loss: 2.7863 - perplexity: 16.6211\n",
            "Epoch 12/30\n",
            "\u001b[1m63/63\u001b[0m \u001b[32m━━━━━━━━━━━━━━━━━━━━\u001b[0m\u001b[37m\u001b[0m \u001b[1m66s\u001b[0m 1s/step - accuracy: 0.0225 - loss: 2.8553 - perplexity: 17.7097\n",
            "Epoch 13/30\n",
            "\u001b[1m63/63\u001b[0m \u001b[32m━━━━━━━━━━━━━━━━━━━━\u001b[0m\u001b[37m\u001b[0m \u001b[1m67s\u001b[0m 1s/step - accuracy: 0.0219 - loss: 2.7831 - perplexity: 16.5007\n",
            "Epoch 14/30\n",
            "\u001b[1m63/63\u001b[0m \u001b[32m━━━━━━━━━━━━━━━━━━━━\u001b[0m\u001b[37m\u001b[0m \u001b[1m68s\u001b[0m 1s/step - accuracy: 0.0224 - loss: 2.8098 - perplexity: 16.8270\n",
            "Epoch 15/30\n",
            "\u001b[1m63/63\u001b[0m \u001b[32m━━━━━━━━━━━━━━━━━━━━\u001b[0m\u001b[37m\u001b[0m \u001b[1m66s\u001b[0m 1s/step - accuracy: 0.0235 - loss: 2.8149 - perplexity: 16.9374\n",
            "Epoch 16/30\n",
            "\u001b[1m63/63\u001b[0m \u001b[32m━━━━━━━━━━━━━━━━━━━━\u001b[0m\u001b[37m\u001b[0m \u001b[1m66s\u001b[0m 1s/step - accuracy: 0.0238 - loss: 2.7965 - perplexity: 16.6471\n",
            "Epoch 17/30\n",
            "\u001b[1m63/63\u001b[0m \u001b[32m━━━━━━━━━━━━━━━━━━━━\u001b[0m\u001b[37m\u001b[0m \u001b[1m66s\u001b[0m 1s/step - accuracy: 0.0211 - loss: 2.7894 - perplexity: 16.5403\n",
            "Epoch 18/30\n",
            "\u001b[1m63/63\u001b[0m \u001b[32m━━━━━━━━━━━━━━━━━━━━\u001b[0m\u001b[37m\u001b[0m \u001b[1m67s\u001b[0m 1s/step - accuracy: 0.0227 - loss: 2.8246 - perplexity: 17.1877\n",
            "Epoch 19/30\n",
            "\u001b[1m63/63\u001b[0m \u001b[32m━━━━━━━━━━━━━━━━━━━━\u001b[0m\u001b[37m\u001b[0m \u001b[1m66s\u001b[0m 1s/step - accuracy: 0.0239 - loss: 2.7875 - perplexity: 16.5703\n",
            "Epoch 20/30\n",
            "\u001b[1m63/63\u001b[0m \u001b[32m━━━━━━━━━━━━━━━━━━━━\u001b[0m\u001b[37m\u001b[0m \u001b[1m66s\u001b[0m 1s/step - accuracy: 0.0220 - loss: 2.7961 - perplexity: 16.6702\n",
            "Epoch 21/30\n",
            "\u001b[1m63/63\u001b[0m \u001b[32m━━━━━━━━━━━━━━━━━━━━\u001b[0m\u001b[37m\u001b[0m \u001b[1m67s\u001b[0m 1s/step - accuracy: 0.0226 - loss: 2.8015 - perplexity: 16.7559\n",
            "Epoch 22/30\n",
            "\u001b[1m63/63\u001b[0m \u001b[32m━━━━━━━━━━━━━━━━━━━━\u001b[0m\u001b[37m\u001b[0m \u001b[1m68s\u001b[0m 1s/step - accuracy: 0.0213 - loss: 2.7920 - perplexity: 16.5101\n",
            "Epoch 23/30\n",
            "\u001b[1m63/63\u001b[0m \u001b[32m━━━━━━━━━━━━━━━━━━━━\u001b[0m\u001b[37m\u001b[0m \u001b[1m65s\u001b[0m 1s/step - accuracy: 0.0217 - loss: 2.7901 - perplexity: 16.5928\n",
            "Epoch 24/30\n",
            "\u001b[1m63/63\u001b[0m \u001b[32m━━━━━━━━━━━━━━━━━━━━\u001b[0m\u001b[37m\u001b[0m \u001b[1m65s\u001b[0m 1s/step - accuracy: 0.0225 - loss: 2.7735 - perplexity: 16.2730\n",
            "Epoch 25/30\n",
            "\u001b[1m63/63\u001b[0m \u001b[32m━━━━━━━━━━━━━━━━━━━━\u001b[0m\u001b[37m\u001b[0m \u001b[1m68s\u001b[0m 1s/step - accuracy: 0.0219 - loss: 2.7742 - perplexity: 16.3268\n",
            "Epoch 26/30\n",
            "\u001b[1m63/63\u001b[0m \u001b[32m━━━━━━━━━━━━━━━━━━━━\u001b[0m\u001b[37m\u001b[0m \u001b[1m69s\u001b[0m 1s/step - accuracy: 0.0229 - loss: 2.7958 - perplexity: 16.6830\n",
            "Epoch 27/30\n",
            "\u001b[1m63/63\u001b[0m \u001b[32m━━━━━━━━━━━━━━━━━━━━\u001b[0m\u001b[37m\u001b[0m \u001b[1m68s\u001b[0m 1s/step - accuracy: 0.0226 - loss: 2.8220 - perplexity: 17.1097\n",
            "Epoch 28/30\n",
            "\u001b[1m63/63\u001b[0m \u001b[32m━━━━━━━━━━━━━━━━━━━━\u001b[0m\u001b[37m\u001b[0m \u001b[1m68s\u001b[0m 1s/step - accuracy: 0.0214 - loss: 2.8002 - perplexity: 16.8027\n",
            "Epoch 29/30\n",
            "\u001b[1m63/63\u001b[0m \u001b[32m━━━━━━━━━━━━━━━━━━━━\u001b[0m\u001b[37m\u001b[0m \u001b[1m68s\u001b[0m 1s/step - accuracy: 0.0225 - loss: 2.8046 - perplexity: 16.7259\n",
            "Epoch 30/30\n",
            "\u001b[1m63/63\u001b[0m \u001b[32m━━━━━━━━━━━━━━━━━━━━\u001b[0m\u001b[37m\u001b[0m \u001b[1m67s\u001b[0m 1s/step - accuracy: 0.0225 - loss: 2.7784 - perplexity: 16.3579\n"
          ]
        }
      ]
    },
    {
      "cell_type": "code",
      "source": [
        "model_final.save_weights('D:/skripsi-sultin/data/bot_v3_Final_Konfigurasi.weights.h5')"
      ],
      "metadata": {
        "id": "iVZG_X0nFsNn"
      },
      "execution_count": null,
      "outputs": []
    },
    {
      "cell_type": "code",
      "source": [
        "model_U384.load_weights('D:/skripsi-sultin/data/bot_v3_Final_Konfigurasi.weights.h5')"
      ],
      "metadata": {
        "id": "kavZvFS8F6OU"
      },
      "execution_count": null,
      "outputs": []
    },
    {
      "cell_type": "code",
      "source": [
        "print(\"Evaluating Model final\")\n",
        "bleu_final, meteor_final = evaluate_model_scores(model_final, test_data)"
      ],
      "metadata": {
        "colab": {
          "base_uri": "https://localhost:8080/"
        },
        "id": "A52zn_pRF_5y",
        "outputId": "b9e26633-87e1-495b-9382-d0ac1eea644c"
      },
      "execution_count": null,
      "outputs": [
        {
          "output_type": "stream",
          "name": "stdout",
          "text": [
            "Evaluating Model final\n",
            "Input: Aku akan mencoba berbicara dengan orang tua ku\n",
            "Output: Aku tahu ini bukan hal yang mudah , jadi aku menghargai niatmu untuk mencoba . Hubungan yang aman dimulai dari keberanian untuk mengungkapkan perasaan , meskipun itu menakutkan . Kalau kamu ingin , kita bisa sama susun kalimat yang nyaman , seperti itu . Kalau kamu ucapkan nanti .\n",
            "Input: Aku akan mencoba saranmu\n",
            "Output: Keputusanmu untuk mencoba menunjukkan kekuatan dalam dirimu yang kadang mungkin kamu lupakan . Tidak apa jika langkahnya pelan yang penting kamu tahu bahwa kamu belum tahu tidak sendirian di perjalanan ini . Aku percaya kamu bisa , dan aku ingin tahu seperti apa rasanya setelah kamu mulai .\n",
            "Input: Mengapa saya masih merasa bersalah atas perceraian orang tua saya?\n",
            "Output: Perasaan bersalah yang berlarut larut bisa muncul karena otak berusaha mencari pemahaman atas situasi yang sulit . Dalam konteks attachment , anak yang mengalami perceraian orang tua mungkin merasa bahwa stabilitas emosionalnya terganggu , sehingga mencari cara untuk mengembalikan kendali , salah satunya dengan merasa bersalah . Namun , memahami bahwa setiap individu bertanggung jawab atas pilihannya sendiri dapat membantu membebaskan diri dari perasaan tersebut . Mencari dukungan dari lingkungan yang aman seperti teman , keluarga , atau profesional dapat membantu membentuk kembali persepsi tentang hubungan dan diri dengan lebih percaya diri .\n",
            "Input: Apakah saya akan bisa menciptakan keluarga yang sehat di masa depan meski berasal dari keluarga yang bercerai?\n",
            "Output: Ya , kamu bisa . Asal kamu memiliki hak untuk belajar dari masa lalu , kamu punya hak untuk menciptakan lingkungan yang penuh kasih . Attachment positif memberi ruang baru yang sehat membantumu menciptakan hubungan yang penuh kasih . Keluargamu bisa lebih sehat dan nilai yang kamu yakini . Keluargamu yang kamu bentuk dengan cinta dan nilai yang kamu yakini .\n",
            "Input: Bagaimana cara menerima bahwa cinta antara orang tua saya sudah berakhir?\n",
            "Output: Menerima akhir dari cinta mereka bukan tanda kelemahanmu , tapi kekuatan untuk menatap hidup dengan jujur . Kadang kita butuh waktu untuk memahami bahwa perubahan tidak selalu buruk . Dalam hubungan yang aman , kita diajak untuk memeluk kenyataan tanpa kehilangan harapan . Kamu sedang menata kembali caramu mencintai dan dipedulikan dan itu hal yang luar biasa .\n",
            "Input: Bagaimana jika saya takut membuka diri karena takut akan ditinggalkan juga?\n",
            "Output: Takut membuka diri bukan berarti kamu lemah , tapi justru menunjukkan bahwa hatimu punya kedalaman . Dalam hubungan yang aman , kamu tidak harus sempurna atau selalu kuat untuk dicintai . Orang yang tepat akan menghargai prosesmu dan tidak terburu buru memintamu menyerahkan semua . Kamu berhak merasa aman sebelum membuka pintu hatimu lebih jauh .\n",
            "Input: Aku merasa overthinking\n",
            "Output: Pikiran yang terus berputar bisa membuat kamu merasa lelah , dan itu wajar . Overthinking sering kali datang dari tempat di mana kamu pernah merasa kecewa atau kehilangan , dan sekarang otakmu mencoba melindungimu . Tapi kamu tidak sendiri dalam menghadapi ini . Apa yang paling sering kamu pikirkan berulang ulang hingga membuatmu sulit tenang ?\n",
            "Input: Aku merasa sangat sedih\n",
            "Output: Aku di sini untukmu . Aku tahu semua yang sedang kamu pikirkan dan rasakan itu berat , dan tidak apa apa kalau kamu merasa sedih . Kamu tidak sendirian dalam hal ini . Aku ingin mendengarkan , kalau kamu tidak sendirian atau sesedikit atau sesedikit atau sesedikit atau sesedikit yang kamu rasakan luka di mana kamu mau .\n",
            "Input: Kapan aku bisa keluar dari perasaan ini?\n",
            "Output: Aku bangga kamu sudah bisa berbicara dan menemukan kelegaan darinya . Itu bukan hal yang mudah , dan keberanianmu sangat berarti . Setiap kali kamu merasa perlu tempat aman , bahkan ketika kamu sedang mencoba memahami dirimu sendiri . Kalau kamu sedang pelan pelan pelan pelan pelan pelan yang kamu butuhkan sekarang dan dicintai .\n",
            "📘 Average BLEU score: 0.4153 \n",
            "📙 Average METEOR score: 0.5858\n"
          ]
        }
      ]
    },
    {
      "cell_type": "code",
      "source": [
        "model_U384.load_weights('D:/skripsi-sultin/data/bot_v3_Final_U384.weights.h5')"
      ],
      "metadata": {
        "id": "zsgMaK5peLVQ"
      },
      "execution_count": null,
      "outputs": []
    },
    {
      "cell_type": "code",
      "source": [
        "print(\"Evaluating Model U384\")\n",
        "bleu_U384, meteor_U384 = evaluate_model_scores(model_U384, test_data)"
      ],
      "metadata": {
        "colab": {
          "base_uri": "https://localhost:8080/"
        },
        "id": "OBXan-qoePi4",
        "outputId": "772dc5a3-1799-485f-979b-06651e452f27"
      },
      "execution_count": null,
      "outputs": [
        {
          "output_type": "stream",
          "name": "stdout",
          "text": [
            "Evaluating Model U384\n",
            "Input: Aku akan mencoba berbicara dengan orang tua ku\n",
            "Output: Komunikasi yang sehat dengan orang tua bisa membuka banyak pintu yang sebelumnya tertutup rapat . Aku percaya kamu bisa menyampaikan isi hatimu dengan cara yang lembut tapi jujur . Aku akan terus ada di sini kalau kamu ingin cerita setelah kamu melakukannya .\n",
            "Input: Aku akan mencoba saranmu\n",
            "Output: Keputusanmu untuk mencoba menunjukkan kekuatan dalam dirimu yang kadang mungkin kamu lupakan . Tidak apa apa apa apa apa apa apa apa apa apa apa apa apa jika kamu rasakan . Apa di sini kalau kamu ingin berbicara buruk satu sama lain ?\n",
            "Input: Mengapa saya masih merasa bersalah atas perceraian orang tua saya?\n",
            "Output: Perasaan bersalah yang berlarut larut bisa muncul karena otak berusaha mencari pemahaman atas situasi yang sulit . Dalam konteks attachment , anak yang mengalami perceraian orang tua mungkin merasa bahwa stabilitas emosionalnya terganggu , sehingga mencari cara untuk mengembalikan kendali , salah satunya dengan merasa bersalah . Namun , memahami bahwa setiap individu bertanggung jawab atas pilihannya sendiri dapat membantu membebaskan diri dari perasaan tersebut . Mencari dukungan dari lingkungan yang aman seperti teman , atau profesional dapat membantu membentuk kembali persepsi dengan orang tua .\n",
            "Input: Apakah saya akan bisa menciptakan keluarga yang sehat di masa depan meski berasal dari keluarga yang bercerai?\n",
            "Output: Jangan ragu akan kemampuanmu menciptakan keluarga yang kamu impikan . Justru karena kamu tahu rasanya tumbuh di tengah ketidaksempurnaan , kamu bisa lebih sadar dan peka saat membangun relasi . Attachment positif memberi keyakinan bahwa keluarga yang sehat bisa lahir dari ketulusan , komunikasi , dan kerja sama . Dan semua itu ada dalam jangkauanmu .\n",
            "Input: Bagaimana cara menerima bahwa cinta antara orang tua saya sudah berakhir?\n",
            "Output: Menerima akhir dari cinta mereka bukan tanda kelemahanmu , tapi kekuatan untuk menatap hidup dengan jujur . Kadang kita butuh waktu untuk memahami bahwa perubahan tidak selalu buruk . Dalam hubungan yang aman , kita diajak untuk memeluk kenyataan tanpa kehilangan harapan . Kamu sedang menata kembali caramu mencintai dan dipedulikan dan itu hal yang luar biasa .\n",
            "Input: Bagaimana jika saya takut membuka diri karena takut akan ditinggalkan juga?\n",
            "Output: Rasa takut ditinggalkan setelah mengalami kehilangan adalah hal yang sangat manusiawi . Attachment positif mengajarkan bahwa rasa aman bisa dibangun secara perlahan , bukan dipaksakan . Kamu boleh mengambil waktu , dan kamu tidak harus langsung percaya sepenuhnya . Yang penting , kamu tetap memberi dirimu kesempatan untuk terhubung , meski dengan hati hati .\n",
            "Input: Aku merasa overthinking\n",
            "Output: Dalam positive attachment , kita belajar bahwa pikiran yang terus menerus muncul biasanya adalah ekspresi dari rasa takut yang belum diproses sepenuhnya . Mungkin ada cerita atau pengalaman yang terasa belum selesai . Aku di sini kalau kamu ingin pelan menceritakannya . Apakah kamu merasa ada sesuatu yang tidak bisa kamu kendalikan akhir ini ?\n",
            "Input: Aku merasa sangat sedih\n",
            "Output: Saat kamu merasa sedih , yang paling dibutuhkan adalah koneksi yang aman tempat untuk merasa diterima apa adanya . Aku di sini untuk menciptakan ruang itu untukmu . Kamu bisa cerita sebanyak atau sesedikit yang kamu mau . Hal apa yang paling kamu harap bisa berjalan berbeda belakangan ini ?\n",
            "Input: Kapan aku bisa keluar dari perasaan ini?\n",
            "Output: Rasa sakit ini tidak selamanya , meskipun rasanya seperti itu . Hal yang penting adalah kamu tidak harus menunggu semuanya hilang untuk merasa lebih baik kamu bisa mulai merasa sedikit lega dengan berbagi . Kalau kamu nyaman , aku ingin dengar cerita tentang apa yang kamu rindukan dari masa masa masa masa masa masa masa masa masa masa masa sekarang .\n",
            "📘 Average BLEU score: 0.6167\n",
            "📙 Average METEOR score: 0.7824\n"
          ]
        }
      ]
    },
    {
      "cell_type": "markdown",
      "source": [
        "Gradio"
      ],
      "metadata": {
        "id": "snIYoAHc3q4X"
      }
    },
    {
      "cell_type": "code",
      "source": [
        "model_final.load_weights('D:/skripsi-sultin/data/bot_v3_Final_NH8_E50.weights.h5')"
      ],
      "metadata": {
        "id": "U4LnuLPtVgyf"
      },
      "execution_count": null,
      "outputs": []
    },
    {
      "cell_type": "code",
      "source": [
        "print(\"Evaluating Model final\")\n",
        "bleu_NH4, meteor_NH4 = evaluate_model_scores(model_final, test_data)"
      ],
      "metadata": {
        "colab": {
          "base_uri": "https://localhost:8080/"
        },
        "id": "-g9k2bY2VlSm",
        "outputId": "c4a1885f-5ab5-46cb-cd99-dc6082d853bc"
      },
      "execution_count": null,
      "outputs": [
        {
          "output_type": "stream",
          "name": "stdout",
          "text": [
            "Evaluating Model final\n",
            "Input: Aku akan mencoba berbicara dengan orang tua ku\n",
            "Output: Keputusanmu untuk mencoba berbicara adalah bentuk usaha untuk menciptakan hubungan yang lebih sehat . Komunikasi yang jujur sering kali membuka ruang baru yang jujur dan tanpa menekan emosi . Aku percaya kamu bisa jadi langkah awal dari pemahaman dan menerima perubahan yang lebih sehat . Kamu berhak menciptakan ruang bagi diri sendiri untuk menciptakan ruang bagi yang lebih dulu .\n",
            "Input: Aku akan mencoba saranmu\n",
            "Output: Keputusanmu untuk mencoba menunjukkan kekuatan dalam dirimu yang kadang mungkin kamu lupakan . Tidak apa apa apa apa apa apa apa apa jika langkahnya pelan yang penting bagi kamu tidak harus hilang di perjalanan ini . Aku percaya kamu ingin tahu bahwa kamu mulai , dan tetap punya dukungan dan koneksi yang kamu ingin tahu rasanya setelah kamu alami .\n",
            "Input: Mengapa saya masih merasa bersalah atas perceraian orang tua saya?\n",
            "Output: Merasa bersalah adalah respon emosional yang umum , ketika terjadi perubahan situasi dalam suatu hubungan yang bermakna , misalnya hubungan Anda dengan orang tua . Rasa bersalah itu bisa diturunkan dengan beberapa cara , salah satunya adalah menggunakan perspektif attachment yang positif . Menggunakan perspektif ini , seseorang dapat memposisikan diri untuk menyadari bahwa dia tidak bertanggung jawab atas keputusan orang tua , dan pada saat yang sama meyakini bahwa apapun yang terjadi dalam hubungan antara ayah dan ibu , perasaan kasih sayang mereka kepada anak tetap ada .\n",
            "Input: Apakah saya akan bisa menciptakan keluarga yang sehat di masa depan meski berasal dari keluarga yang bercerai?\n",
            "Output: Jangan ragu akan kemampuanmu menciptakan keluarga yang kamu impikan . Justru karena kamu tahu rasanya tumbuh di tengah ketidaksempurnaan , kamu bisa lebih sadar dan peka saat membangun relasi . Attachment positif memberi keyakinan bahwa keluarga yang sehat bisa lahir dari ketulusan , komunikasi , dan kerja sama . Dan semua itu ada dalam jangkauanmu .\n",
            "Input: Bagaimana cara menerima bahwa cinta antara orang tua saya sudah berakhir?\n",
            "Output: Wajar jika terasa sulit menerima kenyataan ini , karena cinta orang tua sering menjadi dasar rasa aman kita . Tapi kamu juga sedang belajar bahwa hubungan antar manusia bisa kompleks dan berubah . Attachment yang sehat tidak memaksakan stabilitas semu , melainkan menerima perubahan dengan lembut dan penuh pengertian . Kamu tetap berhak atas cinta dan dukungan , walau bentuk keluargamu telah berubah .\n",
            "Input: Bagaimana jika saya takut membuka diri karena takut akan ditinggalkan juga?\n",
            "Output: Rasa takut ditinggalkan setelah mengalami kehilangan adalah hal yang sangat manusiawi . Attachment positif mengajarkan bahwa rasa aman bisa dibangun secara perlahan , bukan dipaksakan . Kamu boleh mengambil waktu , dan kamu tidak harus langsung percaya sepenuhnya . Yang penting , kamu tetap memberi dirimu kesempatan untuk terhubung , meski dengan hati hati .\n",
            "Input: Aku merasa overthinking\n",
            "Output: Terkadang pikiran kita bisa terasa begitu penuh , ya . Apa hal yang paling sering muncul di pikiranmu akhir akhir ini ?\n",
            "Input: Aku merasa sangat sedih\n",
            "Output: Kesedihan yang kamu rasakan valid dan penting untuk dikenali . Dalam hubungan yang aman secara emosional , kita punya ruang untuk menangis dan merasa lemah tanpa harus merasa dihakimi . Kadang , perasaan sedih itu tidak datang begitu saja ada cerita di baliknya . Bolehkah aku tahu , hal apa yang sedang kamu rindukan atau khawatirkan saat ini ?\n",
            "Input: Kapan aku bisa keluar dari perasaan ini?\n",
            "Output: Rasa sakit ini tidak selamanya , meskipun rasanya seperti itu . Hal yang penting adalah kamu tidak harus menunggu semuanya hilang untuk merasa lebih baik kamu bisa mulai merasa sedikit dari langkah kecil . Dalam hubungan yang bisa mulai merasa lebih baik kamu ragukan ?\n",
            "📘 Average BLEU score: 0.5778\n",
            "📙 Average METEOR score: 0.7504\n"
          ]
        }
      ]
    }
  ]
}